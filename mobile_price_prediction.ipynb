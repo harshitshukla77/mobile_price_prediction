{
  "cells": [
    {
      "cell_type": "code",
      "execution_count": null,
      "id": "02ef58e4",
      "metadata": {
        "id": "02ef58e4"
      },
      "outputs": [],
      "source": [
        "import time\n",
        "import re\n",
        "\n",
        "from selenium import webdriver\n",
        "from selenium.webdriver.chrome.service import Service\n",
        "from selenium.webdriver.common.by import By\n",
        "import pandas as pd\n",
        "from bs4 import BeautifulSoup\n",
        "import numpy as np\n",
        "import pandas as pd\n",
        "import seaborn as sns\n",
        "import matplotlib.pyplot as plt\n",
        "from sklearn.preprocessing import OneHotEncoder,OrdinalEncoder,LabelEncoder,FunctionTransformer,StandardScaler\n",
        "from sklearn.compose import ColumnTransformer\n",
        "from sklearn.pipeline import Pipeline\n",
        "from sklearn.model_selection  import train_test_split\n",
        "from sklearn.metrics import r2_score\n",
        "from sklearn.linear_model import LinearRegression\n",
        "from sklearn.ensemble import RandomForestRegressor\n",
        "from sklearn.model_selection import cross_val_score,GridSearchCV\n",
        "import pickle"
      ]
    },
    {
      "cell_type": "code",
      "execution_count": null,
      "id": "6bef5f01",
      "metadata": {
        "id": "6bef5f01"
      },
      "outputs": [],
      "source": [
        "import warnings\n",
        "warnings.filterwarnings('ignore')"
      ]
    },
    {
      "cell_type": "code",
      "execution_count": null,
      "id": "f26124ef",
      "metadata": {
        "id": "f26124ef"
      },
      "outputs": [],
      "source": [
        "pd.set_option(\"display.max_columns\",None)\n",
        "pd.set_option(\"display.max_rows\",None)"
      ]
    },
    {
      "cell_type": "code",
      "execution_count": null,
      "id": "b571b1b9",
      "metadata": {
        "id": "b571b1b9"
      },
      "outputs": [],
      "source": [
        "with open('C:/Users/harshit/Desktop/datasets/ipl dataset/smartprix.html','r',encoding='utf-8') as f:\n",
        "    data=f.read()\n"
      ]
    },
    {
      "cell_type": "code",
      "execution_count": null,
      "id": "33f95041",
      "metadata": {
        "id": "33f95041"
      },
      "outputs": [],
      "source": [
        "soup=BeautifulSoup(data,\"lxml\")"
      ]
    },
    {
      "cell_type": "code",
      "execution_count": null,
      "id": "b0205410",
      "metadata": {
        "id": "b0205410"
      },
      "outputs": [],
      "source": [
        "containers = soup.find_all('div',{'class':'sm-product has-tag has-features has-actions'})\n"
      ]
    },
    {
      "cell_type": "code",
      "execution_count": null,
      "id": "563414cc",
      "metadata": {
        "id": "563414cc"
      },
      "outputs": [],
      "source": [
        "names = []\n",
        "prices = []\n",
        "ratings = []\n",
        "sim = []\n",
        "processor = []\n",
        "ram = []\n",
        "battery = []\n",
        "display = []\n",
        "camera = []\n",
        "card = []\n",
        "os = []\n",
        "\n",
        "for i in soup.find_all('div',{'class':'sm-product has-tag has-features has-actions'}):\n",
        "    try:\n",
        "        names.append(i.find('h2').text)\n",
        "    except:\n",
        "        names.append(np.nan)\n",
        "    try:\n",
        "        prices.append(i.find('span',{'class':'price'}).text)\n",
        "    except:\n",
        "        price.append(np.nan)\n",
        "    try:\n",
        "        ratings.append(i.find('div',{'class':'score rank-2-bg'}).find('b').text)\n",
        "    except:\n",
        "        ratings.append(np.nan)\n",
        "\n",
        "    x = i.find('ul',{'class':'sm-feat specs'}).find_all('li')\n",
        "    try:\n",
        "        sim.append(x[0].text)\n",
        "    except:\n",
        "        sim.append(np.nan)\n",
        "    try:\n",
        "        processor.append(x[1].text)\n",
        "    except:\n",
        "        processor.append(np.nan)\n",
        "    try:\n",
        "        ram.append(x[2].text)\n",
        "    except:\n",
        "        ram.append(np.nan)\n",
        "    try:\n",
        "        battery.append(x[3].text)\n",
        "    except:\n",
        "        battery.append(np.nan)\n",
        "    try:\n",
        "        display.append(x[4].text)\n",
        "    except:\n",
        "        display.append(np.nan)\n",
        "    try:\n",
        "        camera.append(x[5].text)\n",
        "    except:\n",
        "        camera.append(np.nan)\n",
        "    try:\n",
        "        card.append(x[6].text)\n",
        "    except:\n",
        "        card.append(np.nan)\n",
        "    try:\n",
        "        os.append(x[7].text)\n",
        "    except:\n",
        "        os.append(np.nan)\n"
      ]
    },
    {
      "cell_type": "code",
      "execution_count": null,
      "id": "27199636",
      "metadata": {
        "id": "27199636"
      },
      "outputs": [],
      "source": [
        "df = pd.DataFrame({\n",
        "    'model':names,\n",
        "    'price':prices,\n",
        "    'rating':ratings,\n",
        "    'sim':sim,\n",
        "    'processor':processor,\n",
        "    'ram':ram,\n",
        "    'battery':battery,\n",
        "    'display':display,\n",
        "    'camera':camera,\n",
        "    'card':card,\n",
        "    'os':os\n",
        "})"
      ]
    },
    {
      "cell_type": "markdown",
      "id": "3f807f6a",
      "metadata": {
        "id": "3f807f6a"
      },
      "source": [
        "# Price"
      ]
    },
    {
      "cell_type": "code",
      "execution_count": null,
      "id": "cbb8cb49",
      "metadata": {
        "id": "cbb8cb49"
      },
      "outputs": [],
      "source": [
        "df[\"price\"]=df[\"price\"].str.replace(\",\",\"\")\n",
        "df[\"price\"]=df[\"price\"].str.replace(\"₹\",\"\")\n",
        "df[\"price\"]=df[\"price\"].astype(\"float\")"
      ]
    },
    {
      "cell_type": "code",
      "execution_count": null,
      "id": "dda5c134",
      "metadata": {
        "id": "dda5c134"
      },
      "outputs": [],
      "source": [
        "df=df[df[\"price\"]>5000]"
      ]
    },
    {
      "cell_type": "code",
      "execution_count": null,
      "id": "ff798bc1",
      "metadata": {
        "id": "ff798bc1",
        "outputId": "101e4d87-fda2-4a67-9083-1f9de146b379"
      },
      "outputs": [
        {
          "data": {
            "text/plain": [
              "0"
            ]
          },
          "execution_count": 9,
          "metadata": {},
          "output_type": "execute_result"
        }
      ],
      "source": [
        "df[\"price\"].isnull().sum()"
      ]
    },
    {
      "cell_type": "markdown",
      "id": "909cb509",
      "metadata": {
        "id": "909cb509"
      },
      "source": [
        "# Pixels"
      ]
    },
    {
      "cell_type": "code",
      "execution_count": null,
      "id": "d48a5bee",
      "metadata": {
        "id": "d48a5bee"
      },
      "outputs": [],
      "source": [
        "df['pixel1']=df['display'].str.extract(r'\\s([0-9]*)\\sx')\n",
        "df['pixel2']=df['display'].str.extract(r'x\\s([0-9]*)')"
      ]
    },
    {
      "cell_type": "code",
      "execution_count": null,
      "id": "074a0a4e",
      "metadata": {
        "id": "074a0a4e",
        "outputId": "22cd3517-7db7-48b8-aaaf-016e71e38e32"
      },
      "outputs": [
        {
          "data": {
            "text/plain": [
              "14"
            ]
          },
          "execution_count": 11,
          "metadata": {},
          "output_type": "execute_result"
        }
      ],
      "source": [
        "df[\"pixel1\"].isnull().sum()"
      ]
    },
    {
      "cell_type": "code",
      "execution_count": null,
      "id": "49e8982d",
      "metadata": {
        "scrolled": true,
        "id": "49e8982d"
      },
      "outputs": [],
      "source": [
        "temp=df[df[\"pixel1\"].isnull()]"
      ]
    },
    {
      "cell_type": "code",
      "execution_count": null,
      "id": "91f5045b",
      "metadata": {
        "id": "91f5045b",
        "outputId": "60f5755b-889c-4e0d-9cbe-85346419cf83"
      },
      "outputs": [
        {
          "name": "stderr",
          "output_type": "stream",
          "text": [
            "C:\\Users\\harshit\\AppData\\Local\\Temp\\ipykernel_5492\\2467469725.py:1: SettingWithCopyWarning: \n",
            "A value is trying to be set on a copy of a slice from a DataFrame\n",
            "\n",
            "See the caveats in the documentation: https://pandas.pydata.org/pandas-docs/stable/user_guide/indexing.html#returning-a-view-versus-a-copy\n",
            "  temp.drop([835,783],axis=0,inplace=True)\n"
          ]
        }
      ],
      "source": [
        "temp.drop([835,783],axis=0,inplace=True)\n",
        "temp=temp.index"
      ]
    },
    {
      "cell_type": "code",
      "execution_count": null,
      "id": "19cf7b0d",
      "metadata": {
        "id": "19cf7b0d"
      },
      "outputs": [],
      "source": [
        "df.loc[835,[\"processor\",\"ram\",\"battery\",\"display\",\"camera\",\"card\"]]=df.loc[835,[\"ram\",\"battery\",\"display\",\"camera\",\"card\",\"os\"]].values"
      ]
    },
    {
      "cell_type": "code",
      "execution_count": null,
      "id": "4419f5d0",
      "metadata": {
        "id": "4419f5d0"
      },
      "outputs": [],
      "source": [
        "df.loc[temp,['display',\"camera\",\"card\",\"os\"]]=df.loc[temp,[\"battery\",'display',\"camera\",\"card\"]].values"
      ]
    },
    {
      "cell_type": "code",
      "execution_count": null,
      "id": "170e432d",
      "metadata": {
        "id": "170e432d"
      },
      "outputs": [],
      "source": [
        "df.loc[783,[\"ram\",\"battery\",\"display\",\"camera\",\"card\",\"os\"]]=df.loc[783,[\"processor\",\"ram\",\"battery\",\"display\",\"camera\",\"card\"]].values\n"
      ]
    },
    {
      "cell_type": "code",
      "execution_count": null,
      "id": "d9a5bb6c",
      "metadata": {
        "scrolled": true,
        "id": "d9a5bb6c"
      },
      "outputs": [],
      "source": [
        "df['pixel1']=df['display'].str.extract(r'\\s([0-9]*)\\sx')\n",
        "df['pixel2']=df['display'].str.extract(r'x\\s([0-9]*)')"
      ]
    },
    {
      "cell_type": "code",
      "execution_count": null,
      "id": "391c4d9c",
      "metadata": {
        "scrolled": true,
        "id": "391c4d9c",
        "outputId": "fe17832b-eae0-414a-86bb-cbe2901cb373"
      },
      "outputs": [
        {
          "data": {
            "text/plain": [
              "0"
            ]
          },
          "execution_count": 18,
          "metadata": {},
          "output_type": "execute_result"
        }
      ],
      "source": [
        "df[\"pixel2\"].isnull().sum()"
      ]
    },
    {
      "cell_type": "code",
      "execution_count": null,
      "id": "25cf3e2f",
      "metadata": {
        "id": "25cf3e2f"
      },
      "outputs": [],
      "source": [
        "df.drop([993],axis=0,inplace=True)"
      ]
    },
    {
      "cell_type": "code",
      "execution_count": null,
      "id": "e31dcd3d",
      "metadata": {
        "scrolled": false,
        "id": "e31dcd3d"
      },
      "outputs": [],
      "source": []
    },
    {
      "cell_type": "markdown",
      "id": "89925ea4",
      "metadata": {
        "id": "89925ea4"
      },
      "source": [
        "# Company"
      ]
    },
    {
      "cell_type": "code",
      "execution_count": null,
      "id": "b8f24afd",
      "metadata": {
        "id": "b8f24afd"
      },
      "outputs": [],
      "source": [
        "df[\"company\"]=df[\"model\"].str.extract(r'([A-z]*[a-z]*)\\s')"
      ]
    },
    {
      "cell_type": "code",
      "execution_count": null,
      "id": "310e64ca",
      "metadata": {
        "id": "310e64ca",
        "outputId": "98db7889-6158-43c6-815d-ec502d628966"
      },
      "outputs": [
        {
          "data": {
            "text/plain": [
              "0"
            ]
          },
          "execution_count": 21,
          "metadata": {},
          "output_type": "execute_result"
        }
      ],
      "source": [
        "df[\"company\"].isnull().sum()"
      ]
    },
    {
      "cell_type": "code",
      "execution_count": null,
      "id": "03c6d697",
      "metadata": {
        "id": "03c6d697"
      },
      "outputs": [],
      "source": []
    },
    {
      "cell_type": "markdown",
      "id": "2726cd90",
      "metadata": {
        "id": "2726cd90"
      },
      "source": [
        "# Battery"
      ]
    },
    {
      "cell_type": "code",
      "execution_count": null,
      "id": "46a53fd3",
      "metadata": {
        "scrolled": false,
        "id": "46a53fd3"
      },
      "outputs": [],
      "source": [
        "df[\"battery_capacity\"]=df[\"battery\"].str.extract(r'([0-9]+)\\sm')"
      ]
    },
    {
      "cell_type": "code",
      "execution_count": null,
      "id": "571f072d",
      "metadata": {
        "id": "571f072d",
        "outputId": "34a86982-7e02-4c64-f86a-20407194325a"
      },
      "outputs": [
        {
          "data": {
            "text/plain": [
              "12"
            ]
          },
          "execution_count": 23,
          "metadata": {},
          "output_type": "execute_result"
        }
      ],
      "source": [
        "df[\"battery_capacity\"].isnull().sum()"
      ]
    },
    {
      "cell_type": "code",
      "execution_count": null,
      "id": "96102bef",
      "metadata": {
        "scrolled": false,
        "id": "96102bef"
      },
      "outputs": [],
      "source": [
        "df[\"charger_capacity\"]=df[\"battery\"].str.extract(r'([0-9]*)W')\n"
      ]
    },
    {
      "cell_type": "code",
      "execution_count": null,
      "id": "bbf27541",
      "metadata": {
        "scrolled": true,
        "id": "bbf27541"
      },
      "outputs": [],
      "source": [
        "df[\"fast_charging\"]=df[\"battery\"].str.extract(r'(F[a-z]*\\sC[a-z]*)')\n",
        "df[\"fast_charging\"]=df[\"fast_charging\"].apply(lambda x : 1 if x == \"Fast Charging\" else 0)"
      ]
    },
    {
      "cell_type": "code",
      "execution_count": null,
      "id": "dc840af6",
      "metadata": {
        "id": "dc840af6",
        "outputId": "49339149-1582-4436-8a69-89851da5d22d"
      },
      "outputs": [
        {
          "data": {
            "text/plain": [
              "12"
            ]
          },
          "execution_count": 26,
          "metadata": {},
          "output_type": "execute_result"
        }
      ],
      "source": [
        "df[\"battery_capacity\"].isnull().sum()"
      ]
    },
    {
      "cell_type": "code",
      "execution_count": null,
      "id": "69cc858c",
      "metadata": {
        "id": "69cc858c",
        "outputId": "d3f447bd-a495-427b-abef-3d6dc643b7b9"
      },
      "outputs": [
        {
          "data": {
            "text/plain": [
              "287"
            ]
          },
          "execution_count": 27,
          "metadata": {},
          "output_type": "execute_result"
        }
      ],
      "source": [
        "df[\"charger_capacity\"].isnull().sum()"
      ]
    },
    {
      "cell_type": "code",
      "execution_count": null,
      "id": "674ca711",
      "metadata": {
        "id": "674ca711",
        "outputId": "66e55bf1-890e-4db1-dc1d-205b2e0be578"
      },
      "outputs": [
        {
          "data": {
            "text/plain": [
              "18     141\n",
              "33     123\n",
              "25      48\n",
              "15      46\n",
              "30      35\n",
              "10      28\n",
              "65      25\n",
              "67      23\n",
              "80      19\n",
              "120     17\n",
              "44      15\n",
              "20      14\n",
              "66      13\n",
              "45       7\n",
              "150      5\n",
              "50       4\n",
              "60       3\n",
              "5        3\n",
              "68       2\n",
              "125      2\n",
              "27       2\n",
              "180      1\n",
              "19       1\n",
              "Name: charger_capacity, dtype: int64"
            ]
          },
          "execution_count": 28,
          "metadata": {},
          "output_type": "execute_result"
        }
      ],
      "source": [
        "df[\"charger_capacity\"].value_counts()"
      ]
    },
    {
      "cell_type": "markdown",
      "id": "1d914a78",
      "metadata": {
        "id": "1d914a78"
      },
      "source": [
        "\n",
        "# Ram"
      ]
    },
    {
      "cell_type": "code",
      "execution_count": null,
      "id": "75af50fa",
      "metadata": {
        "id": "75af50fa"
      },
      "outputs": [],
      "source": [
        "df[\"ram_capacity\"]=df[\"ram\"].str.extract(r'([0-9]*\\s[A-Z]B)\\sR')"
      ]
    },
    {
      "cell_type": "code",
      "execution_count": null,
      "id": "c24cb59e",
      "metadata": {
        "id": "c24cb59e"
      },
      "outputs": [],
      "source": [
        "df[\"rom\"]=df[\"ram\"].str.extract(r'([0-9]*\\sGB\\sinbuilt|[0-9]*\\sTB\\sinbuilt|[0-9]*\\sMB\\sinbuilt)')"
      ]
    },
    {
      "cell_type": "code",
      "execution_count": null,
      "id": "025c0fb6",
      "metadata": {
        "id": "025c0fb6"
      },
      "outputs": [],
      "source": []
    },
    {
      "cell_type": "markdown",
      "id": "f56b315f",
      "metadata": {
        "id": "f56b315f"
      },
      "source": [
        "#  Sim"
      ]
    },
    {
      "cell_type": "code",
      "execution_count": null,
      "id": "6655629b",
      "metadata": {
        "id": "6655629b"
      },
      "outputs": [],
      "source": [
        "df[\"5G\"]=df[\"sim\"].str.extract(r'(5G)')\n",
        "df[\"5G\"]=df[\"5G\"].apply(lambda x: \"yes\" if x==\"5G\" else \"no\")\n"
      ]
    },
    {
      "cell_type": "code",
      "execution_count": null,
      "id": "e597ffbd",
      "metadata": {
        "id": "e597ffbd"
      },
      "outputs": [],
      "source": [
        "df[\"nfc\"]=df[\"sim\"].str.extract(r'(NFC)')\n",
        "df['nfc']=df[\"nfc\"].apply(lambda x : \"yes\" if x ==\"NFC\" else \"no\")"
      ]
    },
    {
      "cell_type": "code",
      "execution_count": null,
      "id": "aa5334e7",
      "metadata": {
        "id": "aa5334e7"
      },
      "outputs": [],
      "source": []
    },
    {
      "cell_type": "code",
      "execution_count": null,
      "id": "6e819845",
      "metadata": {
        "id": "6e819845"
      },
      "outputs": [],
      "source": [
        "# data=df[\"model\"].str.split(\" \")\n",
        "# df[\"name\"]=data.apply(lambda x : x[0])     # name extract dusri tarike se"
      ]
    },
    {
      "cell_type": "markdown",
      "id": "2c382dee",
      "metadata": {
        "id": "2c382dee"
      },
      "source": [
        "# processor"
      ]
    },
    {
      "cell_type": "code",
      "execution_count": null,
      "id": "1264d6ae",
      "metadata": {
        "id": "1264d6ae"
      },
      "outputs": [],
      "source": [
        "df[\"processor_name\"]=df[\"processor\"].str.extract(r'([A-Z]+[a-z]*[0-9]*[A-Z]*)\\W')"
      ]
    },
    {
      "cell_type": "code",
      "execution_count": null,
      "id": "5825d7fe",
      "metadata": {
        "scrolled": false,
        "id": "5825d7fe",
        "outputId": "93e2fd37-7072-4051-ba30-0ee9bf4c676d"
      },
      "outputs": [
        {
          "data": {
            "text/plain": [
              "Snapdragon    308\n",
              "Helio         253\n",
              "Dimensity     107\n",
              "Exynos         48\n",
              "Bionic         40\n",
              "Unisoc         31\n",
              "Tiger          19\n",
              "Quad           16\n",
              "Qualcomm        9\n",
              "Octa            7\n",
              "A13             7\n",
              "Google          6\n",
              "SC9863A         3\n",
              "Kirin           3\n",
              "Spreadtrum      2\n",
              "Fusion          1\n",
              "UNISOC          1\n",
              "GB              1\n",
              "MT              1\n",
              "Name: processor_name, dtype: int64"
            ]
          },
          "execution_count": 35,
          "metadata": {},
          "output_type": "execute_result"
        }
      ],
      "source": [
        "df[\"processor_name\"].value_counts()"
      ]
    },
    {
      "cell_type": "code",
      "execution_count": null,
      "id": "3950e425",
      "metadata": {
        "scrolled": false,
        "id": "3950e425"
      },
      "outputs": [],
      "source": [
        "df.replace({\"processor_name\":{\"A13\":\"Bionic\",\"UNISOC\":\"Unisoc\",\"Fusion\":\"Bionic\",\"GB\":\"Unisoc\",\"MT\":\"Quad\",\"SC9863A\":\"Unisoc\"}},inplace=True)"
      ]
    },
    {
      "cell_type": "code",
      "execution_count": null,
      "id": "3d44b8fb",
      "metadata": {
        "id": "3d44b8fb",
        "outputId": "ad59eba6-9820-475e-c5fe-7cfbf4f10156"
      },
      "outputs": [
        {
          "data": {
            "text/plain": [
              "Snapdragon    308\n",
              "Helio         253\n",
              "Dimensity     107\n",
              "Exynos         48\n",
              "Bionic         48\n",
              "Unisoc         36\n",
              "Tiger          19\n",
              "Quad           17\n",
              "Qualcomm        9\n",
              "Octa            7\n",
              "Google          6\n",
              "Kirin           3\n",
              "Spreadtrum      2\n",
              "Name: processor_name, dtype: int64"
            ]
          },
          "execution_count": 37,
          "metadata": {},
          "output_type": "execute_result"
        }
      ],
      "source": [
        "df[\"processor_name\"].value_counts()"
      ]
    },
    {
      "cell_type": "code",
      "execution_count": null,
      "id": "77d735b5",
      "metadata": {
        "id": "77d735b5"
      },
      "outputs": [],
      "source": []
    },
    {
      "cell_type": "code",
      "execution_count": null,
      "id": "f80fa93d",
      "metadata": {
        "id": "f80fa93d"
      },
      "outputs": [],
      "source": [
        "df[\"processor_cores\"]=df[\"processor\"].str.extract(r'([A-Z]*[a-z]*)\\sC[a-z]*')"
      ]
    },
    {
      "cell_type": "code",
      "execution_count": null,
      "id": "c28bc441",
      "metadata": {
        "id": "c28bc441",
        "outputId": "b90ff94d-1b32-4238-ac62-3ed2d899dcc1"
      },
      "outputs": [
        {
          "data": {
            "text/html": [
              "<div>\n",
              "<style scoped>\n",
              "    .dataframe tbody tr th:only-of-type {\n",
              "        vertical-align: middle;\n",
              "    }\n",
              "\n",
              "    .dataframe tbody tr th {\n",
              "        vertical-align: top;\n",
              "    }\n",
              "\n",
              "    .dataframe thead th {\n",
              "        text-align: right;\n",
              "    }\n",
              "</style>\n",
              "<table border=\"1\" class=\"dataframe\">\n",
              "  <thead>\n",
              "    <tr style=\"text-align: right;\">\n",
              "      <th></th>\n",
              "      <th>model</th>\n",
              "      <th>price</th>\n",
              "      <th>rating</th>\n",
              "      <th>sim</th>\n",
              "      <th>processor</th>\n",
              "      <th>ram</th>\n",
              "      <th>battery</th>\n",
              "      <th>display</th>\n",
              "      <th>camera</th>\n",
              "      <th>card</th>\n",
              "      <th>...</th>\n",
              "      <th>company</th>\n",
              "      <th>battery_capacity</th>\n",
              "      <th>charger_capacity</th>\n",
              "      <th>fast_charging</th>\n",
              "      <th>ram_capacity</th>\n",
              "      <th>rom</th>\n",
              "      <th>5G</th>\n",
              "      <th>nfc</th>\n",
              "      <th>processor_name</th>\n",
              "      <th>processor_cores</th>\n",
              "    </tr>\n",
              "  </thead>\n",
              "  <tbody>\n",
              "    <tr>\n",
              "      <th>646</th>\n",
              "      <td>Lava Yuva Pro</td>\n",
              "      <td>7799.0</td>\n",
              "      <td>NaN</td>\n",
              "      <td>Dual Sim, 3G, 4G, VoLTE, Wi-Fi</td>\n",
              "      <td>Helio</td>\n",
              "      <td>3 GB RAM, 32 GB inbuilt</td>\n",
              "      <td>5000 mAh Battery with 10W Fast Charging</td>\n",
              "      <td>6.52 inches, 1600 x 720 px Display with Water ...</td>\n",
              "      <td>13 MP + Depth Sensor Triple Rear &amp; 8 MP Front ...</td>\n",
              "      <td>Memory Card Supported, upto 512 GB</td>\n",
              "      <td>...</td>\n",
              "      <td>Lava</td>\n",
              "      <td>5000</td>\n",
              "      <td>10</td>\n",
              "      <td>1</td>\n",
              "      <td>3 GB</td>\n",
              "      <td>32 GB inbuilt</td>\n",
              "      <td>no</td>\n",
              "      <td>no</td>\n",
              "      <td>NaN</td>\n",
              "      <td>NaN</td>\n",
              "    </tr>\n",
              "    <tr>\n",
              "      <th>783</th>\n",
              "      <td>Lava Z21</td>\n",
              "      <td>5299.0</td>\n",
              "      <td>NaN</td>\n",
              "      <td>Dual Sim, 3G, 4G, VoLTE, Wi-Fi</td>\n",
              "      <td>2 GB RAM, 32 GB inbuilt</td>\n",
              "      <td>2 GB RAM, 32 GB inbuilt</td>\n",
              "      <td>3100 mAh Battery</td>\n",
              "      <td>5 inches, 480 x 854 px Display</td>\n",
              "      <td>5 MP Rear &amp; 2 MP Front Camera</td>\n",
              "      <td>Memory Card Supported, upto 256 GB</td>\n",
              "      <td>...</td>\n",
              "      <td>Lava</td>\n",
              "      <td>3100</td>\n",
              "      <td>NaN</td>\n",
              "      <td>0</td>\n",
              "      <td>2 GB</td>\n",
              "      <td>32 GB inbuilt</td>\n",
              "      <td>no</td>\n",
              "      <td>no</td>\n",
              "      <td>Unisoc</td>\n",
              "      <td>NaN</td>\n",
              "    </tr>\n",
              "  </tbody>\n",
              "</table>\n",
              "<p>2 rows × 23 columns</p>\n",
              "</div>"
            ],
            "text/plain": [
              "             model   price rating                             sim  \\\n",
              "646  Lava Yuva Pro  7799.0    NaN  Dual Sim, 3G, 4G, VoLTE, Wi-Fi   \n",
              "783       Lava Z21  5299.0    NaN  Dual Sim, 3G, 4G, VoLTE, Wi-Fi   \n",
              "\n",
              "                   processor                      ram  \\\n",
              "646                    Helio  3 GB RAM, 32 GB inbuilt   \n",
              "783  2 GB RAM, 32 GB inbuilt  2 GB RAM, 32 GB inbuilt   \n",
              "\n",
              "                                     battery  \\\n",
              "646  5000 mAh Battery with 10W Fast Charging   \n",
              "783                         3100 mAh Battery   \n",
              "\n",
              "                                               display  \\\n",
              "646  6.52 inches, 1600 x 720 px Display with Water ...   \n",
              "783                     5 inches, 480 x 854 px Display   \n",
              "\n",
              "                                                camera  \\\n",
              "646  13 MP + Depth Sensor Triple Rear & 8 MP Front ...   \n",
              "783                      5 MP Rear & 2 MP Front Camera   \n",
              "\n",
              "                                   card  ... company battery_capacity  \\\n",
              "646  Memory Card Supported, upto 512 GB  ...    Lava             5000   \n",
              "783  Memory Card Supported, upto 256 GB  ...    Lava             3100   \n",
              "\n",
              "    charger_capacity fast_charging ram_capacity            rom  5G nfc  \\\n",
              "646               10             1         3 GB  32 GB inbuilt  no  no   \n",
              "783              NaN             0         2 GB  32 GB inbuilt  no  no   \n",
              "\n",
              "    processor_name processor_cores  \n",
              "646            NaN             NaN  \n",
              "783         Unisoc             NaN  \n",
              "\n",
              "[2 rows x 23 columns]"
            ]
          },
          "execution_count": 39,
          "metadata": {},
          "output_type": "execute_result"
        }
      ],
      "source": [
        "df[df[\"processor_cores\"].isnull()]"
      ]
    },
    {
      "cell_type": "code",
      "execution_count": null,
      "id": "01d89bb5",
      "metadata": {
        "id": "01d89bb5"
      },
      "outputs": [],
      "source": [
        "df[\"processor_cores\"]=df[\"processor_cores\"].fillna(\"Quad\")"
      ]
    },
    {
      "cell_type": "code",
      "execution_count": null,
      "id": "8d5e4ce5",
      "metadata": {
        "id": "8d5e4ce5"
      },
      "outputs": [],
      "source": [
        "df[\"processor_speed\"]=df[\"processor\"].str.extract(r',\\s([0-9]*\\.[0-9]+|[0-9]*)\\sGHz')"
      ]
    },
    {
      "cell_type": "code",
      "execution_count": null,
      "id": "53b4e827",
      "metadata": {
        "id": "53b4e827"
      },
      "outputs": [],
      "source": []
    },
    {
      "cell_type": "markdown",
      "id": "4c541bf1",
      "metadata": {
        "id": "4c541bf1"
      },
      "source": [
        "# Screen Size"
      ]
    },
    {
      "cell_type": "code",
      "execution_count": null,
      "id": "01d22144",
      "metadata": {
        "id": "01d22144"
      },
      "outputs": [],
      "source": [
        "df[\"screen_size\"]=df[\"display\"].str.extract(r'([0-9]*\\.[0-9]+|[0-9]*)\\sinches')"
      ]
    },
    {
      "cell_type": "code",
      "execution_count": null,
      "id": "d3a659cf",
      "metadata": {
        "id": "d3a659cf"
      },
      "outputs": [],
      "source": [
        "df['refresh_rate']=df[\"display\"].str.extract(r'([0-9]*)\\sHz')"
      ]
    },
    {
      "cell_type": "code",
      "execution_count": null,
      "id": "635934be",
      "metadata": {
        "scrolled": true,
        "id": "635934be",
        "outputId": "84dbd4ff-fe31-4b9c-c1d1-c9350e130dfc"
      },
      "outputs": [
        {
          "data": {
            "text/html": [
              "<div>\n",
              "<style scoped>\n",
              "    .dataframe tbody tr th:only-of-type {\n",
              "        vertical-align: middle;\n",
              "    }\n",
              "\n",
              "    .dataframe tbody tr th {\n",
              "        vertical-align: top;\n",
              "    }\n",
              "\n",
              "    .dataframe thead th {\n",
              "        text-align: right;\n",
              "    }\n",
              "</style>\n",
              "<table border=\"1\" class=\"dataframe\">\n",
              "  <thead>\n",
              "    <tr style=\"text-align: right;\">\n",
              "      <th></th>\n",
              "      <th>model</th>\n",
              "      <th>price</th>\n",
              "      <th>rating</th>\n",
              "      <th>sim</th>\n",
              "      <th>processor</th>\n",
              "      <th>ram</th>\n",
              "      <th>battery</th>\n",
              "      <th>display</th>\n",
              "      <th>camera</th>\n",
              "      <th>card</th>\n",
              "      <th>...</th>\n",
              "      <th>fast_charging</th>\n",
              "      <th>ram_capacity</th>\n",
              "      <th>rom</th>\n",
              "      <th>5G</th>\n",
              "      <th>nfc</th>\n",
              "      <th>processor_name</th>\n",
              "      <th>processor_cores</th>\n",
              "      <th>processor_speed</th>\n",
              "      <th>screen_size</th>\n",
              "      <th>refresh_rate</th>\n",
              "    </tr>\n",
              "  </thead>\n",
              "  <tbody>\n",
              "    <tr>\n",
              "      <th>5</th>\n",
              "      <td>Apple iPhone 14</td>\n",
              "      <td>66999.0</td>\n",
              "      <td>81</td>\n",
              "      <td>Dual Sim, 3G, 4G, 5G, VoLTE, Wi-Fi, NFC</td>\n",
              "      <td>Bionic A15, Hexa Core, 3.22 GHz Processor</td>\n",
              "      <td>6 GB RAM, 128 GB inbuilt</td>\n",
              "      <td>3279 mAh Battery with Fast Charging</td>\n",
              "      <td>6.1 inches, 1170 x 2532 px Display with Small ...</td>\n",
              "      <td>12 MP + 12 MP Dual Rear &amp; 12 MP Front Camera</td>\n",
              "      <td>Memory Card Not Supported</td>\n",
              "      <td>...</td>\n",
              "      <td>1</td>\n",
              "      <td>6 GB</td>\n",
              "      <td>128 GB inbuilt</td>\n",
              "      <td>yes</td>\n",
              "      <td>yes</td>\n",
              "      <td>Bionic</td>\n",
              "      <td>Hexa</td>\n",
              "      <td>3.22</td>\n",
              "      <td>6.1</td>\n",
              "      <td>NaN</td>\n",
              "    </tr>\n",
              "    <tr>\n",
              "      <th>9</th>\n",
              "      <td>Samsung Galaxy A23</td>\n",
              "      <td>18499.0</td>\n",
              "      <td>79</td>\n",
              "      <td>Dual Sim, 3G, 4G, VoLTE, Wi-Fi</td>\n",
              "      <td>Snapdragon  680, Octa Core, 2.4 GHz Processor</td>\n",
              "      <td>6 GB RAM, 128 GB inbuilt</td>\n",
              "      <td>5000 mAh Battery with 25W Fast Charging</td>\n",
              "      <td>6.6 inches, 1080 x 2408 px Display with Water ...</td>\n",
              "      <td>50 MP Quad Rear &amp; 8 MP Front Camera</td>\n",
              "      <td>Memory Card Supported, upto 1 TB</td>\n",
              "      <td>...</td>\n",
              "      <td>1</td>\n",
              "      <td>6 GB</td>\n",
              "      <td>128 GB inbuilt</td>\n",
              "      <td>no</td>\n",
              "      <td>no</td>\n",
              "      <td>Snapdragon</td>\n",
              "      <td>Octa</td>\n",
              "      <td>2.4</td>\n",
              "      <td>6.6</td>\n",
              "      <td>NaN</td>\n",
              "    </tr>\n",
              "    <tr>\n",
              "      <th>14</th>\n",
              "      <td>Apple iPhone 13</td>\n",
              "      <td>61999.0</td>\n",
              "      <td>79</td>\n",
              "      <td>Dual Sim, 3G, 4G, 5G, VoLTE, Wi-Fi, NFC</td>\n",
              "      <td>Bionic A15, Hexa Core, 3.22 GHz Processor</td>\n",
              "      <td>4 GB RAM, 128 GB inbuilt</td>\n",
              "      <td>3240 mAh Battery with Fast Charging</td>\n",
              "      <td>6.1 inches, 1170 x 2532 px Display with Small ...</td>\n",
              "      <td>12 MP + 12 MP Dual Rear &amp; 12 MP Front Camera</td>\n",
              "      <td>Memory Card Not Supported</td>\n",
              "      <td>...</td>\n",
              "      <td>1</td>\n",
              "      <td>4 GB</td>\n",
              "      <td>128 GB inbuilt</td>\n",
              "      <td>yes</td>\n",
              "      <td>yes</td>\n",
              "      <td>Bionic</td>\n",
              "      <td>Hexa</td>\n",
              "      <td>3.22</td>\n",
              "      <td>6.1</td>\n",
              "      <td>NaN</td>\n",
              "    </tr>\n",
              "    <tr>\n",
              "      <th>15</th>\n",
              "      <td>Vivo Y16</td>\n",
              "      <td>9999.0</td>\n",
              "      <td>65</td>\n",
              "      <td>Dual Sim, 3G, 4G, VoLTE, Wi-Fi</td>\n",
              "      <td>Helio P35, Octa Core, 2.3 GHz Processor</td>\n",
              "      <td>3 GB RAM, 32 GB inbuilt</td>\n",
              "      <td>5000 mAh Battery with 10W Fast Charging</td>\n",
              "      <td>6.51 inches, 720 x 1600 px Display with Water ...</td>\n",
              "      <td>13 MP + 2 MP Dual Rear &amp; 5 MP Front Camera</td>\n",
              "      <td>Memory Card Supported</td>\n",
              "      <td>...</td>\n",
              "      <td>1</td>\n",
              "      <td>3 GB</td>\n",
              "      <td>32 GB inbuilt</td>\n",
              "      <td>no</td>\n",
              "      <td>no</td>\n",
              "      <td>Helio</td>\n",
              "      <td>Octa</td>\n",
              "      <td>2.3</td>\n",
              "      <td>6.51</td>\n",
              "      <td>NaN</td>\n",
              "    </tr>\n",
              "    <tr>\n",
              "      <th>20</th>\n",
              "      <td>Vivo Y22</td>\n",
              "      <td>14499.0</td>\n",
              "      <td>72</td>\n",
              "      <td>Dual Sim, 3G, 4G, VoLTE, Wi-Fi</td>\n",
              "      <td>Helio G70, Octa Core, 2 GHz Processor</td>\n",
              "      <td>4 GB RAM, 64 GB inbuilt</td>\n",
              "      <td>5000 mAh Battery with 18W Fast Charging</td>\n",
              "      <td>6.55 inches, 720 x 1612 px Display with Water ...</td>\n",
              "      <td>50 MP + 2 MP Dual Rear &amp; 8 MP Front Camera</td>\n",
              "      <td>Memory Card Supported, upto 1 TB</td>\n",
              "      <td>...</td>\n",
              "      <td>1</td>\n",
              "      <td>4 GB</td>\n",
              "      <td>64 GB inbuilt</td>\n",
              "      <td>no</td>\n",
              "      <td>no</td>\n",
              "      <td>Helio</td>\n",
              "      <td>Octa</td>\n",
              "      <td>2</td>\n",
              "      <td>6.55</td>\n",
              "      <td>NaN</td>\n",
              "    </tr>\n",
              "    <tr>\n",
              "      <th>...</th>\n",
              "      <td>...</td>\n",
              "      <td>...</td>\n",
              "      <td>...</td>\n",
              "      <td>...</td>\n",
              "      <td>...</td>\n",
              "      <td>...</td>\n",
              "      <td>...</td>\n",
              "      <td>...</td>\n",
              "      <td>...</td>\n",
              "      <td>...</td>\n",
              "      <td>...</td>\n",
              "      <td>...</td>\n",
              "      <td>...</td>\n",
              "      <td>...</td>\n",
              "      <td>...</td>\n",
              "      <td>...</td>\n",
              "      <td>...</td>\n",
              "      <td>...</td>\n",
              "      <td>...</td>\n",
              "      <td>...</td>\n",
              "      <td>...</td>\n",
              "    </tr>\n",
              "    <tr>\n",
              "      <th>983</th>\n",
              "      <td>Google Pixel 2</td>\n",
              "      <td>19000.0</td>\n",
              "      <td>68</td>\n",
              "      <td>Single Sim, 3G, 4G, VoLTE, Wi-Fi, NFC</td>\n",
              "      <td>Snapdragon 835, Octa Core, 2.45 GHz Processor</td>\n",
              "      <td>4 GB RAM, 128 GB inbuilt</td>\n",
              "      <td>2700 mAh Battery with Fast Charging</td>\n",
              "      <td>5 inches, 1080 x 1920 px Display</td>\n",
              "      <td>12.2 MP Rear &amp; 8 MP Front Camera</td>\n",
              "      <td>Memory Card Not Supported</td>\n",
              "      <td>...</td>\n",
              "      <td>1</td>\n",
              "      <td>4 GB</td>\n",
              "      <td>128 GB inbuilt</td>\n",
              "      <td>no</td>\n",
              "      <td>yes</td>\n",
              "      <td>Snapdragon</td>\n",
              "      <td>Octa</td>\n",
              "      <td>2.45</td>\n",
              "      <td>5</td>\n",
              "      <td>NaN</td>\n",
              "    </tr>\n",
              "    <tr>\n",
              "      <th>984</th>\n",
              "      <td>Lyf F1s</td>\n",
              "      <td>5099.0</td>\n",
              "      <td>60</td>\n",
              "      <td>Dual Sim, 3G, 4G, VoLTE, Wi-Fi</td>\n",
              "      <td>Snapdragon 652, Octa Core, 1.8 GHz Processor</td>\n",
              "      <td>3 GB RAM, 32 GB inbuilt</td>\n",
              "      <td>3000 mAh Battery</td>\n",
              "      <td>5.2 inches, 1080 x 1920 px Display</td>\n",
              "      <td>16 MP Rear &amp; 5 MP Front Camera</td>\n",
              "      <td>Memory Card (Hybrid), upto 128 GB</td>\n",
              "      <td>...</td>\n",
              "      <td>0</td>\n",
              "      <td>3 GB</td>\n",
              "      <td>32 GB inbuilt</td>\n",
              "      <td>no</td>\n",
              "      <td>no</td>\n",
              "      <td>Snapdragon</td>\n",
              "      <td>Octa</td>\n",
              "      <td>1.8</td>\n",
              "      <td>5.2</td>\n",
              "      <td>NaN</td>\n",
              "    </tr>\n",
              "    <tr>\n",
              "      <th>989</th>\n",
              "      <td>Vivo V3</td>\n",
              "      <td>17500.0</td>\n",
              "      <td>NaN</td>\n",
              "      <td>Dual Sim, 3G, 4G, Wi-Fi</td>\n",
              "      <td>Snapdragon 616, Octa Core, 1.5 GHz Processor</td>\n",
              "      <td>3 GB RAM, 32 GB inbuilt</td>\n",
              "      <td>2550 mAh Battery</td>\n",
              "      <td>5 inches, 720 x 1280 px Display</td>\n",
              "      <td>13 MP Rear &amp; 8 MP Front Camera</td>\n",
              "      <td>Memory Card Supported, upto 128 GB</td>\n",
              "      <td>...</td>\n",
              "      <td>0</td>\n",
              "      <td>3 GB</td>\n",
              "      <td>32 GB inbuilt</td>\n",
              "      <td>no</td>\n",
              "      <td>no</td>\n",
              "      <td>Snapdragon</td>\n",
              "      <td>Octa</td>\n",
              "      <td>1.5</td>\n",
              "      <td>5</td>\n",
              "      <td>NaN</td>\n",
              "    </tr>\n",
              "    <tr>\n",
              "      <th>991</th>\n",
              "      <td>Samsung Galaxy J7</td>\n",
              "      <td>8990.0</td>\n",
              "      <td>NaN</td>\n",
              "      <td>Dual Sim, 3G, 4G, VoLTE, Wi-Fi</td>\n",
              "      <td>Exynos 7580, Octa Core, 1.5 GHz Processor</td>\n",
              "      <td>1.5 GB RAM, 16 GB inbuilt</td>\n",
              "      <td>3000 mAh Battery</td>\n",
              "      <td>5.5 inches, 720 x 1280 px Display</td>\n",
              "      <td>13 MP Rear &amp; 5 MP Front Camera</td>\n",
              "      <td>Memory Card Supported, upto 128 GB</td>\n",
              "      <td>...</td>\n",
              "      <td>0</td>\n",
              "      <td>5 GB</td>\n",
              "      <td>16 GB inbuilt</td>\n",
              "      <td>no</td>\n",
              "      <td>no</td>\n",
              "      <td>Exynos</td>\n",
              "      <td>Octa</td>\n",
              "      <td>1.5</td>\n",
              "      <td>5.5</td>\n",
              "      <td>NaN</td>\n",
              "    </tr>\n",
              "    <tr>\n",
              "      <th>992</th>\n",
              "      <td>Huawei Honor 6</td>\n",
              "      <td>9800.0</td>\n",
              "      <td>NaN</td>\n",
              "      <td>Single Sim, 3G, 4G, Wi-Fi</td>\n",
              "      <td>Kirin 920, Octa Core, 1.7 GHz Processor</td>\n",
              "      <td>3 GB RAM, 16 GB inbuilt</td>\n",
              "      <td>3100 mAh Battery</td>\n",
              "      <td>5 inches, 1080 x 1920 px Display</td>\n",
              "      <td>13 MP Rear &amp; 5 MP Front Camera</td>\n",
              "      <td>Memory Card Supported, upto 64 GB</td>\n",
              "      <td>...</td>\n",
              "      <td>0</td>\n",
              "      <td>3 GB</td>\n",
              "      <td>16 GB inbuilt</td>\n",
              "      <td>no</td>\n",
              "      <td>no</td>\n",
              "      <td>Kirin</td>\n",
              "      <td>Octa</td>\n",
              "      <td>1.7</td>\n",
              "      <td>5</td>\n",
              "      <td>NaN</td>\n",
              "    </tr>\n",
              "  </tbody>\n",
              "</table>\n",
              "<p>451 rows × 26 columns</p>\n",
              "</div>"
            ],
            "text/plain": [
              "                  model    price rating  \\\n",
              "5       Apple iPhone 14  66999.0     81   \n",
              "9    Samsung Galaxy A23  18499.0     79   \n",
              "14      Apple iPhone 13  61999.0     79   \n",
              "15             Vivo Y16   9999.0     65   \n",
              "20             Vivo Y22  14499.0     72   \n",
              "..                  ...      ...    ...   \n",
              "983      Google Pixel 2  19000.0     68   \n",
              "984             Lyf F1s   5099.0     60   \n",
              "989             Vivo V3  17500.0    NaN   \n",
              "991   Samsung Galaxy J7   8990.0    NaN   \n",
              "992      Huawei Honor 6   9800.0    NaN   \n",
              "\n",
              "                                         sim  \\\n",
              "5    Dual Sim, 3G, 4G, 5G, VoLTE, Wi-Fi, NFC   \n",
              "9             Dual Sim, 3G, 4G, VoLTE, Wi-Fi   \n",
              "14   Dual Sim, 3G, 4G, 5G, VoLTE, Wi-Fi, NFC   \n",
              "15            Dual Sim, 3G, 4G, VoLTE, Wi-Fi   \n",
              "20            Dual Sim, 3G, 4G, VoLTE, Wi-Fi   \n",
              "..                                       ...   \n",
              "983    Single Sim, 3G, 4G, VoLTE, Wi-Fi, NFC   \n",
              "984           Dual Sim, 3G, 4G, VoLTE, Wi-Fi   \n",
              "989                  Dual Sim, 3G, 4G, Wi-Fi   \n",
              "991           Dual Sim, 3G, 4G, VoLTE, Wi-Fi   \n",
              "992                Single Sim, 3G, 4G, Wi-Fi   \n",
              "\n",
              "                                         processor                        ram  \\\n",
              "5        Bionic A15, Hexa Core, 3.22 GHz Processor   6 GB RAM, 128 GB inbuilt   \n",
              "9    Snapdragon  680, Octa Core, 2.4 GHz Processor   6 GB RAM, 128 GB inbuilt   \n",
              "14       Bionic A15, Hexa Core, 3.22 GHz Processor   4 GB RAM, 128 GB inbuilt   \n",
              "15         Helio P35, Octa Core, 2.3 GHz Processor    3 GB RAM, 32 GB inbuilt   \n",
              "20           Helio G70, Octa Core, 2 GHz Processor    4 GB RAM, 64 GB inbuilt   \n",
              "..                                             ...                        ...   \n",
              "983  Snapdragon 835, Octa Core, 2.45 GHz Processor   4 GB RAM, 128 GB inbuilt   \n",
              "984   Snapdragon 652, Octa Core, 1.8 GHz Processor    3 GB RAM, 32 GB inbuilt   \n",
              "989   Snapdragon 616, Octa Core, 1.5 GHz Processor    3 GB RAM, 32 GB inbuilt   \n",
              "991      Exynos 7580, Octa Core, 1.5 GHz Processor  1.5 GB RAM, 16 GB inbuilt   \n",
              "992        Kirin 920, Octa Core, 1.7 GHz Processor    3 GB RAM, 16 GB inbuilt   \n",
              "\n",
              "                                     battery  \\\n",
              "5        3279 mAh Battery with Fast Charging   \n",
              "9    5000 mAh Battery with 25W Fast Charging   \n",
              "14       3240 mAh Battery with Fast Charging   \n",
              "15   5000 mAh Battery with 10W Fast Charging   \n",
              "20   5000 mAh Battery with 18W Fast Charging   \n",
              "..                                       ...   \n",
              "983      2700 mAh Battery with Fast Charging   \n",
              "984                         3000 mAh Battery   \n",
              "989                         2550 mAh Battery   \n",
              "991                         3000 mAh Battery   \n",
              "992                         3100 mAh Battery   \n",
              "\n",
              "                                               display  \\\n",
              "5    6.1 inches, 1170 x 2532 px Display with Small ...   \n",
              "9    6.6 inches, 1080 x 2408 px Display with Water ...   \n",
              "14   6.1 inches, 1170 x 2532 px Display with Small ...   \n",
              "15   6.51 inches, 720 x 1600 px Display with Water ...   \n",
              "20   6.55 inches, 720 x 1612 px Display with Water ...   \n",
              "..                                                 ...   \n",
              "983                   5 inches, 1080 x 1920 px Display   \n",
              "984                 5.2 inches, 1080 x 1920 px Display   \n",
              "989                    5 inches, 720 x 1280 px Display   \n",
              "991                  5.5 inches, 720 x 1280 px Display   \n",
              "992                   5 inches, 1080 x 1920 px Display   \n",
              "\n",
              "                                           camera  \\\n",
              "5    12 MP + 12 MP Dual Rear & 12 MP Front Camera   \n",
              "9             50 MP Quad Rear & 8 MP Front Camera   \n",
              "14   12 MP + 12 MP Dual Rear & 12 MP Front Camera   \n",
              "15     13 MP + 2 MP Dual Rear & 5 MP Front Camera   \n",
              "20     50 MP + 2 MP Dual Rear & 8 MP Front Camera   \n",
              "..                                            ...   \n",
              "983              12.2 MP Rear & 8 MP Front Camera   \n",
              "984                16 MP Rear & 5 MP Front Camera   \n",
              "989                13 MP Rear & 8 MP Front Camera   \n",
              "991                13 MP Rear & 5 MP Front Camera   \n",
              "992                13 MP Rear & 5 MP Front Camera   \n",
              "\n",
              "                                   card  ... fast_charging ram_capacity  \\\n",
              "5             Memory Card Not Supported  ...             1         6 GB   \n",
              "9      Memory Card Supported, upto 1 TB  ...             1         6 GB   \n",
              "14            Memory Card Not Supported  ...             1         4 GB   \n",
              "15                Memory Card Supported  ...             1         3 GB   \n",
              "20     Memory Card Supported, upto 1 TB  ...             1         4 GB   \n",
              "..                                  ...  ...           ...          ...   \n",
              "983           Memory Card Not Supported  ...             1         4 GB   \n",
              "984   Memory Card (Hybrid), upto 128 GB  ...             0         3 GB   \n",
              "989  Memory Card Supported, upto 128 GB  ...             0         3 GB   \n",
              "991  Memory Card Supported, upto 128 GB  ...             0         5 GB   \n",
              "992   Memory Card Supported, upto 64 GB  ...             0         3 GB   \n",
              "\n",
              "                rom   5G  nfc processor_name  processor_cores processor_speed  \\\n",
              "5    128 GB inbuilt  yes  yes         Bionic             Hexa            3.22   \n",
              "9    128 GB inbuilt   no   no     Snapdragon             Octa             2.4   \n",
              "14   128 GB inbuilt  yes  yes         Bionic             Hexa            3.22   \n",
              "15    32 GB inbuilt   no   no          Helio             Octa             2.3   \n",
              "20    64 GB inbuilt   no   no          Helio             Octa               2   \n",
              "..              ...  ...  ...            ...              ...             ...   \n",
              "983  128 GB inbuilt   no  yes     Snapdragon             Octa            2.45   \n",
              "984   32 GB inbuilt   no   no     Snapdragon             Octa             1.8   \n",
              "989   32 GB inbuilt   no   no     Snapdragon             Octa             1.5   \n",
              "991   16 GB inbuilt   no   no         Exynos             Octa             1.5   \n",
              "992   16 GB inbuilt   no   no          Kirin             Octa             1.7   \n",
              "\n",
              "    screen_size refresh_rate  \n",
              "5           6.1          NaN  \n",
              "9           6.6          NaN  \n",
              "14          6.1          NaN  \n",
              "15         6.51          NaN  \n",
              "20         6.55          NaN  \n",
              "..          ...          ...  \n",
              "983           5          NaN  \n",
              "984         5.2          NaN  \n",
              "989           5          NaN  \n",
              "991         5.5          NaN  \n",
              "992           5          NaN  \n",
              "\n",
              "[451 rows x 26 columns]"
            ]
          },
          "execution_count": 44,
          "metadata": {},
          "output_type": "execute_result"
        }
      ],
      "source": [
        "df[df[\"refresh_rate\"].isnull()]"
      ]
    },
    {
      "cell_type": "code",
      "execution_count": null,
      "id": "232c690b",
      "metadata": {
        "id": "232c690b"
      },
      "outputs": [],
      "source": []
    },
    {
      "cell_type": "markdown",
      "id": "d84d4ff7",
      "metadata": {
        "id": "d84d4ff7"
      },
      "source": [
        "# Camera"
      ]
    },
    {
      "cell_type": "code",
      "execution_count": null,
      "id": "cbcc70c1",
      "metadata": {
        "scrolled": true,
        "id": "cbcc70c1"
      },
      "outputs": [],
      "source": []
    },
    {
      "cell_type": "code",
      "execution_count": null,
      "id": "b6a8402c",
      "metadata": {
        "id": "b6a8402c"
      },
      "outputs": [],
      "source": [
        "df[\"rear_camera\"]=df[\"camera\"].str.extract(r'([0-9]+)\\sMP')"
      ]
    },
    {
      "cell_type": "code",
      "execution_count": null,
      "id": "af11c37c",
      "metadata": {
        "id": "af11c37c",
        "outputId": "ab12269a-deda-43b6-9168-5254c2ffcaa5"
      },
      "outputs": [
        {
          "data": {
            "text/html": [
              "<div>\n",
              "<style scoped>\n",
              "    .dataframe tbody tr th:only-of-type {\n",
              "        vertical-align: middle;\n",
              "    }\n",
              "\n",
              "    .dataframe tbody tr th {\n",
              "        vertical-align: top;\n",
              "    }\n",
              "\n",
              "    .dataframe thead th {\n",
              "        text-align: right;\n",
              "    }\n",
              "</style>\n",
              "<table border=\"1\" class=\"dataframe\">\n",
              "  <thead>\n",
              "    <tr style=\"text-align: right;\">\n",
              "      <th></th>\n",
              "      <th>model</th>\n",
              "      <th>price</th>\n",
              "      <th>rating</th>\n",
              "      <th>sim</th>\n",
              "      <th>processor</th>\n",
              "      <th>ram</th>\n",
              "      <th>battery</th>\n",
              "      <th>display</th>\n",
              "      <th>camera</th>\n",
              "      <th>card</th>\n",
              "      <th>...</th>\n",
              "      <th>ram_capacity</th>\n",
              "      <th>rom</th>\n",
              "      <th>5G</th>\n",
              "      <th>nfc</th>\n",
              "      <th>processor_name</th>\n",
              "      <th>processor_cores</th>\n",
              "      <th>processor_speed</th>\n",
              "      <th>screen_size</th>\n",
              "      <th>refresh_rate</th>\n",
              "      <th>rear_camera</th>\n",
              "    </tr>\n",
              "  </thead>\n",
              "  <tbody>\n",
              "    <tr>\n",
              "      <th>124</th>\n",
              "      <td>Samsung Galaxy Z Flip 3</td>\n",
              "      <td>69999.0</td>\n",
              "      <td>84</td>\n",
              "      <td>Single Sim, 3G, 4G, 5G, VoLTE, Wi-Fi, NFC</td>\n",
              "      <td>Snapdragon 888, Octa Core, 2.84 GHz Processor</td>\n",
              "      <td>8 GB RAM, 128 GB inbuilt</td>\n",
              "      <td>3300 mAh Battery with 15W Fast Charging</td>\n",
              "      <td>6.7 inches, 1080 x 2640 px, 120 Hz Display wit...</td>\n",
              "      <td>Foldable Display, Dual Display</td>\n",
              "      <td>12 MP + 12 MP Dual Rear &amp; 10 MP Front Camera</td>\n",
              "      <td>...</td>\n",
              "      <td>8 GB</td>\n",
              "      <td>128 GB inbuilt</td>\n",
              "      <td>yes</td>\n",
              "      <td>yes</td>\n",
              "      <td>Snapdragon</td>\n",
              "      <td>Octa</td>\n",
              "      <td>2.84</td>\n",
              "      <td>6.7</td>\n",
              "      <td>120</td>\n",
              "      <td>NaN</td>\n",
              "    </tr>\n",
              "    <tr>\n",
              "      <th>242</th>\n",
              "      <td>Samsung Galaxy Z Fold 4</td>\n",
              "      <td>146999.0</td>\n",
              "      <td>NaN</td>\n",
              "      <td>Dual Sim, 3G, 4G, 5G, VoLTE, Wi-Fi, NFC</td>\n",
              "      <td>Snapdragon  8+ Gen1, Octa Core, 3.2 GHz Processor</td>\n",
              "      <td>12 GB RAM, 256 GB inbuilt</td>\n",
              "      <td>4400 mAh Battery with 25W Fast Charging</td>\n",
              "      <td>7.6 inches, 1812 x 2176 px, 120 Hz Display wit...</td>\n",
              "      <td>Foldable Display, Dual Display</td>\n",
              "      <td>50 MP + 12 MP + 10 MP Triple Rear &amp; 10 MP + 4 ...</td>\n",
              "      <td>...</td>\n",
              "      <td>12 GB</td>\n",
              "      <td>256 GB inbuilt</td>\n",
              "      <td>yes</td>\n",
              "      <td>yes</td>\n",
              "      <td>Snapdragon</td>\n",
              "      <td>Octa</td>\n",
              "      <td>3.2</td>\n",
              "      <td>7.6</td>\n",
              "      <td>120</td>\n",
              "      <td>NaN</td>\n",
              "    </tr>\n",
              "    <tr>\n",
              "      <th>326</th>\n",
              "      <td>Samsung Galaxy Z Flip 4 5G</td>\n",
              "      <td>82999.0</td>\n",
              "      <td>88</td>\n",
              "      <td>Dual Sim, 3G, 4G, 5G, VoLTE, Wi-Fi, NFC</td>\n",
              "      <td>Snapdragon  8+ Gen1, Octa Core, 3.2 GHz Processor</td>\n",
              "      <td>8 GB RAM, 128 GB inbuilt</td>\n",
              "      <td>3700 mAh Battery with 25W Fast Charging</td>\n",
              "      <td>6.7 inches, 1080 x 2640 px, 120 Hz Display wit...</td>\n",
              "      <td>Foldable Display, Dual Display</td>\n",
              "      <td>12 MP + 12 MP Dual Rear &amp; 10 MP Front Camera</td>\n",
              "      <td>...</td>\n",
              "      <td>8 GB</td>\n",
              "      <td>128 GB inbuilt</td>\n",
              "      <td>yes</td>\n",
              "      <td>yes</td>\n",
              "      <td>Snapdragon</td>\n",
              "      <td>Octa</td>\n",
              "      <td>3.2</td>\n",
              "      <td>6.7</td>\n",
              "      <td>120</td>\n",
              "      <td>NaN</td>\n",
              "    </tr>\n",
              "    <tr>\n",
              "      <th>347</th>\n",
              "      <td>LG Wing 5G</td>\n",
              "      <td>54999.0</td>\n",
              "      <td>89</td>\n",
              "      <td>Dual Sim, 3G, 4G, 5G, VoLTE, Wi-Fi, NFC</td>\n",
              "      <td>Snapdragon  765G , Octa Core, 2.4 GHz Processor</td>\n",
              "      <td>8 GB RAM, 128 GB inbuilt</td>\n",
              "      <td>4000 mAh Battery with Fast Charging</td>\n",
              "      <td>6.8 inches, 1080 x 2460 px Display</td>\n",
              "      <td>Dual Display</td>\n",
              "      <td>64 MP + 13 MP + 12 MP Triple Rear &amp; 32 MP Fron...</td>\n",
              "      <td>...</td>\n",
              "      <td>8 GB</td>\n",
              "      <td>128 GB inbuilt</td>\n",
              "      <td>yes</td>\n",
              "      <td>yes</td>\n",
              "      <td>Snapdragon</td>\n",
              "      <td>Octa</td>\n",
              "      <td>2.4</td>\n",
              "      <td>6.8</td>\n",
              "      <td>NaN</td>\n",
              "      <td>NaN</td>\n",
              "    </tr>\n",
              "    <tr>\n",
              "      <th>438</th>\n",
              "      <td>Samsung Galaxy Z Fold 3</td>\n",
              "      <td>110999.0</td>\n",
              "      <td>89</td>\n",
              "      <td>Dual Sim, 3G, 4G, 5G, VoLTE, Wi-Fi, NFC</td>\n",
              "      <td>Snapdragon 888, Octa Core, 2.84 GHz Processor</td>\n",
              "      <td>12 GB RAM, 256 GB inbuilt</td>\n",
              "      <td>4400 mAh Battery with 25W Fast Charging</td>\n",
              "      <td>7.6 inches, 1768 x 2208 px, 120 Hz Display wit...</td>\n",
              "      <td>Foldable Display, Dual Display</td>\n",
              "      <td>12 MP + 12 MP + 12 MP Triple Rear &amp; 10 MP + 4 ...</td>\n",
              "      <td>...</td>\n",
              "      <td>12 GB</td>\n",
              "      <td>256 GB inbuilt</td>\n",
              "      <td>yes</td>\n",
              "      <td>yes</td>\n",
              "      <td>Snapdragon</td>\n",
              "      <td>Octa</td>\n",
              "      <td>2.84</td>\n",
              "      <td>7.6</td>\n",
              "      <td>120</td>\n",
              "      <td>NaN</td>\n",
              "    </tr>\n",
              "    <tr>\n",
              "      <th>527</th>\n",
              "      <td>Samsung Galaxy Z Fold 4 (12GB RAM + 1TB)</td>\n",
              "      <td>163980.0</td>\n",
              "      <td>NaN</td>\n",
              "      <td>Dual Sim, 3G, 4G, 5G, VoLTE, Wi-Fi, NFC</td>\n",
              "      <td>Snapdragon  8+ Gen1, Octa Core, 3.2 GHz Processor</td>\n",
              "      <td>12 GB RAM, 1 TB inbuilt</td>\n",
              "      <td>4400 mAh Battery with 25W Fast Charging</td>\n",
              "      <td>7.6 inches, 1812 x 2176 px, 120 Hz Display wit...</td>\n",
              "      <td>Foldable Display, Dual Display</td>\n",
              "      <td>50 MP + 12 MP + 10 MP Triple Rear &amp; 10 MP + 4 ...</td>\n",
              "      <td>...</td>\n",
              "      <td>12 GB</td>\n",
              "      <td>1 TB inbuilt</td>\n",
              "      <td>yes</td>\n",
              "      <td>yes</td>\n",
              "      <td>Snapdragon</td>\n",
              "      <td>Octa</td>\n",
              "      <td>3.2</td>\n",
              "      <td>7.6</td>\n",
              "      <td>120</td>\n",
              "      <td>NaN</td>\n",
              "    </tr>\n",
              "    <tr>\n",
              "      <th>607</th>\n",
              "      <td>Samsung Galaxy Z Fold 4 (12GB RAM + 512GB)</td>\n",
              "      <td>156999.0</td>\n",
              "      <td>NaN</td>\n",
              "      <td>Dual Sim, 3G, 4G, 5G, VoLTE, Wi-Fi, NFC</td>\n",
              "      <td>Snapdragon  8+ Gen1, Octa Core, 3.2 GHz Processor</td>\n",
              "      <td>12 GB RAM, 512 GB inbuilt</td>\n",
              "      <td>4400 mAh Battery with 25W Fast Charging</td>\n",
              "      <td>7.6 inches, 1812 x 2176 px, 120 Hz Display wit...</td>\n",
              "      <td>Foldable Display, Dual Display</td>\n",
              "      <td>50 MP + 12 MP + 10 MP Triple Rear &amp; 10 MP + 4 ...</td>\n",
              "      <td>...</td>\n",
              "      <td>12 GB</td>\n",
              "      <td>512 GB inbuilt</td>\n",
              "      <td>yes</td>\n",
              "      <td>yes</td>\n",
              "      <td>Snapdragon</td>\n",
              "      <td>Octa</td>\n",
              "      <td>3.2</td>\n",
              "      <td>7.6</td>\n",
              "      <td>120</td>\n",
              "      <td>NaN</td>\n",
              "    </tr>\n",
              "    <tr>\n",
              "      <th>663</th>\n",
              "      <td>Samsung Galaxy Z Flip 3 5G (8GB RAM + 256GB)</td>\n",
              "      <td>83999.0</td>\n",
              "      <td>85</td>\n",
              "      <td>Single Sim, 3G, 4G, 5G, VoLTE, Wi-Fi, NFC</td>\n",
              "      <td>Snapdragon 888, Octa Core, 2.84 GHz Processor</td>\n",
              "      <td>8 GB RAM, 256 GB inbuilt</td>\n",
              "      <td>3300 mAh Battery with 15W Fast Charging</td>\n",
              "      <td>6.7 inches, 1080 x 2640 px, 120 Hz Display wit...</td>\n",
              "      <td>Foldable Display, Dual Display</td>\n",
              "      <td>12 MP + 12 MP Dual Rear &amp; 10 MP Front Camera</td>\n",
              "      <td>...</td>\n",
              "      <td>8 GB</td>\n",
              "      <td>256 GB inbuilt</td>\n",
              "      <td>yes</td>\n",
              "      <td>yes</td>\n",
              "      <td>Snapdragon</td>\n",
              "      <td>Octa</td>\n",
              "      <td>2.84</td>\n",
              "      <td>6.7</td>\n",
              "      <td>120</td>\n",
              "      <td>NaN</td>\n",
              "    </tr>\n",
              "    <tr>\n",
              "      <th>703</th>\n",
              "      <td>Samsung Galaxy Z Flip 4 (8GB RAM + 256GB)</td>\n",
              "      <td>94999.0</td>\n",
              "      <td>88</td>\n",
              "      <td>Dual Sim, 3G, 4G, 5G, VoLTE, Wi-Fi, NFC</td>\n",
              "      <td>Snapdragon  8+ Gen1, Octa Core, 3.2 GHz Processor</td>\n",
              "      <td>8 GB RAM, 256 GB inbuilt</td>\n",
              "      <td>3700 mAh Battery with 25W Fast Charging</td>\n",
              "      <td>6.7 inches, 1080 x 2640 px, 120 Hz Display wit...</td>\n",
              "      <td>Foldable Display, Dual Display</td>\n",
              "      <td>12 MP + 12 MP Dual Rear &amp; 10 MP Front Camera</td>\n",
              "      <td>...</td>\n",
              "      <td>8 GB</td>\n",
              "      <td>256 GB inbuilt</td>\n",
              "      <td>yes</td>\n",
              "      <td>yes</td>\n",
              "      <td>Snapdragon</td>\n",
              "      <td>Octa</td>\n",
              "      <td>3.2</td>\n",
              "      <td>6.7</td>\n",
              "      <td>120</td>\n",
              "      <td>NaN</td>\n",
              "    </tr>\n",
              "    <tr>\n",
              "      <th>792</th>\n",
              "      <td>Samsung Galaxy Z Fold 3 5G (12GB RAM + 512GB)</td>\n",
              "      <td>101800.0</td>\n",
              "      <td>89</td>\n",
              "      <td>Dual Sim, 3G, 4G, 5G, VoLTE, Wi-Fi, NFC</td>\n",
              "      <td>Snapdragon 888, Octa Core, 2.84 GHz Processor</td>\n",
              "      <td>12 GB RAM, 512 GB inbuilt</td>\n",
              "      <td>4400 mAh Battery with 25W Fast Charging</td>\n",
              "      <td>7.6 inches, 1768 x 2208 px, 120 Hz Display wit...</td>\n",
              "      <td>Foldable Display, Dual Display</td>\n",
              "      <td>12 MP + 12 MP + 12 MP Triple Rear &amp; 10 MP + 4 ...</td>\n",
              "      <td>...</td>\n",
              "      <td>12 GB</td>\n",
              "      <td>512 GB inbuilt</td>\n",
              "      <td>yes</td>\n",
              "      <td>yes</td>\n",
              "      <td>Snapdragon</td>\n",
              "      <td>Octa</td>\n",
              "      <td>2.84</td>\n",
              "      <td>7.6</td>\n",
              "      <td>120</td>\n",
              "      <td>NaN</td>\n",
              "    </tr>\n",
              "  </tbody>\n",
              "</table>\n",
              "<p>10 rows × 27 columns</p>\n",
              "</div>"
            ],
            "text/plain": [
              "                                             model     price rating  \\\n",
              "124                        Samsung Galaxy Z Flip 3   69999.0     84   \n",
              "242                        Samsung Galaxy Z Fold 4  146999.0    NaN   \n",
              "326                     Samsung Galaxy Z Flip 4 5G   82999.0     88   \n",
              "347                                     LG Wing 5G   54999.0     89   \n",
              "438                        Samsung Galaxy Z Fold 3  110999.0     89   \n",
              "527       Samsung Galaxy Z Fold 4 (12GB RAM + 1TB)  163980.0    NaN   \n",
              "607     Samsung Galaxy Z Fold 4 (12GB RAM + 512GB)  156999.0    NaN   \n",
              "663   Samsung Galaxy Z Flip 3 5G (8GB RAM + 256GB)   83999.0     85   \n",
              "703      Samsung Galaxy Z Flip 4 (8GB RAM + 256GB)   94999.0     88   \n",
              "792  Samsung Galaxy Z Fold 3 5G (12GB RAM + 512GB)  101800.0     89   \n",
              "\n",
              "                                           sim  \\\n",
              "124  Single Sim, 3G, 4G, 5G, VoLTE, Wi-Fi, NFC   \n",
              "242    Dual Sim, 3G, 4G, 5G, VoLTE, Wi-Fi, NFC   \n",
              "326    Dual Sim, 3G, 4G, 5G, VoLTE, Wi-Fi, NFC   \n",
              "347    Dual Sim, 3G, 4G, 5G, VoLTE, Wi-Fi, NFC   \n",
              "438    Dual Sim, 3G, 4G, 5G, VoLTE, Wi-Fi, NFC   \n",
              "527    Dual Sim, 3G, 4G, 5G, VoLTE, Wi-Fi, NFC   \n",
              "607    Dual Sim, 3G, 4G, 5G, VoLTE, Wi-Fi, NFC   \n",
              "663  Single Sim, 3G, 4G, 5G, VoLTE, Wi-Fi, NFC   \n",
              "703    Dual Sim, 3G, 4G, 5G, VoLTE, Wi-Fi, NFC   \n",
              "792    Dual Sim, 3G, 4G, 5G, VoLTE, Wi-Fi, NFC   \n",
              "\n",
              "                                             processor  \\\n",
              "124      Snapdragon 888, Octa Core, 2.84 GHz Processor   \n",
              "242  Snapdragon  8+ Gen1, Octa Core, 3.2 GHz Processor   \n",
              "326  Snapdragon  8+ Gen1, Octa Core, 3.2 GHz Processor   \n",
              "347    Snapdragon  765G , Octa Core, 2.4 GHz Processor   \n",
              "438      Snapdragon 888, Octa Core, 2.84 GHz Processor   \n",
              "527  Snapdragon  8+ Gen1, Octa Core, 3.2 GHz Processor   \n",
              "607  Snapdragon  8+ Gen1, Octa Core, 3.2 GHz Processor   \n",
              "663      Snapdragon 888, Octa Core, 2.84 GHz Processor   \n",
              "703  Snapdragon  8+ Gen1, Octa Core, 3.2 GHz Processor   \n",
              "792      Snapdragon 888, Octa Core, 2.84 GHz Processor   \n",
              "\n",
              "                           ram                                  battery  \\\n",
              "124   8 GB RAM, 128 GB inbuilt  3300 mAh Battery with 15W Fast Charging   \n",
              "242  12 GB RAM, 256 GB inbuilt  4400 mAh Battery with 25W Fast Charging   \n",
              "326   8 GB RAM, 128 GB inbuilt  3700 mAh Battery with 25W Fast Charging   \n",
              "347   8 GB RAM, 128 GB inbuilt      4000 mAh Battery with Fast Charging   \n",
              "438  12 GB RAM, 256 GB inbuilt  4400 mAh Battery with 25W Fast Charging   \n",
              "527    12 GB RAM, 1 TB inbuilt  4400 mAh Battery with 25W Fast Charging   \n",
              "607  12 GB RAM, 512 GB inbuilt  4400 mAh Battery with 25W Fast Charging   \n",
              "663   8 GB RAM, 256 GB inbuilt  3300 mAh Battery with 15W Fast Charging   \n",
              "703   8 GB RAM, 256 GB inbuilt  3700 mAh Battery with 25W Fast Charging   \n",
              "792  12 GB RAM, 512 GB inbuilt  4400 mAh Battery with 25W Fast Charging   \n",
              "\n",
              "                                               display  \\\n",
              "124  6.7 inches, 1080 x 2640 px, 120 Hz Display wit...   \n",
              "242  7.6 inches, 1812 x 2176 px, 120 Hz Display wit...   \n",
              "326  6.7 inches, 1080 x 2640 px, 120 Hz Display wit...   \n",
              "347                 6.8 inches, 1080 x 2460 px Display   \n",
              "438  7.6 inches, 1768 x 2208 px, 120 Hz Display wit...   \n",
              "527  7.6 inches, 1812 x 2176 px, 120 Hz Display wit...   \n",
              "607  7.6 inches, 1812 x 2176 px, 120 Hz Display wit...   \n",
              "663  6.7 inches, 1080 x 2640 px, 120 Hz Display wit...   \n",
              "703  6.7 inches, 1080 x 2640 px, 120 Hz Display wit...   \n",
              "792  7.6 inches, 1768 x 2208 px, 120 Hz Display wit...   \n",
              "\n",
              "                             camera  \\\n",
              "124  Foldable Display, Dual Display   \n",
              "242  Foldable Display, Dual Display   \n",
              "326  Foldable Display, Dual Display   \n",
              "347                    Dual Display   \n",
              "438  Foldable Display, Dual Display   \n",
              "527  Foldable Display, Dual Display   \n",
              "607  Foldable Display, Dual Display   \n",
              "663  Foldable Display, Dual Display   \n",
              "703  Foldable Display, Dual Display   \n",
              "792  Foldable Display, Dual Display   \n",
              "\n",
              "                                                  card  ... ram_capacity  \\\n",
              "124       12 MP + 12 MP Dual Rear & 10 MP Front Camera  ...         8 GB   \n",
              "242  50 MP + 12 MP + 10 MP Triple Rear & 10 MP + 4 ...  ...        12 GB   \n",
              "326       12 MP + 12 MP Dual Rear & 10 MP Front Camera  ...         8 GB   \n",
              "347  64 MP + 13 MP + 12 MP Triple Rear & 32 MP Fron...  ...         8 GB   \n",
              "438  12 MP + 12 MP + 12 MP Triple Rear & 10 MP + 4 ...  ...        12 GB   \n",
              "527  50 MP + 12 MP + 10 MP Triple Rear & 10 MP + 4 ...  ...        12 GB   \n",
              "607  50 MP + 12 MP + 10 MP Triple Rear & 10 MP + 4 ...  ...        12 GB   \n",
              "663       12 MP + 12 MP Dual Rear & 10 MP Front Camera  ...         8 GB   \n",
              "703       12 MP + 12 MP Dual Rear & 10 MP Front Camera  ...         8 GB   \n",
              "792  12 MP + 12 MP + 12 MP Triple Rear & 10 MP + 4 ...  ...        12 GB   \n",
              "\n",
              "                rom   5G  nfc processor_name processor_cores  processor_speed  \\\n",
              "124  128 GB inbuilt  yes  yes     Snapdragon            Octa             2.84   \n",
              "242  256 GB inbuilt  yes  yes     Snapdragon            Octa              3.2   \n",
              "326  128 GB inbuilt  yes  yes     Snapdragon            Octa              3.2   \n",
              "347  128 GB inbuilt  yes  yes     Snapdragon            Octa              2.4   \n",
              "438  256 GB inbuilt  yes  yes     Snapdragon            Octa             2.84   \n",
              "527    1 TB inbuilt  yes  yes     Snapdragon            Octa              3.2   \n",
              "607  512 GB inbuilt  yes  yes     Snapdragon            Octa              3.2   \n",
              "663  256 GB inbuilt  yes  yes     Snapdragon            Octa             2.84   \n",
              "703  256 GB inbuilt  yes  yes     Snapdragon            Octa              3.2   \n",
              "792  512 GB inbuilt  yes  yes     Snapdragon            Octa             2.84   \n",
              "\n",
              "    screen_size refresh_rate rear_camera  \n",
              "124         6.7          120         NaN  \n",
              "242         7.6          120         NaN  \n",
              "326         6.7          120         NaN  \n",
              "347         6.8          NaN         NaN  \n",
              "438         7.6          120         NaN  \n",
              "527         7.6          120         NaN  \n",
              "607         7.6          120         NaN  \n",
              "663         6.7          120         NaN  \n",
              "703         6.7          120         NaN  \n",
              "792         7.6          120         NaN  \n",
              "\n",
              "[10 rows x 27 columns]"
            ]
          },
          "execution_count": 46,
          "metadata": {},
          "output_type": "execute_result"
        }
      ],
      "source": [
        "temp=df[df[\"rear_camera\"].isnull()].index\n",
        "df[df[\"rear_camera\"].isnull()]"
      ]
    },
    {
      "cell_type": "markdown",
      "id": "5eb21fb0",
      "metadata": {
        "id": "5eb21fb0"
      },
      "source": []
    },
    {
      "cell_type": "code",
      "execution_count": null,
      "id": "f2e3e49f",
      "metadata": {
        "id": "f2e3e49f"
      },
      "outputs": [],
      "source": []
    },
    {
      "cell_type": "code",
      "execution_count": null,
      "id": "759edd83",
      "metadata": {
        "scrolled": true,
        "id": "759edd83"
      },
      "outputs": [],
      "source": [
        "df.loc[temp,[\"camera\",\"card\"]]=df.loc[temp,[\"card\",\"os\"]].values"
      ]
    },
    {
      "cell_type": "code",
      "execution_count": null,
      "id": "1a0a88c4",
      "metadata": {
        "id": "1a0a88c4"
      },
      "outputs": [],
      "source": [
        "df[\"rear_camera\"]=df[\"camera\"].str.extract(r'([0-9]+)\\sMP')\n"
      ]
    },
    {
      "cell_type": "code",
      "execution_count": null,
      "id": "2d4a55c2",
      "metadata": {
        "id": "2d4a55c2"
      },
      "outputs": [],
      "source": [
        "df[\"rear_camera_count\"]=df[\"camera\"].str.extract(r'(T[a-z]*|Dual|Q[a-z]*)\\s[A-za-z\\s]*&')\n"
      ]
    },
    {
      "cell_type": "code",
      "execution_count": null,
      "id": "16bd2f8c",
      "metadata": {
        "id": "16bd2f8c"
      },
      "outputs": [],
      "source": [
        "\n",
        "df[\"rear_camera_count\"]=df[\"rear_camera_count\"].fillna(\"single\")"
      ]
    },
    {
      "cell_type": "code",
      "execution_count": null,
      "id": "e22922bb",
      "metadata": {
        "id": "e22922bb",
        "outputId": "efcfad86-657b-471e-cc60-42c9485aecdd"
      },
      "outputs": [
        {
          "data": {
            "text/plain": [
              "Triple    407\n",
              "Dual      196\n",
              "Quad      161\n",
              "single    100\n",
              "Name: rear_camera_count, dtype: int64"
            ]
          },
          "execution_count": 51,
          "metadata": {},
          "output_type": "execute_result"
        }
      ],
      "source": [
        "df[\"rear_camera_count\"].value_counts()"
      ]
    },
    {
      "cell_type": "code",
      "execution_count": null,
      "id": "68521f0d",
      "metadata": {
        "id": "68521f0d"
      },
      "outputs": [],
      "source": []
    },
    {
      "cell_type": "code",
      "execution_count": null,
      "id": "17b341d2",
      "metadata": {
        "id": "17b341d2"
      },
      "outputs": [],
      "source": [
        "df[\"front_camera\"]=df[\"camera\"].str.extract(r'&\\s([0-9]+|[0-9]*\\.[0-9]+)\\sMP')"
      ]
    },
    {
      "cell_type": "code",
      "execution_count": null,
      "id": "aa4220d3",
      "metadata": {
        "id": "aa4220d3"
      },
      "outputs": [],
      "source": [
        "df[\"front_camera_count\"]=df[\"camera\"].str.extract(r'(T[a-z]*|Dual*|Q[a-z]*)\\sFront').fillna(\"Single\")"
      ]
    },
    {
      "cell_type": "code",
      "execution_count": null,
      "id": "8aefbc13",
      "metadata": {
        "id": "8aefbc13",
        "outputId": "9b14c698-d40e-4b76-d1f0-4199eb2b427c"
      },
      "outputs": [
        {
          "data": {
            "text/html": [
              "<div>\n",
              "<style scoped>\n",
              "    .dataframe tbody tr th:only-of-type {\n",
              "        vertical-align: middle;\n",
              "    }\n",
              "\n",
              "    .dataframe tbody tr th {\n",
              "        vertical-align: top;\n",
              "    }\n",
              "\n",
              "    .dataframe thead th {\n",
              "        text-align: right;\n",
              "    }\n",
              "</style>\n",
              "<table border=\"1\" class=\"dataframe\">\n",
              "  <thead>\n",
              "    <tr style=\"text-align: right;\">\n",
              "      <th></th>\n",
              "      <th>model</th>\n",
              "      <th>price</th>\n",
              "      <th>rating</th>\n",
              "      <th>sim</th>\n",
              "      <th>processor</th>\n",
              "      <th>ram</th>\n",
              "      <th>battery</th>\n",
              "      <th>display</th>\n",
              "      <th>camera</th>\n",
              "      <th>card</th>\n",
              "      <th>...</th>\n",
              "      <th>nfc</th>\n",
              "      <th>processor_name</th>\n",
              "      <th>processor_cores</th>\n",
              "      <th>processor_speed</th>\n",
              "      <th>screen_size</th>\n",
              "      <th>refresh_rate</th>\n",
              "      <th>rear_camera</th>\n",
              "      <th>rear_camera_count</th>\n",
              "      <th>front_camera</th>\n",
              "      <th>front_camera_count</th>\n",
              "    </tr>\n",
              "  </thead>\n",
              "  <tbody>\n",
              "    <tr>\n",
              "      <th>925</th>\n",
              "      <td>CAT S42</td>\n",
              "      <td>21999.0</td>\n",
              "      <td>62</td>\n",
              "      <td>Dual Sim, 3G, 4G, Wi-Fi</td>\n",
              "      <td>Helio A20, Deca Core, 1.8 GHz Processor</td>\n",
              "      <td>3 GB RAM, 32 GB inbuilt</td>\n",
              "      <td>4200 mAh Battery</td>\n",
              "      <td>5.5 inches, 1440 x 720 px Display</td>\n",
              "      <td>13 MP Rear Camera</td>\n",
              "      <td>Memory Card (Hybrid), upto 128 GB</td>\n",
              "      <td>...</td>\n",
              "      <td>no</td>\n",
              "      <td>Helio</td>\n",
              "      <td>Deca</td>\n",
              "      <td>1.8</td>\n",
              "      <td>5.5</td>\n",
              "      <td>NaN</td>\n",
              "      <td>13</td>\n",
              "      <td>single</td>\n",
              "      <td>NaN</td>\n",
              "      <td>Single</td>\n",
              "    </tr>\n",
              "  </tbody>\n",
              "</table>\n",
              "<p>1 rows × 30 columns</p>\n",
              "</div>"
            ],
            "text/plain": [
              "       model    price rating                      sim  \\\n",
              "925  CAT S42  21999.0     62  Dual Sim, 3G, 4G, Wi-Fi   \n",
              "\n",
              "                                   processor                      ram  \\\n",
              "925  Helio A20, Deca Core, 1.8 GHz Processor  3 GB RAM, 32 GB inbuilt   \n",
              "\n",
              "              battery                            display             camera  \\\n",
              "925  4200 mAh Battery  5.5 inches, 1440 x 720 px Display  13 MP Rear Camera   \n",
              "\n",
              "                                  card  ... nfc processor_name  \\\n",
              "925  Memory Card (Hybrid), upto 128 GB  ...  no          Helio   \n",
              "\n",
              "    processor_cores processor_speed screen_size refresh_rate  rear_camera  \\\n",
              "925            Deca             1.8         5.5          NaN           13   \n",
              "\n",
              "    rear_camera_count front_camera front_camera_count  \n",
              "925            single          NaN             Single  \n",
              "\n",
              "[1 rows x 30 columns]"
            ]
          },
          "execution_count": 54,
          "metadata": {},
          "output_type": "execute_result"
        }
      ],
      "source": [
        "df[df[\"front_camera\"].isnull()]"
      ]
    },
    {
      "cell_type": "code",
      "execution_count": null,
      "id": "7ef31cd3",
      "metadata": {
        "id": "7ef31cd3"
      },
      "outputs": [],
      "source": []
    },
    {
      "cell_type": "markdown",
      "id": "ed79fa1f",
      "metadata": {
        "id": "ed79fa1f"
      },
      "source": [
        "# os"
      ]
    },
    {
      "cell_type": "code",
      "execution_count": null,
      "id": "73551f9b",
      "metadata": {
        "id": "73551f9b"
      },
      "outputs": [],
      "source": []
    },
    {
      "cell_type": "code",
      "execution_count": null,
      "id": "bf7d5b31",
      "metadata": {
        "id": "bf7d5b31"
      },
      "outputs": [],
      "source": [
        "df[\"os_type\"]=df[\"os\"].str.extract(r'(A[a-z]*|iOS|Ho[a-z]*|Bla[a-z]*)')"
      ]
    },
    {
      "cell_type": "code",
      "execution_count": null,
      "id": "65adeecd",
      "metadata": {
        "id": "65adeecd"
      },
      "outputs": [],
      "source": [
        "temp=df[df[\"os_type\"].isnull()].index"
      ]
    },
    {
      "cell_type": "code",
      "execution_count": null,
      "id": "8af59741",
      "metadata": {
        "id": "8af59741"
      },
      "outputs": [],
      "source": [
        "df.loc[temp,\"os\"]=df.loc[temp,\"card\"]"
      ]
    },
    {
      "cell_type": "code",
      "execution_count": null,
      "id": "dd208b51",
      "metadata": {
        "id": "dd208b51",
        "outputId": "ec9ee624-4ca9-4029-d0bd-1c5865a303be"
      },
      "outputs": [
        {
          "data": {
            "text/html": [
              "<div>\n",
              "<style scoped>\n",
              "    .dataframe tbody tr th:only-of-type {\n",
              "        vertical-align: middle;\n",
              "    }\n",
              "\n",
              "    .dataframe tbody tr th {\n",
              "        vertical-align: top;\n",
              "    }\n",
              "\n",
              "    .dataframe thead th {\n",
              "        text-align: right;\n",
              "    }\n",
              "</style>\n",
              "<table border=\"1\" class=\"dataframe\">\n",
              "  <thead>\n",
              "    <tr style=\"text-align: right;\">\n",
              "      <th></th>\n",
              "      <th>rating</th>\n",
              "      <th>sim</th>\n",
              "      <th>processor</th>\n",
              "      <th>ram</th>\n",
              "      <th>battery</th>\n",
              "      <th>display</th>\n",
              "      <th>camera</th>\n",
              "      <th>card</th>\n",
              "      <th>os</th>\n",
              "      <th>pixel1</th>\n",
              "      <th>pixel2</th>\n",
              "    </tr>\n",
              "  </thead>\n",
              "  <tbody>\n",
              "    <tr>\n",
              "      <th>8</th>\n",
              "      <td>84</td>\n",
              "      <td>Dual Sim, 3G, 4G, 5G, VoLTE, Wi-Fi, NFC</td>\n",
              "      <td>Dimensity  1300, Octa Core, 3 GHz Processor</td>\n",
              "      <td>8 GB RAM, 128 GB inbuilt</td>\n",
              "      <td>4500 mAh Battery with 80W Fast Charging</td>\n",
              "      <td>6.43 inches, 1080 x 2400 px, 90 Hz Display wit...</td>\n",
              "      <td>50 MP + 8 MP + 2 MP Triple Rear &amp; 32 MP Front ...</td>\n",
              "      <td>Android v12</td>\n",
              "      <td>Android v12</td>\n",
              "      <td>1080</td>\n",
              "      <td>2400</td>\n",
              "    </tr>\n",
              "    <tr>\n",
              "      <th>11</th>\n",
              "      <td>79</td>\n",
              "      <td>Dual Sim, 3G, 4G, 5G, VoLTE, Wi-Fi, IR Blaster</td>\n",
              "      <td>Dimensity 1080, Octa Core, 2.6 GHz Processor</td>\n",
              "      <td>6 GB RAM, 128 GB inbuilt</td>\n",
              "      <td>5000 mAh Battery with 67W Fast Charging</td>\n",
              "      <td>6.67 inches, 1080 x 2400 px, 120 Hz Display wi...</td>\n",
              "      <td>50 MP + 8 MP + 2 MP Triple Rear &amp; 16 MP Front ...</td>\n",
              "      <td>Android v12</td>\n",
              "      <td>Android v12</td>\n",
              "      <td>1080</td>\n",
              "      <td>2400</td>\n",
              "    </tr>\n",
              "    <tr>\n",
              "      <th>12</th>\n",
              "      <td>85</td>\n",
              "      <td>Dual Sim, 3G, 4G, 5G, VoLTE, Wi-Fi, NFC</td>\n",
              "      <td>Snapdragon 778G Plus, Octa Core, 2.5 GHz Proce...</td>\n",
              "      <td>8 GB RAM, 128 GB inbuilt</td>\n",
              "      <td>4500 mAh Battery with 33W Fast Charging</td>\n",
              "      <td>6.55 inches, 1080 x 2400 px, 120 Hz Display wi...</td>\n",
              "      <td>50 MP + 50 MP Dual Rear &amp; 16 MP Front Camera</td>\n",
              "      <td>Android v12</td>\n",
              "      <td>Android v12</td>\n",
              "      <td>1080</td>\n",
              "      <td>2400</td>\n",
              "    </tr>\n",
              "    <tr>\n",
              "      <th>17</th>\n",
              "      <td>85</td>\n",
              "      <td>Dual Sim, 3G, 4G, 5G, VoLTE, Wi-Fi</td>\n",
              "      <td>Dimensity 1300, Octa Core, 3 GHz Processor</td>\n",
              "      <td>8 GB RAM, 128 GB inbuilt</td>\n",
              "      <td>4830 mAh Battery with 66W Fast Charging</td>\n",
              "      <td>6.56 inches, 1080 x 2376 px, 120 Hz Display wi...</td>\n",
              "      <td>64 MP + 8 MP + 2 MP Triple Rear &amp; 32 MP Front ...</td>\n",
              "      <td>Android v12</td>\n",
              "      <td>Android v12</td>\n",
              "      <td>1080</td>\n",
              "      <td>2376</td>\n",
              "    </tr>\n",
              "    <tr>\n",
              "      <th>18</th>\n",
              "      <td>86</td>\n",
              "      <td>Dual Sim, 3G, 4G, 5G, VoLTE, Wi-Fi, NFC</td>\n",
              "      <td>Dimensity 8100 Max, Octa Core, 2.85 GHz Processor</td>\n",
              "      <td>8 GB RAM, 128 GB inbuilt</td>\n",
              "      <td>5000 mAh Battery with 80W Fast Charging</td>\n",
              "      <td>6.7 inches, 1080 x 2412 px, 120 Hz Display wit...</td>\n",
              "      <td>50 MP + 8 MP + 2 MP Triple Rear &amp; 16 MP Front ...</td>\n",
              "      <td>Android v12</td>\n",
              "      <td>Android v12</td>\n",
              "      <td>1080</td>\n",
              "      <td>2412</td>\n",
              "    </tr>\n",
              "    <tr>\n",
              "      <th>...</th>\n",
              "      <td>...</td>\n",
              "      <td>...</td>\n",
              "      <td>...</td>\n",
              "      <td>...</td>\n",
              "      <td>...</td>\n",
              "      <td>...</td>\n",
              "      <td>...</td>\n",
              "      <td>...</td>\n",
              "      <td>...</td>\n",
              "      <td>...</td>\n",
              "      <td>...</td>\n",
              "    </tr>\n",
              "    <tr>\n",
              "      <th>835</th>\n",
              "      <td>75</td>\n",
              "      <td>Dual Sim, 3G, 4G, VoLTE, Wi-Fi</td>\n",
              "      <td>Helio G90T, Octa Core, 2.05 GHz Processor</td>\n",
              "      <td>4 GB RAM, 64 GB inbuilt</td>\n",
              "      <td>4300 mAh Battery with 30W Fast Charging</td>\n",
              "      <td>6.5 inches, 1080 x 2400 px, 90 Hz Display with...</td>\n",
              "      <td>48 MP Quad Rear &amp; 16 MP Front Camera</td>\n",
              "      <td>Memory Card Supported, upto 256 GB</td>\n",
              "      <td>Memory Card Supported, upto 256 GB</td>\n",
              "      <td>1080</td>\n",
              "      <td>2400</td>\n",
              "    </tr>\n",
              "    <tr>\n",
              "      <th>880</th>\n",
              "      <td>85</td>\n",
              "      <td>Dual Sim, 3G, 4G, 5G, VoLTE, Wi-Fi, NFC</td>\n",
              "      <td>Dimensity  8100, Octa Core, 2.85 GHz Processor</td>\n",
              "      <td>12 GB RAM, 256 GB inbuilt</td>\n",
              "      <td>5000 mAh Battery with 150W Fast Charging</td>\n",
              "      <td>6.7 inches, 1080 x 2412 px, 120 Hz Display wit...</td>\n",
              "      <td>50 MP + 8 MP + 2 MP Triple Rear &amp; 16 MP Front ...</td>\n",
              "      <td>Android v12</td>\n",
              "      <td>Android v12</td>\n",
              "      <td>1080</td>\n",
              "      <td>2412</td>\n",
              "    </tr>\n",
              "    <tr>\n",
              "      <th>893</th>\n",
              "      <td>83</td>\n",
              "      <td>Dual Sim, 3G, 4G, 5G, VoLTE, Wi-Fi, NFC</td>\n",
              "      <td>Snapdragon 870, Octa Core, 3.2 GHz Processor</td>\n",
              "      <td>12 GB RAM, 256 GB inbuilt</td>\n",
              "      <td>5000 mAh Battery with 65W Fast Charging</td>\n",
              "      <td>6.62 inches, 2400 x 1080 px, 120 Hz Display wi...</td>\n",
              "      <td>64 MP + 8 MP + 2 MP Triple Rear &amp; 16 MP Front ...</td>\n",
              "      <td>Android v11</td>\n",
              "      <td>Android v11</td>\n",
              "      <td>2400</td>\n",
              "      <td>1080</td>\n",
              "    </tr>\n",
              "    <tr>\n",
              "      <th>917</th>\n",
              "      <td>89</td>\n",
              "      <td>Dual Sim, 3G, 4G, 5G, VoLTE, Wi-Fi, NFC</td>\n",
              "      <td>Exynos 2100, Octa Core, 2.9 GHz Processor</td>\n",
              "      <td>8 GB RAM, 256 GB inbuilt</td>\n",
              "      <td>4800 mAh Battery with 25W Fast Charging</td>\n",
              "      <td>6.7 inches, 1080 x 2400 px, 120 Hz Display wit...</td>\n",
              "      <td>64 MP + 12 MP + 12 MP Triple Rear &amp; 10 MP Fron...</td>\n",
              "      <td>Android v10</td>\n",
              "      <td>Android v10</td>\n",
              "      <td>1080</td>\n",
              "      <td>2400</td>\n",
              "    </tr>\n",
              "    <tr>\n",
              "      <th>942</th>\n",
              "      <td>66</td>\n",
              "      <td>Dual Sim, 3G, 4G, VoLTE, Wi-Fi, NFC</td>\n",
              "      <td>A13 Bionic, Hexa Core, 2.65 GHz Processor</td>\n",
              "      <td>3 GB RAM, 256 GB inbuilt</td>\n",
              "      <td>1821 mAh Battery with 18W Fast Charging</td>\n",
              "      <td>4.7 inches, 750 x 1334 px Display</td>\n",
              "      <td>12 MP Rear &amp; 7 MP Front Camera</td>\n",
              "      <td>iOS v13</td>\n",
              "      <td>iOS v13</td>\n",
              "      <td>750</td>\n",
              "      <td>1334</td>\n",
              "    </tr>\n",
              "  </tbody>\n",
              "</table>\n",
              "<p>120 rows × 11 columns</p>\n",
              "</div>"
            ],
            "text/plain": [
              "    rating                                             sim  \\\n",
              "8       84         Dual Sim, 3G, 4G, 5G, VoLTE, Wi-Fi, NFC   \n",
              "11      79  Dual Sim, 3G, 4G, 5G, VoLTE, Wi-Fi, IR Blaster   \n",
              "12      85         Dual Sim, 3G, 4G, 5G, VoLTE, Wi-Fi, NFC   \n",
              "17      85              Dual Sim, 3G, 4G, 5G, VoLTE, Wi-Fi   \n",
              "18      86         Dual Sim, 3G, 4G, 5G, VoLTE, Wi-Fi, NFC   \n",
              "..     ...                                             ...   \n",
              "835     75                  Dual Sim, 3G, 4G, VoLTE, Wi-Fi   \n",
              "880     85         Dual Sim, 3G, 4G, 5G, VoLTE, Wi-Fi, NFC   \n",
              "893     83         Dual Sim, 3G, 4G, 5G, VoLTE, Wi-Fi, NFC   \n",
              "917     89         Dual Sim, 3G, 4G, 5G, VoLTE, Wi-Fi, NFC   \n",
              "942     66             Dual Sim, 3G, 4G, VoLTE, Wi-Fi, NFC   \n",
              "\n",
              "                                             processor  \\\n",
              "8          Dimensity  1300, Octa Core, 3 GHz Processor   \n",
              "11        Dimensity 1080, Octa Core, 2.6 GHz Processor   \n",
              "12   Snapdragon 778G Plus, Octa Core, 2.5 GHz Proce...   \n",
              "17          Dimensity 1300, Octa Core, 3 GHz Processor   \n",
              "18   Dimensity 8100 Max, Octa Core, 2.85 GHz Processor   \n",
              "..                                                 ...   \n",
              "835          Helio G90T, Octa Core, 2.05 GHz Processor   \n",
              "880     Dimensity  8100, Octa Core, 2.85 GHz Processor   \n",
              "893       Snapdragon 870, Octa Core, 3.2 GHz Processor   \n",
              "917          Exynos 2100, Octa Core, 2.9 GHz Processor   \n",
              "942          A13 Bionic, Hexa Core, 2.65 GHz Processor   \n",
              "\n",
              "                           ram                                   battery  \\\n",
              "8     8 GB RAM, 128 GB inbuilt   4500 mAh Battery with 80W Fast Charging   \n",
              "11    6 GB RAM, 128 GB inbuilt   5000 mAh Battery with 67W Fast Charging   \n",
              "12    8 GB RAM, 128 GB inbuilt   4500 mAh Battery with 33W Fast Charging   \n",
              "17    8 GB RAM, 128 GB inbuilt   4830 mAh Battery with 66W Fast Charging   \n",
              "18    8 GB RAM, 128 GB inbuilt   5000 mAh Battery with 80W Fast Charging   \n",
              "..                         ...                                       ...   \n",
              "835    4 GB RAM, 64 GB inbuilt   4300 mAh Battery with 30W Fast Charging   \n",
              "880  12 GB RAM, 256 GB inbuilt  5000 mAh Battery with 150W Fast Charging   \n",
              "893  12 GB RAM, 256 GB inbuilt   5000 mAh Battery with 65W Fast Charging   \n",
              "917   8 GB RAM, 256 GB inbuilt   4800 mAh Battery with 25W Fast Charging   \n",
              "942   3 GB RAM, 256 GB inbuilt   1821 mAh Battery with 18W Fast Charging   \n",
              "\n",
              "                                               display  \\\n",
              "8    6.43 inches, 1080 x 2400 px, 90 Hz Display wit...   \n",
              "11   6.67 inches, 1080 x 2400 px, 120 Hz Display wi...   \n",
              "12   6.55 inches, 1080 x 2400 px, 120 Hz Display wi...   \n",
              "17   6.56 inches, 1080 x 2376 px, 120 Hz Display wi...   \n",
              "18   6.7 inches, 1080 x 2412 px, 120 Hz Display wit...   \n",
              "..                                                 ...   \n",
              "835  6.5 inches, 1080 x 2400 px, 90 Hz Display with...   \n",
              "880  6.7 inches, 1080 x 2412 px, 120 Hz Display wit...   \n",
              "893  6.62 inches, 2400 x 1080 px, 120 Hz Display wi...   \n",
              "917  6.7 inches, 1080 x 2400 px, 120 Hz Display wit...   \n",
              "942                  4.7 inches, 750 x 1334 px Display   \n",
              "\n",
              "                                                camera  \\\n",
              "8    50 MP + 8 MP + 2 MP Triple Rear & 32 MP Front ...   \n",
              "11   50 MP + 8 MP + 2 MP Triple Rear & 16 MP Front ...   \n",
              "12        50 MP + 50 MP Dual Rear & 16 MP Front Camera   \n",
              "17   64 MP + 8 MP + 2 MP Triple Rear & 32 MP Front ...   \n",
              "18   50 MP + 8 MP + 2 MP Triple Rear & 16 MP Front ...   \n",
              "..                                                 ...   \n",
              "835               48 MP Quad Rear & 16 MP Front Camera   \n",
              "880  50 MP + 8 MP + 2 MP Triple Rear & 16 MP Front ...   \n",
              "893  64 MP + 8 MP + 2 MP Triple Rear & 16 MP Front ...   \n",
              "917  64 MP + 12 MP + 12 MP Triple Rear & 10 MP Fron...   \n",
              "942                     12 MP Rear & 7 MP Front Camera   \n",
              "\n",
              "                                   card                                  os  \\\n",
              "8                           Android v12                         Android v12   \n",
              "11                          Android v12                         Android v12   \n",
              "12                          Android v12                         Android v12   \n",
              "17                          Android v12                         Android v12   \n",
              "18                          Android v12                         Android v12   \n",
              "..                                  ...                                 ...   \n",
              "835  Memory Card Supported, upto 256 GB  Memory Card Supported, upto 256 GB   \n",
              "880                         Android v12                         Android v12   \n",
              "893                         Android v11                         Android v11   \n",
              "917                         Android v10                         Android v10   \n",
              "942                             iOS v13                             iOS v13   \n",
              "\n",
              "    pixel1 pixel2  \n",
              "8     1080   2400  \n",
              "11    1080   2400  \n",
              "12    1080   2400  \n",
              "17    1080   2376  \n",
              "18    1080   2412  \n",
              "..     ...    ...  \n",
              "835   1080   2400  \n",
              "880   1080   2412  \n",
              "893   2400   1080  \n",
              "917   1080   2400  \n",
              "942    750   1334  \n",
              "\n",
              "[120 rows x 11 columns]"
            ]
          },
          "execution_count": 58,
          "metadata": {},
          "output_type": "execute_result"
        }
      ],
      "source": [
        "df[df[\"os_type\"].isnull()].iloc[:,2:13]   # just checking if values are changed or not"
      ]
    },
    {
      "cell_type": "code",
      "execution_count": null,
      "id": "68a6447a",
      "metadata": {
        "id": "68a6447a"
      },
      "outputs": [],
      "source": [
        "df[\"os_type\"]=df[\"os\"].str.extract(r'(A[a-z]*|iOS|Ho[a-z]*|Bla[a-z]*)')"
      ]
    },
    {
      "cell_type": "code",
      "execution_count": null,
      "id": "3242bd53",
      "metadata": {
        "id": "3242bd53"
      },
      "outputs": [],
      "source": [
        "df[\"os_type\"]=df[\"os_type\"].fillna(\"Android\")"
      ]
    },
    {
      "cell_type": "code",
      "execution_count": null,
      "id": "feaa9391",
      "metadata": {
        "id": "feaa9391",
        "outputId": "fcbc727c-b3bc-483d-8f2b-ddf9fa397d9b"
      },
      "outputs": [
        {
          "data": {
            "text/plain": [
              "Android       814\n",
              "iOS            48\n",
              "Hongmeng        1\n",
              "Blackberry      1\n",
              "Name: os_type, dtype: int64"
            ]
          },
          "execution_count": 61,
          "metadata": {},
          "output_type": "execute_result"
        }
      ],
      "source": [
        "df[\"os_type\"].value_counts()"
      ]
    },
    {
      "cell_type": "code",
      "execution_count": null,
      "id": "98888a66",
      "metadata": {
        "id": "98888a66"
      },
      "outputs": [],
      "source": []
    },
    {
      "cell_type": "markdown",
      "id": "253e1827",
      "metadata": {
        "id": "253e1827"
      },
      "source": [
        "# Cleaning Data"
      ]
    },
    {
      "cell_type": "code",
      "execution_count": null,
      "id": "033c35ff",
      "metadata": {
        "id": "033c35ff"
      },
      "outputs": [],
      "source": [
        "dfnew = df.iloc[:,11:]\n",
        "dfnew=pd.concat([dfnew,df[[\"price\",\"rating\"]]],axis=1)"
      ]
    },
    {
      "cell_type": "code",
      "execution_count": null,
      "id": "22aa6cbf",
      "metadata": {
        "id": "22aa6cbf"
      },
      "outputs": [],
      "source": []
    },
    {
      "cell_type": "code",
      "execution_count": null,
      "id": "78bce1e4",
      "metadata": {
        "id": "78bce1e4",
        "outputId": "8956f68a-112c-4443-ed8f-43d6856b1f6a"
      },
      "outputs": [
        {
          "data": {
            "text/plain": [
              "Index(['pixel1', 'pixel2', 'company', 'battery_capacity', 'charger_capacity',\n",
              "       'fast_charging', 'ram_capacity', 'rom', '5G', 'nfc', 'processor_name',\n",
              "       'processor_cores', 'processor_speed', 'screen_size', 'refresh_rate',\n",
              "       'rear_camera', 'rear_camera_count', 'front_camera',\n",
              "       'front_camera_count', 'os_type', 'price', 'rating'],\n",
              "      dtype='object')"
            ]
          },
          "execution_count": 63,
          "metadata": {},
          "output_type": "execute_result"
        }
      ],
      "source": [
        "dfnew.columns"
      ]
    },
    {
      "cell_type": "code",
      "execution_count": null,
      "id": "f100ce96",
      "metadata": {
        "id": "f100ce96",
        "outputId": "1fedb300-0f7e-40b1-8588-e20e15b4908a"
      },
      "outputs": [
        {
          "data": {
            "text/plain": [
              "pixel1                 object\n",
              "pixel2                 object\n",
              "company                object\n",
              "battery_capacity       object\n",
              "charger_capacity       object\n",
              "fast_charging           int64\n",
              "ram_capacity           object\n",
              "rom                    object\n",
              "5G                     object\n",
              "nfc                    object\n",
              "processor_name         object\n",
              "processor_cores        object\n",
              "processor_speed        object\n",
              "screen_size            object\n",
              "refresh_rate           object\n",
              "rear_camera            object\n",
              "rear_camera_count      object\n",
              "front_camera           object\n",
              "front_camera_count     object\n",
              "os_type                object\n",
              "price                 float64\n",
              "rating                 object\n",
              "dtype: object"
            ]
          },
          "execution_count": 64,
          "metadata": {},
          "output_type": "execute_result"
        }
      ],
      "source": [
        "dfnew.dtypes"
      ]
    },
    {
      "cell_type": "code",
      "execution_count": null,
      "id": "c9ebec50",
      "metadata": {
        "id": "c9ebec50",
        "outputId": "f88fc9c6-dd95-4e01-c11b-bf36f1644e20"
      },
      "outputs": [
        {
          "data": {
            "text/html": [
              "<div>\n",
              "<style scoped>\n",
              "    .dataframe tbody tr th:only-of-type {\n",
              "        vertical-align: middle;\n",
              "    }\n",
              "\n",
              "    .dataframe tbody tr th {\n",
              "        vertical-align: top;\n",
              "    }\n",
              "\n",
              "    .dataframe thead th {\n",
              "        text-align: right;\n",
              "    }\n",
              "</style>\n",
              "<table border=\"1\" class=\"dataframe\">\n",
              "  <thead>\n",
              "    <tr style=\"text-align: right;\">\n",
              "      <th></th>\n",
              "      <th>pixel1</th>\n",
              "      <th>pixel2</th>\n",
              "      <th>company</th>\n",
              "      <th>battery_capacity</th>\n",
              "      <th>charger_capacity</th>\n",
              "      <th>fast_charging</th>\n",
              "      <th>ram_capacity</th>\n",
              "      <th>rom</th>\n",
              "      <th>5G</th>\n",
              "      <th>nfc</th>\n",
              "      <th>...</th>\n",
              "      <th>processor_speed</th>\n",
              "      <th>screen_size</th>\n",
              "      <th>refresh_rate</th>\n",
              "      <th>rear_camera</th>\n",
              "      <th>rear_camera_count</th>\n",
              "      <th>front_camera</th>\n",
              "      <th>front_camera_count</th>\n",
              "      <th>os_type</th>\n",
              "      <th>price</th>\n",
              "      <th>rating</th>\n",
              "    </tr>\n",
              "  </thead>\n",
              "  <tbody>\n",
              "    <tr>\n",
              "      <th>0</th>\n",
              "      <td>1080</td>\n",
              "      <td>2412</td>\n",
              "      <td>OnePlus</td>\n",
              "      <td>5000</td>\n",
              "      <td>33</td>\n",
              "      <td>1</td>\n",
              "      <td>6 GB</td>\n",
              "      <td>128 GB inbuilt</td>\n",
              "      <td>yes</td>\n",
              "      <td>no</td>\n",
              "      <td>...</td>\n",
              "      <td>2.2</td>\n",
              "      <td>6.59</td>\n",
              "      <td>120</td>\n",
              "      <td>64</td>\n",
              "      <td>Triple</td>\n",
              "      <td>16</td>\n",
              "      <td>Single</td>\n",
              "      <td>Android</td>\n",
              "      <td>18999.0</td>\n",
              "      <td>81</td>\n",
              "    </tr>\n",
              "    <tr>\n",
              "      <th>1</th>\n",
              "      <td>1080</td>\n",
              "      <td>2408</td>\n",
              "      <td>Samsung</td>\n",
              "      <td>5000</td>\n",
              "      <td>15</td>\n",
              "      <td>1</td>\n",
              "      <td>4 GB</td>\n",
              "      <td>64 GB inbuilt</td>\n",
              "      <td>yes</td>\n",
              "      <td>no</td>\n",
              "      <td>...</td>\n",
              "      <td>2.4</td>\n",
              "      <td>6.6</td>\n",
              "      <td>90</td>\n",
              "      <td>50</td>\n",
              "      <td>Triple</td>\n",
              "      <td>13</td>\n",
              "      <td>Single</td>\n",
              "      <td>Android</td>\n",
              "      <td>16499.0</td>\n",
              "      <td>75</td>\n",
              "    </tr>\n",
              "    <tr>\n",
              "      <th>2</th>\n",
              "      <td>1080</td>\n",
              "      <td>2408</td>\n",
              "      <td>Samsung</td>\n",
              "      <td>5000</td>\n",
              "      <td>25</td>\n",
              "      <td>1</td>\n",
              "      <td>6 GB</td>\n",
              "      <td>128 GB inbuilt</td>\n",
              "      <td>yes</td>\n",
              "      <td>yes</td>\n",
              "      <td>...</td>\n",
              "      <td>2.2</td>\n",
              "      <td>6.6</td>\n",
              "      <td>120</td>\n",
              "      <td>50</td>\n",
              "      <td>Triple</td>\n",
              "      <td>8</td>\n",
              "      <td>Single</td>\n",
              "      <td>Android</td>\n",
              "      <td>16999.0</td>\n",
              "      <td>80</td>\n",
              "    </tr>\n",
              "    <tr>\n",
              "      <th>3</th>\n",
              "      <td>1080</td>\n",
              "      <td>2400</td>\n",
              "      <td>Motorola</td>\n",
              "      <td>5000</td>\n",
              "      <td>NaN</td>\n",
              "      <td>1</td>\n",
              "      <td>6 GB</td>\n",
              "      <td>128 GB inbuilt</td>\n",
              "      <td>yes</td>\n",
              "      <td>no</td>\n",
              "      <td>...</td>\n",
              "      <td>2.2</td>\n",
              "      <td>6.55</td>\n",
              "      <td>120</td>\n",
              "      <td>50</td>\n",
              "      <td>Triple</td>\n",
              "      <td>16</td>\n",
              "      <td>Single</td>\n",
              "      <td>Android</td>\n",
              "      <td>14999.0</td>\n",
              "      <td>81</td>\n",
              "    </tr>\n",
              "    <tr>\n",
              "      <th>4</th>\n",
              "      <td>1080</td>\n",
              "      <td>2412</td>\n",
              "      <td>Realme</td>\n",
              "      <td>5000</td>\n",
              "      <td>67</td>\n",
              "      <td>1</td>\n",
              "      <td>6 GB</td>\n",
              "      <td>128 GB inbuilt</td>\n",
              "      <td>yes</td>\n",
              "      <td>no</td>\n",
              "      <td>...</td>\n",
              "      <td>2.6</td>\n",
              "      <td>6.7</td>\n",
              "      <td>120</td>\n",
              "      <td>108</td>\n",
              "      <td>Triple</td>\n",
              "      <td>16</td>\n",
              "      <td>Single</td>\n",
              "      <td>Android</td>\n",
              "      <td>24999.0</td>\n",
              "      <td>82</td>\n",
              "    </tr>\n",
              "  </tbody>\n",
              "</table>\n",
              "<p>5 rows × 22 columns</p>\n",
              "</div>"
            ],
            "text/plain": [
              "  pixel1 pixel2   company battery_capacity charger_capacity  fast_charging  \\\n",
              "0   1080   2412   OnePlus             5000               33              1   \n",
              "1   1080   2408   Samsung             5000               15              1   \n",
              "2   1080   2408   Samsung             5000               25              1   \n",
              "3   1080   2400  Motorola             5000              NaN              1   \n",
              "4   1080   2412    Realme             5000               67              1   \n",
              "\n",
              "  ram_capacity             rom   5G  nfc  ... processor_speed screen_size  \\\n",
              "0         6 GB  128 GB inbuilt  yes   no  ...             2.2        6.59   \n",
              "1         4 GB   64 GB inbuilt  yes   no  ...             2.4         6.6   \n",
              "2         6 GB  128 GB inbuilt  yes  yes  ...             2.2         6.6   \n",
              "3         6 GB  128 GB inbuilt  yes   no  ...             2.2        6.55   \n",
              "4         6 GB  128 GB inbuilt  yes   no  ...             2.6         6.7   \n",
              "\n",
              "  refresh_rate rear_camera rear_camera_count front_camera front_camera_count  \\\n",
              "0          120          64            Triple           16             Single   \n",
              "1           90          50            Triple           13             Single   \n",
              "2          120          50            Triple            8             Single   \n",
              "3          120          50            Triple           16             Single   \n",
              "4          120         108            Triple           16             Single   \n",
              "\n",
              "   os_type    price rating  \n",
              "0  Android  18999.0     81  \n",
              "1  Android  16499.0     75  \n",
              "2  Android  16999.0     80  \n",
              "3  Android  14999.0     81  \n",
              "4  Android  24999.0     82  \n",
              "\n",
              "[5 rows x 22 columns]"
            ]
          },
          "execution_count": 65,
          "metadata": {},
          "output_type": "execute_result"
        }
      ],
      "source": [
        "dfnew.head()"
      ]
    },
    {
      "cell_type": "code",
      "execution_count": null,
      "id": "7acf88ad",
      "metadata": {
        "id": "7acf88ad"
      },
      "outputs": [],
      "source": [
        "col=[\"pixel1\",\"pixel2\",\"battery_capacity\",\"charger_capacity\",\"refresh_rate\",\"rear_camera\",\"rating\",\"fast_charging\"]\n",
        "dfnew[[\"processor_speed\",\"screen_size\",\"front_camera\"]]=dfnew[[\"processor_speed\",\"screen_size\",\"front_camera\"]].astype(\"float\")\n",
        "dfnew[col]=df[col].astype(\"Int64\")"
      ]
    },
    {
      "cell_type": "code",
      "execution_count": null,
      "id": "6f2f2f22",
      "metadata": {
        "id": "6f2f2f22",
        "outputId": "1c027603-734c-4b1f-befa-d6a6e67b3877"
      },
      "outputs": [
        {
          "data": {
            "text/plain": [
              "pixel1                  Int64\n",
              "pixel2                  Int64\n",
              "company                object\n",
              "battery_capacity        Int64\n",
              "charger_capacity        Int64\n",
              "fast_charging           Int64\n",
              "ram_capacity           object\n",
              "rom                    object\n",
              "5G                     object\n",
              "nfc                    object\n",
              "processor_name         object\n",
              "processor_cores        object\n",
              "processor_speed       float64\n",
              "screen_size           float64\n",
              "refresh_rate            Int64\n",
              "rear_camera             Int64\n",
              "rear_camera_count      object\n",
              "front_camera          float64\n",
              "front_camera_count     object\n",
              "os_type                object\n",
              "price                 float64\n",
              "rating                  Int64\n",
              "dtype: object"
            ]
          },
          "execution_count": 67,
          "metadata": {},
          "output_type": "execute_result"
        }
      ],
      "source": [
        "dfnew.dtypes"
      ]
    },
    {
      "cell_type": "code",
      "execution_count": null,
      "id": "5f9925aa",
      "metadata": {
        "id": "5f9925aa",
        "outputId": "158595c2-bbeb-4972-918a-08e607427a61"
      },
      "outputs": [
        {
          "data": {
            "text/html": [
              "<div>\n",
              "<style scoped>\n",
              "    .dataframe tbody tr th:only-of-type {\n",
              "        vertical-align: middle;\n",
              "    }\n",
              "\n",
              "    .dataframe tbody tr th {\n",
              "        vertical-align: top;\n",
              "    }\n",
              "\n",
              "    .dataframe thead th {\n",
              "        text-align: right;\n",
              "    }\n",
              "</style>\n",
              "<table border=\"1\" class=\"dataframe\">\n",
              "  <thead>\n",
              "    <tr style=\"text-align: right;\">\n",
              "      <th></th>\n",
              "      <th>pixel1</th>\n",
              "      <th>pixel2</th>\n",
              "      <th>company</th>\n",
              "      <th>battery_capacity</th>\n",
              "      <th>charger_capacity</th>\n",
              "      <th>fast_charging</th>\n",
              "      <th>ram_capacity</th>\n",
              "      <th>rom</th>\n",
              "      <th>5G</th>\n",
              "      <th>nfc</th>\n",
              "      <th>...</th>\n",
              "      <th>processor_speed</th>\n",
              "      <th>screen_size</th>\n",
              "      <th>refresh_rate</th>\n",
              "      <th>rear_camera</th>\n",
              "      <th>rear_camera_count</th>\n",
              "      <th>front_camera</th>\n",
              "      <th>front_camera_count</th>\n",
              "      <th>os_type</th>\n",
              "      <th>price</th>\n",
              "      <th>rating</th>\n",
              "    </tr>\n",
              "  </thead>\n",
              "  <tbody>\n",
              "    <tr>\n",
              "      <th>0</th>\n",
              "      <td>1080</td>\n",
              "      <td>2412</td>\n",
              "      <td>OnePlus</td>\n",
              "      <td>5000</td>\n",
              "      <td>33</td>\n",
              "      <td>1</td>\n",
              "      <td>6 GB</td>\n",
              "      <td>128 GB inbuilt</td>\n",
              "      <td>yes</td>\n",
              "      <td>no</td>\n",
              "      <td>...</td>\n",
              "      <td>2.2</td>\n",
              "      <td>6.59</td>\n",
              "      <td>120</td>\n",
              "      <td>64</td>\n",
              "      <td>Triple</td>\n",
              "      <td>16.0</td>\n",
              "      <td>Single</td>\n",
              "      <td>Android</td>\n",
              "      <td>18999.0</td>\n",
              "      <td>81</td>\n",
              "    </tr>\n",
              "    <tr>\n",
              "      <th>1</th>\n",
              "      <td>1080</td>\n",
              "      <td>2408</td>\n",
              "      <td>Samsung</td>\n",
              "      <td>5000</td>\n",
              "      <td>15</td>\n",
              "      <td>1</td>\n",
              "      <td>4 GB</td>\n",
              "      <td>64 GB inbuilt</td>\n",
              "      <td>yes</td>\n",
              "      <td>no</td>\n",
              "      <td>...</td>\n",
              "      <td>2.4</td>\n",
              "      <td>6.60</td>\n",
              "      <td>90</td>\n",
              "      <td>50</td>\n",
              "      <td>Triple</td>\n",
              "      <td>13.0</td>\n",
              "      <td>Single</td>\n",
              "      <td>Android</td>\n",
              "      <td>16499.0</td>\n",
              "      <td>75</td>\n",
              "    </tr>\n",
              "    <tr>\n",
              "      <th>2</th>\n",
              "      <td>1080</td>\n",
              "      <td>2408</td>\n",
              "      <td>Samsung</td>\n",
              "      <td>5000</td>\n",
              "      <td>25</td>\n",
              "      <td>1</td>\n",
              "      <td>6 GB</td>\n",
              "      <td>128 GB inbuilt</td>\n",
              "      <td>yes</td>\n",
              "      <td>yes</td>\n",
              "      <td>...</td>\n",
              "      <td>2.2</td>\n",
              "      <td>6.60</td>\n",
              "      <td>120</td>\n",
              "      <td>50</td>\n",
              "      <td>Triple</td>\n",
              "      <td>8.0</td>\n",
              "      <td>Single</td>\n",
              "      <td>Android</td>\n",
              "      <td>16999.0</td>\n",
              "      <td>80</td>\n",
              "    </tr>\n",
              "    <tr>\n",
              "      <th>3</th>\n",
              "      <td>1080</td>\n",
              "      <td>2400</td>\n",
              "      <td>Motorola</td>\n",
              "      <td>5000</td>\n",
              "      <td>&lt;NA&gt;</td>\n",
              "      <td>1</td>\n",
              "      <td>6 GB</td>\n",
              "      <td>128 GB inbuilt</td>\n",
              "      <td>yes</td>\n",
              "      <td>no</td>\n",
              "      <td>...</td>\n",
              "      <td>2.2</td>\n",
              "      <td>6.55</td>\n",
              "      <td>120</td>\n",
              "      <td>50</td>\n",
              "      <td>Triple</td>\n",
              "      <td>16.0</td>\n",
              "      <td>Single</td>\n",
              "      <td>Android</td>\n",
              "      <td>14999.0</td>\n",
              "      <td>81</td>\n",
              "    </tr>\n",
              "    <tr>\n",
              "      <th>4</th>\n",
              "      <td>1080</td>\n",
              "      <td>2412</td>\n",
              "      <td>Realme</td>\n",
              "      <td>5000</td>\n",
              "      <td>67</td>\n",
              "      <td>1</td>\n",
              "      <td>6 GB</td>\n",
              "      <td>128 GB inbuilt</td>\n",
              "      <td>yes</td>\n",
              "      <td>no</td>\n",
              "      <td>...</td>\n",
              "      <td>2.6</td>\n",
              "      <td>6.70</td>\n",
              "      <td>120</td>\n",
              "      <td>108</td>\n",
              "      <td>Triple</td>\n",
              "      <td>16.0</td>\n",
              "      <td>Single</td>\n",
              "      <td>Android</td>\n",
              "      <td>24999.0</td>\n",
              "      <td>82</td>\n",
              "    </tr>\n",
              "  </tbody>\n",
              "</table>\n",
              "<p>5 rows × 22 columns</p>\n",
              "</div>"
            ],
            "text/plain": [
              "   pixel1  pixel2   company  battery_capacity  charger_capacity  \\\n",
              "0    1080    2412   OnePlus              5000                33   \n",
              "1    1080    2408   Samsung              5000                15   \n",
              "2    1080    2408   Samsung              5000                25   \n",
              "3    1080    2400  Motorola              5000              <NA>   \n",
              "4    1080    2412    Realme              5000                67   \n",
              "\n",
              "   fast_charging ram_capacity             rom   5G  nfc  ... processor_speed  \\\n",
              "0              1         6 GB  128 GB inbuilt  yes   no  ...             2.2   \n",
              "1              1         4 GB   64 GB inbuilt  yes   no  ...             2.4   \n",
              "2              1         6 GB  128 GB inbuilt  yes  yes  ...             2.2   \n",
              "3              1         6 GB  128 GB inbuilt  yes   no  ...             2.2   \n",
              "4              1         6 GB  128 GB inbuilt  yes   no  ...             2.6   \n",
              "\n",
              "  screen_size  refresh_rate  rear_camera  rear_camera_count  front_camera  \\\n",
              "0        6.59           120           64             Triple          16.0   \n",
              "1        6.60            90           50             Triple          13.0   \n",
              "2        6.60           120           50             Triple           8.0   \n",
              "3        6.55           120           50             Triple          16.0   \n",
              "4        6.70           120          108             Triple          16.0   \n",
              "\n",
              "  front_camera_count  os_type    price rating  \n",
              "0             Single  Android  18999.0     81  \n",
              "1             Single  Android  16499.0     75  \n",
              "2             Single  Android  16999.0     80  \n",
              "3             Single  Android  14999.0     81  \n",
              "4             Single  Android  24999.0     82  \n",
              "\n",
              "[5 rows x 22 columns]"
            ]
          },
          "execution_count": 68,
          "metadata": {},
          "output_type": "execute_result"
        }
      ],
      "source": [
        "dfnew.head()"
      ]
    },
    {
      "cell_type": "code",
      "execution_count": null,
      "id": "22f3822f",
      "metadata": {
        "id": "22f3822f"
      },
      "outputs": [],
      "source": [
        "dfnew[\"ram_capacity\"]=dfnew[\"ram_capacity\"].str.extract(r'([0-9]*)\\s')"
      ]
    },
    {
      "cell_type": "code",
      "execution_count": null,
      "id": "b21988bc",
      "metadata": {
        "id": "b21988bc"
      },
      "outputs": [],
      "source": [
        "dfnew[\"rom\"]=dfnew[\"rom\"].replace(\"1 TB inbuilt\" ,\"1024 GB inbuilt\")"
      ]
    },
    {
      "cell_type": "code",
      "execution_count": null,
      "id": "a9bda506",
      "metadata": {
        "id": "a9bda506"
      },
      "outputs": [],
      "source": [
        "dfnew[\"rom\"]=dfnew[\"rom\"].str.extract(r'([0-9]*)\\s')"
      ]
    },
    {
      "cell_type": "code",
      "execution_count": null,
      "id": "2f170032",
      "metadata": {
        "id": "2f170032"
      },
      "outputs": [],
      "source": [
        "dfnew[[\"rom\",\"ram_capacity\"]]=dfnew[[\"rom\",\"ram_capacity\"]].astype(\"Int64\")"
      ]
    },
    {
      "cell_type": "code",
      "execution_count": null,
      "id": "db22b0cf",
      "metadata": {
        "id": "db22b0cf"
      },
      "outputs": [],
      "source": []
    },
    {
      "cell_type": "code",
      "execution_count": null,
      "id": "8abedd36",
      "metadata": {
        "id": "8abedd36",
        "outputId": "363fa231-1ece-4eb6-cd24-e312df6038ae"
      },
      "outputs": [
        {
          "data": {
            "text/plain": [
              "(864, 22)"
            ]
          },
          "execution_count": 73,
          "metadata": {},
          "output_type": "execute_result"
        }
      ],
      "source": [
        "dfnew.shape"
      ]
    },
    {
      "cell_type": "code",
      "execution_count": null,
      "id": "875a1e18",
      "metadata": {
        "id": "875a1e18",
        "outputId": "f00e196a-8cb3-4776-b2a0-6249db140305"
      },
      "outputs": [
        {
          "data": {
            "text/plain": [
              "pixel1                  0\n",
              "pixel2                  0\n",
              "company                 0\n",
              "battery_capacity       12\n",
              "charger_capacity      287\n",
              "fast_charging           0\n",
              "ram_capacity            4\n",
              "rom                     0\n",
              "5G                      0\n",
              "nfc                     0\n",
              "processor_name          1\n",
              "processor_cores         0\n",
              "processor_speed        14\n",
              "screen_size             0\n",
              "refresh_rate          451\n",
              "rear_camera             0\n",
              "rear_camera_count       0\n",
              "front_camera            1\n",
              "front_camera_count      0\n",
              "os_type                 0\n",
              "price                   0\n",
              "rating                 73\n",
              "dtype: int64"
            ]
          },
          "execution_count": 74,
          "metadata": {},
          "output_type": "execute_result"
        }
      ],
      "source": [
        "dfnew.isnull().sum()"
      ]
    },
    {
      "cell_type": "code",
      "execution_count": null,
      "id": "44767fdf",
      "metadata": {
        "id": "44767fdf"
      },
      "outputs": [],
      "source": [
        "dfnew[\"battery_capacity\"].fillna(3200,inplace=True)"
      ]
    },
    {
      "cell_type": "code",
      "execution_count": null,
      "id": "0d0963c9",
      "metadata": {
        "id": "0d0963c9",
        "outputId": "b74ae31f-f431-4739-faaf-842df8f69af3"
      },
      "outputs": [
        {
          "data": {
            "text/html": [
              "<div>\n",
              "<style scoped>\n",
              "    .dataframe tbody tr th:only-of-type {\n",
              "        vertical-align: middle;\n",
              "    }\n",
              "\n",
              "    .dataframe tbody tr th {\n",
              "        vertical-align: top;\n",
              "    }\n",
              "\n",
              "    .dataframe thead th {\n",
              "        text-align: right;\n",
              "    }\n",
              "</style>\n",
              "<table border=\"1\" class=\"dataframe\">\n",
              "  <thead>\n",
              "    <tr style=\"text-align: right;\">\n",
              "      <th></th>\n",
              "      <th>pixel1</th>\n",
              "      <th>pixel2</th>\n",
              "      <th>company</th>\n",
              "      <th>battery_capacity</th>\n",
              "      <th>charger_capacity</th>\n",
              "      <th>fast_charging</th>\n",
              "      <th>ram_capacity</th>\n",
              "      <th>rom</th>\n",
              "      <th>5G</th>\n",
              "      <th>nfc</th>\n",
              "      <th>...</th>\n",
              "      <th>processor_speed</th>\n",
              "      <th>screen_size</th>\n",
              "      <th>refresh_rate</th>\n",
              "      <th>rear_camera</th>\n",
              "      <th>rear_camera_count</th>\n",
              "      <th>front_camera</th>\n",
              "      <th>front_camera_count</th>\n",
              "      <th>os_type</th>\n",
              "      <th>price</th>\n",
              "      <th>rating</th>\n",
              "    </tr>\n",
              "  </thead>\n",
              "  <tbody>\n",
              "    <tr>\n",
              "      <th>3</th>\n",
              "      <td>1080</td>\n",
              "      <td>2400</td>\n",
              "      <td>Motorola</td>\n",
              "      <td>5000</td>\n",
              "      <td>&lt;NA&gt;</td>\n",
              "      <td>1</td>\n",
              "      <td>6</td>\n",
              "      <td>128</td>\n",
              "      <td>yes</td>\n",
              "      <td>no</td>\n",
              "      <td>...</td>\n",
              "      <td>2.20</td>\n",
              "      <td>6.55</td>\n",
              "      <td>120</td>\n",
              "      <td>50</td>\n",
              "      <td>Triple</td>\n",
              "      <td>16.0</td>\n",
              "      <td>Single</td>\n",
              "      <td>Android</td>\n",
              "      <td>14999.0</td>\n",
              "      <td>81</td>\n",
              "    </tr>\n",
              "    <tr>\n",
              "      <th>5</th>\n",
              "      <td>1170</td>\n",
              "      <td>2532</td>\n",
              "      <td>Apple</td>\n",
              "      <td>3279</td>\n",
              "      <td>&lt;NA&gt;</td>\n",
              "      <td>1</td>\n",
              "      <td>6</td>\n",
              "      <td>128</td>\n",
              "      <td>yes</td>\n",
              "      <td>yes</td>\n",
              "      <td>...</td>\n",
              "      <td>3.22</td>\n",
              "      <td>6.10</td>\n",
              "      <td>&lt;NA&gt;</td>\n",
              "      <td>12</td>\n",
              "      <td>Dual</td>\n",
              "      <td>12.0</td>\n",
              "      <td>Single</td>\n",
              "      <td>iOS</td>\n",
              "      <td>66999.0</td>\n",
              "      <td>81</td>\n",
              "    </tr>\n",
              "    <tr>\n",
              "      <th>14</th>\n",
              "      <td>1170</td>\n",
              "      <td>2532</td>\n",
              "      <td>Apple</td>\n",
              "      <td>3240</td>\n",
              "      <td>&lt;NA&gt;</td>\n",
              "      <td>1</td>\n",
              "      <td>4</td>\n",
              "      <td>128</td>\n",
              "      <td>yes</td>\n",
              "      <td>yes</td>\n",
              "      <td>...</td>\n",
              "      <td>3.22</td>\n",
              "      <td>6.10</td>\n",
              "      <td>&lt;NA&gt;</td>\n",
              "      <td>12</td>\n",
              "      <td>Dual</td>\n",
              "      <td>12.0</td>\n",
              "      <td>Single</td>\n",
              "      <td>iOS</td>\n",
              "      <td>61999.0</td>\n",
              "      <td>79</td>\n",
              "    </tr>\n",
              "    <tr>\n",
              "      <th>19</th>\n",
              "      <td>1080</td>\n",
              "      <td>2400</td>\n",
              "      <td>Samsung</td>\n",
              "      <td>4500</td>\n",
              "      <td>&lt;NA&gt;</td>\n",
              "      <td>1</td>\n",
              "      <td>8</td>\n",
              "      <td>128</td>\n",
              "      <td>yes</td>\n",
              "      <td>yes</td>\n",
              "      <td>...</td>\n",
              "      <td>2.84</td>\n",
              "      <td>6.50</td>\n",
              "      <td>120</td>\n",
              "      <td>12</td>\n",
              "      <td>Triple</td>\n",
              "      <td>32.0</td>\n",
              "      <td>Single</td>\n",
              "      <td>Android</td>\n",
              "      <td>31266.0</td>\n",
              "      <td>88</td>\n",
              "    </tr>\n",
              "    <tr>\n",
              "      <th>26</th>\n",
              "      <td>1290</td>\n",
              "      <td>2796</td>\n",
              "      <td>Apple</td>\n",
              "      <td>4323</td>\n",
              "      <td>&lt;NA&gt;</td>\n",
              "      <td>1</td>\n",
              "      <td>6</td>\n",
              "      <td>128</td>\n",
              "      <td>yes</td>\n",
              "      <td>yes</td>\n",
              "      <td>...</td>\n",
              "      <td>NaN</td>\n",
              "      <td>6.70</td>\n",
              "      <td>120</td>\n",
              "      <td>48</td>\n",
              "      <td>Triple</td>\n",
              "      <td>12.0</td>\n",
              "      <td>Single</td>\n",
              "      <td>iOS</td>\n",
              "      <td>129990.0</td>\n",
              "      <td>76</td>\n",
              "    </tr>\n",
              "    <tr>\n",
              "      <th>...</th>\n",
              "      <td>...</td>\n",
              "      <td>...</td>\n",
              "      <td>...</td>\n",
              "      <td>...</td>\n",
              "      <td>...</td>\n",
              "      <td>...</td>\n",
              "      <td>...</td>\n",
              "      <td>...</td>\n",
              "      <td>...</td>\n",
              "      <td>...</td>\n",
              "      <td>...</td>\n",
              "      <td>...</td>\n",
              "      <td>...</td>\n",
              "      <td>...</td>\n",
              "      <td>...</td>\n",
              "      <td>...</td>\n",
              "      <td>...</td>\n",
              "      <td>...</td>\n",
              "      <td>...</td>\n",
              "      <td>...</td>\n",
              "      <td>...</td>\n",
              "    </tr>\n",
              "    <tr>\n",
              "      <th>983</th>\n",
              "      <td>1080</td>\n",
              "      <td>1920</td>\n",
              "      <td>Google</td>\n",
              "      <td>2700</td>\n",
              "      <td>&lt;NA&gt;</td>\n",
              "      <td>1</td>\n",
              "      <td>4</td>\n",
              "      <td>128</td>\n",
              "      <td>no</td>\n",
              "      <td>yes</td>\n",
              "      <td>...</td>\n",
              "      <td>2.45</td>\n",
              "      <td>5.00</td>\n",
              "      <td>&lt;NA&gt;</td>\n",
              "      <td>2</td>\n",
              "      <td>single</td>\n",
              "      <td>8.0</td>\n",
              "      <td>Single</td>\n",
              "      <td>Android</td>\n",
              "      <td>19000.0</td>\n",
              "      <td>68</td>\n",
              "    </tr>\n",
              "    <tr>\n",
              "      <th>984</th>\n",
              "      <td>1080</td>\n",
              "      <td>1920</td>\n",
              "      <td>Lyf</td>\n",
              "      <td>3000</td>\n",
              "      <td>&lt;NA&gt;</td>\n",
              "      <td>0</td>\n",
              "      <td>3</td>\n",
              "      <td>32</td>\n",
              "      <td>no</td>\n",
              "      <td>no</td>\n",
              "      <td>...</td>\n",
              "      <td>1.80</td>\n",
              "      <td>5.20</td>\n",
              "      <td>&lt;NA&gt;</td>\n",
              "      <td>16</td>\n",
              "      <td>single</td>\n",
              "      <td>5.0</td>\n",
              "      <td>Single</td>\n",
              "      <td>Android</td>\n",
              "      <td>5099.0</td>\n",
              "      <td>60</td>\n",
              "    </tr>\n",
              "    <tr>\n",
              "      <th>989</th>\n",
              "      <td>720</td>\n",
              "      <td>1280</td>\n",
              "      <td>Vivo</td>\n",
              "      <td>2550</td>\n",
              "      <td>&lt;NA&gt;</td>\n",
              "      <td>0</td>\n",
              "      <td>3</td>\n",
              "      <td>32</td>\n",
              "      <td>no</td>\n",
              "      <td>no</td>\n",
              "      <td>...</td>\n",
              "      <td>1.50</td>\n",
              "      <td>5.00</td>\n",
              "      <td>&lt;NA&gt;</td>\n",
              "      <td>13</td>\n",
              "      <td>single</td>\n",
              "      <td>8.0</td>\n",
              "      <td>Single</td>\n",
              "      <td>Android</td>\n",
              "      <td>17500.0</td>\n",
              "      <td>&lt;NA&gt;</td>\n",
              "    </tr>\n",
              "    <tr>\n",
              "      <th>991</th>\n",
              "      <td>720</td>\n",
              "      <td>1280</td>\n",
              "      <td>Samsung</td>\n",
              "      <td>3000</td>\n",
              "      <td>&lt;NA&gt;</td>\n",
              "      <td>0</td>\n",
              "      <td>5</td>\n",
              "      <td>16</td>\n",
              "      <td>no</td>\n",
              "      <td>no</td>\n",
              "      <td>...</td>\n",
              "      <td>1.50</td>\n",
              "      <td>5.50</td>\n",
              "      <td>&lt;NA&gt;</td>\n",
              "      <td>13</td>\n",
              "      <td>single</td>\n",
              "      <td>5.0</td>\n",
              "      <td>Single</td>\n",
              "      <td>Android</td>\n",
              "      <td>8990.0</td>\n",
              "      <td>&lt;NA&gt;</td>\n",
              "    </tr>\n",
              "    <tr>\n",
              "      <th>992</th>\n",
              "      <td>1080</td>\n",
              "      <td>1920</td>\n",
              "      <td>Huawei</td>\n",
              "      <td>3100</td>\n",
              "      <td>&lt;NA&gt;</td>\n",
              "      <td>0</td>\n",
              "      <td>3</td>\n",
              "      <td>16</td>\n",
              "      <td>no</td>\n",
              "      <td>no</td>\n",
              "      <td>...</td>\n",
              "      <td>1.70</td>\n",
              "      <td>5.00</td>\n",
              "      <td>&lt;NA&gt;</td>\n",
              "      <td>13</td>\n",
              "      <td>single</td>\n",
              "      <td>5.0</td>\n",
              "      <td>Single</td>\n",
              "      <td>Android</td>\n",
              "      <td>9800.0</td>\n",
              "      <td>&lt;NA&gt;</td>\n",
              "    </tr>\n",
              "  </tbody>\n",
              "</table>\n",
              "<p>287 rows × 22 columns</p>\n",
              "</div>"
            ],
            "text/plain": [
              "     pixel1  pixel2   company  battery_capacity  charger_capacity  \\\n",
              "3      1080    2400  Motorola              5000              <NA>   \n",
              "5      1170    2532     Apple              3279              <NA>   \n",
              "14     1170    2532     Apple              3240              <NA>   \n",
              "19     1080    2400   Samsung              4500              <NA>   \n",
              "26     1290    2796     Apple              4323              <NA>   \n",
              "..      ...     ...       ...               ...               ...   \n",
              "983    1080    1920    Google              2700              <NA>   \n",
              "984    1080    1920       Lyf              3000              <NA>   \n",
              "989     720    1280      Vivo              2550              <NA>   \n",
              "991     720    1280   Samsung              3000              <NA>   \n",
              "992    1080    1920    Huawei              3100              <NA>   \n",
              "\n",
              "     fast_charging  ram_capacity  rom   5G  nfc  ... processor_speed  \\\n",
              "3                1             6  128  yes   no  ...            2.20   \n",
              "5                1             6  128  yes  yes  ...            3.22   \n",
              "14               1             4  128  yes  yes  ...            3.22   \n",
              "19               1             8  128  yes  yes  ...            2.84   \n",
              "26               1             6  128  yes  yes  ...             NaN   \n",
              "..             ...           ...  ...  ...  ...  ...             ...   \n",
              "983              1             4  128   no  yes  ...            2.45   \n",
              "984              0             3   32   no   no  ...            1.80   \n",
              "989              0             3   32   no   no  ...            1.50   \n",
              "991              0             5   16   no   no  ...            1.50   \n",
              "992              0             3   16   no   no  ...            1.70   \n",
              "\n",
              "    screen_size  refresh_rate  rear_camera  rear_camera_count  front_camera  \\\n",
              "3          6.55           120           50             Triple          16.0   \n",
              "5          6.10          <NA>           12               Dual          12.0   \n",
              "14         6.10          <NA>           12               Dual          12.0   \n",
              "19         6.50           120           12             Triple          32.0   \n",
              "26         6.70           120           48             Triple          12.0   \n",
              "..          ...           ...          ...                ...           ...   \n",
              "983        5.00          <NA>            2             single           8.0   \n",
              "984        5.20          <NA>           16             single           5.0   \n",
              "989        5.00          <NA>           13             single           8.0   \n",
              "991        5.50          <NA>           13             single           5.0   \n",
              "992        5.00          <NA>           13             single           5.0   \n",
              "\n",
              "    front_camera_count  os_type     price rating  \n",
              "3               Single  Android   14999.0     81  \n",
              "5               Single      iOS   66999.0     81  \n",
              "14              Single      iOS   61999.0     79  \n",
              "19              Single  Android   31266.0     88  \n",
              "26              Single      iOS  129990.0     76  \n",
              "..                 ...      ...       ...    ...  \n",
              "983             Single  Android   19000.0     68  \n",
              "984             Single  Android    5099.0     60  \n",
              "989             Single  Android   17500.0   <NA>  \n",
              "991             Single  Android    8990.0   <NA>  \n",
              "992             Single  Android    9800.0   <NA>  \n",
              "\n",
              "[287 rows x 22 columns]"
            ]
          },
          "execution_count": 76,
          "metadata": {},
          "output_type": "execute_result"
        }
      ],
      "source": [
        "dfnew[dfnew[\"charger_capacity\"].isnull()]"
      ]
    },
    {
      "cell_type": "code",
      "execution_count": null,
      "id": "87ebd531",
      "metadata": {
        "id": "87ebd531"
      },
      "outputs": [],
      "source": [
        "dfnew[\"charger_capacity\"]=dfnew.apply(lambda x : 20  if x[\"os_type\"]== \"iOS\" and pd.isnull(x[\"charger_capacity\"]) else x['charger_capacity'],axis=1)"
      ]
    },
    {
      "cell_type": "code",
      "execution_count": null,
      "id": "5db766e2",
      "metadata": {
        "id": "5db766e2"
      },
      "outputs": [],
      "source": []
    },
    {
      "cell_type": "code",
      "execution_count": null,
      "id": "4eee743e",
      "metadata": {
        "id": "4eee743e"
      },
      "outputs": [],
      "source": [
        "medianimpute=dfnew[dfnew[\"fast_charging\"]==1][\"charger_capacity\"].median()\n",
        "dfnew[\"charger_capacity\"]=dfnew.apply(lambda x : medianimpute  if x[\"os_type\"]== \"Android\" and x[\"fast_charging\"]==1 and pd.isnull(x[\"charger_capacity\"]) else x['charger_capacity'],axis=1)"
      ]
    },
    {
      "cell_type": "code",
      "execution_count": null,
      "id": "1627b295",
      "metadata": {
        "id": "1627b295"
      },
      "outputs": [],
      "source": [
        "dfnew[\"charger_capacity\"]=dfnew.apply(lambda x : 10  if x[\"os_type\"]== \"Android\" and x[\"fast_charging\"]==0 and pd.isnull(x[\"charger_capacity\"]) else x['charger_capacity'],axis=1)"
      ]
    },
    {
      "cell_type": "code",
      "execution_count": null,
      "id": "b9639076",
      "metadata": {
        "id": "b9639076",
        "outputId": "af03322e-4fbc-47b0-c5b6-1a6be6254de0"
      },
      "outputs": [
        {
          "data": {
            "text/html": [
              "<div>\n",
              "<style scoped>\n",
              "    .dataframe tbody tr th:only-of-type {\n",
              "        vertical-align: middle;\n",
              "    }\n",
              "\n",
              "    .dataframe tbody tr th {\n",
              "        vertical-align: top;\n",
              "    }\n",
              "\n",
              "    .dataframe thead th {\n",
              "        text-align: right;\n",
              "    }\n",
              "</style>\n",
              "<table border=\"1\" class=\"dataframe\">\n",
              "  <thead>\n",
              "    <tr style=\"text-align: right;\">\n",
              "      <th></th>\n",
              "      <th>pixel1</th>\n",
              "      <th>pixel2</th>\n",
              "      <th>company</th>\n",
              "      <th>battery_capacity</th>\n",
              "      <th>charger_capacity</th>\n",
              "      <th>fast_charging</th>\n",
              "      <th>ram_capacity</th>\n",
              "      <th>rom</th>\n",
              "      <th>5G</th>\n",
              "      <th>nfc</th>\n",
              "      <th>...</th>\n",
              "      <th>processor_speed</th>\n",
              "      <th>screen_size</th>\n",
              "      <th>refresh_rate</th>\n",
              "      <th>rear_camera</th>\n",
              "      <th>rear_camera_count</th>\n",
              "      <th>front_camera</th>\n",
              "      <th>front_camera_count</th>\n",
              "      <th>os_type</th>\n",
              "      <th>price</th>\n",
              "      <th>rating</th>\n",
              "    </tr>\n",
              "  </thead>\n",
              "  <tbody>\n",
              "    <tr>\n",
              "      <th>760</th>\n",
              "      <td>1440</td>\n",
              "      <td>1440</td>\n",
              "      <td>BlackBerry</td>\n",
              "      <td>3450</td>\n",
              "      <td>&lt;NA&gt;</td>\n",
              "      <td>0</td>\n",
              "      <td>3</td>\n",
              "      <td>32</td>\n",
              "      <td>no</td>\n",
              "      <td>no</td>\n",
              "      <td>...</td>\n",
              "      <td>2.26</td>\n",
              "      <td>4.5</td>\n",
              "      <td>&lt;NA&gt;</td>\n",
              "      <td>13</td>\n",
              "      <td>single</td>\n",
              "      <td>2.0</td>\n",
              "      <td>Single</td>\n",
              "      <td>Blackberry</td>\n",
              "      <td>26999.0</td>\n",
              "      <td>61</td>\n",
              "    </tr>\n",
              "  </tbody>\n",
              "</table>\n",
              "<p>1 rows × 22 columns</p>\n",
              "</div>"
            ],
            "text/plain": [
              "     pixel1  pixel2     company  battery_capacity charger_capacity  \\\n",
              "760    1440    1440  BlackBerry              3450             <NA>   \n",
              "\n",
              "     fast_charging  ram_capacity  rom  5G nfc  ... processor_speed  \\\n",
              "760              0             3   32  no  no  ...            2.26   \n",
              "\n",
              "    screen_size  refresh_rate  rear_camera  rear_camera_count  front_camera  \\\n",
              "760         4.5          <NA>           13             single           2.0   \n",
              "\n",
              "    front_camera_count     os_type    price rating  \n",
              "760             Single  Blackberry  26999.0     61  \n",
              "\n",
              "[1 rows x 22 columns]"
            ]
          },
          "execution_count": 80,
          "metadata": {},
          "output_type": "execute_result"
        }
      ],
      "source": [
        "dfnew[dfnew[\"charger_capacity\"].isnull()]"
      ]
    },
    {
      "cell_type": "code",
      "execution_count": null,
      "id": "bc26154e",
      "metadata": {
        "scrolled": true,
        "id": "bc26154e"
      },
      "outputs": [],
      "source": [
        "dfnew.loc[760,\"charger_capacity\"]=12"
      ]
    },
    {
      "cell_type": "code",
      "execution_count": null,
      "id": "2510ede9",
      "metadata": {
        "id": "2510ede9",
        "outputId": "f47ed2a1-b31d-45dd-cc11-012e661d10dd"
      },
      "outputs": [
        {
          "data": {
            "text/html": [
              "<div>\n",
              "<style scoped>\n",
              "    .dataframe tbody tr th:only-of-type {\n",
              "        vertical-align: middle;\n",
              "    }\n",
              "\n",
              "    .dataframe tbody tr th {\n",
              "        vertical-align: top;\n",
              "    }\n",
              "\n",
              "    .dataframe thead th {\n",
              "        text-align: right;\n",
              "    }\n",
              "</style>\n",
              "<table border=\"1\" class=\"dataframe\">\n",
              "  <thead>\n",
              "    <tr style=\"text-align: right;\">\n",
              "      <th></th>\n",
              "      <th>pixel1</th>\n",
              "      <th>pixel2</th>\n",
              "      <th>company</th>\n",
              "      <th>battery_capacity</th>\n",
              "      <th>charger_capacity</th>\n",
              "      <th>fast_charging</th>\n",
              "      <th>ram_capacity</th>\n",
              "      <th>rom</th>\n",
              "      <th>5G</th>\n",
              "      <th>nfc</th>\n",
              "      <th>...</th>\n",
              "      <th>processor_speed</th>\n",
              "      <th>screen_size</th>\n",
              "      <th>refresh_rate</th>\n",
              "      <th>rear_camera</th>\n",
              "      <th>rear_camera_count</th>\n",
              "      <th>front_camera</th>\n",
              "      <th>front_camera_count</th>\n",
              "      <th>os_type</th>\n",
              "      <th>price</th>\n",
              "      <th>rating</th>\n",
              "    </tr>\n",
              "  </thead>\n",
              "  <tbody>\n",
              "  </tbody>\n",
              "</table>\n",
              "<p>0 rows × 22 columns</p>\n",
              "</div>"
            ],
            "text/plain": [
              "Empty DataFrame\n",
              "Columns: [pixel1, pixel2, company, battery_capacity, charger_capacity, fast_charging, ram_capacity, rom, 5G, nfc, processor_name, processor_cores, processor_speed, screen_size, refresh_rate, rear_camera, rear_camera_count, front_camera, front_camera_count, os_type, price, rating]\n",
              "Index: []\n",
              "\n",
              "[0 rows x 22 columns]"
            ]
          },
          "execution_count": 82,
          "metadata": {},
          "output_type": "execute_result"
        }
      ],
      "source": [
        "dfnew[dfnew[\"charger_capacity\"].isnull()]"
      ]
    },
    {
      "cell_type": "code",
      "execution_count": null,
      "id": "296626b3",
      "metadata": {
        "id": "296626b3"
      },
      "outputs": [],
      "source": [
        "dfnew[\"ram_capacity\"][313]=12"
      ]
    },
    {
      "cell_type": "code",
      "execution_count": null,
      "id": "bb66f30f",
      "metadata": {
        "id": "bb66f30f"
      },
      "outputs": [],
      "source": [
        "temp=dfnew[dfnew[\"ram_capacity\"].isnull()].index\n",
        "dfnew.loc[temp,\"ram_capacity\"]= 4"
      ]
    },
    {
      "cell_type": "code",
      "execution_count": null,
      "id": "850acf7e",
      "metadata": {
        "id": "850acf7e",
        "outputId": "10afe0e1-630d-4d7e-8510-85d273bd81d8"
      },
      "outputs": [
        {
          "data": {
            "text/html": [
              "<div>\n",
              "<style scoped>\n",
              "    .dataframe tbody tr th:only-of-type {\n",
              "        vertical-align: middle;\n",
              "    }\n",
              "\n",
              "    .dataframe tbody tr th {\n",
              "        vertical-align: top;\n",
              "    }\n",
              "\n",
              "    .dataframe thead th {\n",
              "        text-align: right;\n",
              "    }\n",
              "</style>\n",
              "<table border=\"1\" class=\"dataframe\">\n",
              "  <thead>\n",
              "    <tr style=\"text-align: right;\">\n",
              "      <th></th>\n",
              "      <th>pixel1</th>\n",
              "      <th>pixel2</th>\n",
              "      <th>company</th>\n",
              "      <th>battery_capacity</th>\n",
              "      <th>charger_capacity</th>\n",
              "      <th>fast_charging</th>\n",
              "      <th>ram_capacity</th>\n",
              "      <th>rom</th>\n",
              "      <th>5G</th>\n",
              "      <th>nfc</th>\n",
              "      <th>...</th>\n",
              "      <th>processor_speed</th>\n",
              "      <th>screen_size</th>\n",
              "      <th>refresh_rate</th>\n",
              "      <th>rear_camera</th>\n",
              "      <th>rear_camera_count</th>\n",
              "      <th>front_camera</th>\n",
              "      <th>front_camera_count</th>\n",
              "      <th>os_type</th>\n",
              "      <th>price</th>\n",
              "      <th>rating</th>\n",
              "    </tr>\n",
              "  </thead>\n",
              "  <tbody>\n",
              "  </tbody>\n",
              "</table>\n",
              "<p>0 rows × 22 columns</p>\n",
              "</div>"
            ],
            "text/plain": [
              "Empty DataFrame\n",
              "Columns: [pixel1, pixel2, company, battery_capacity, charger_capacity, fast_charging, ram_capacity, rom, 5G, nfc, processor_name, processor_cores, processor_speed, screen_size, refresh_rate, rear_camera, rear_camera_count, front_camera, front_camera_count, os_type, price, rating]\n",
              "Index: []\n",
              "\n",
              "[0 rows x 22 columns]"
            ]
          },
          "execution_count": 85,
          "metadata": {},
          "output_type": "execute_result"
        }
      ],
      "source": [
        "dfnew[dfnew[\"ram_capacity\"].isnull()]"
      ]
    },
    {
      "cell_type": "code",
      "execution_count": null,
      "id": "43ed42d0",
      "metadata": {
        "id": "43ed42d0",
        "outputId": "48598f75-e3c3-4529-fdf4-52b521ff9ec8"
      },
      "outputs": [
        {
          "data": {
            "text/plain": [
              "Single    837\n",
              "Dual       27\n",
              "Name: front_camera_count, dtype: int64"
            ]
          },
          "execution_count": 86,
          "metadata": {},
          "output_type": "execute_result"
        }
      ],
      "source": [
        "dfnew[\"front_camera_count\"].value_counts()"
      ]
    },
    {
      "cell_type": "code",
      "execution_count": null,
      "id": "4472ca49",
      "metadata": {
        "id": "4472ca49",
        "outputId": "aa1dde2f-7f72-4cf9-e3d0-6f3a3fbe71b6"
      },
      "outputs": [
        {
          "data": {
            "text/html": [
              "<div>\n",
              "<style scoped>\n",
              "    .dataframe tbody tr th:only-of-type {\n",
              "        vertical-align: middle;\n",
              "    }\n",
              "\n",
              "    .dataframe tbody tr th {\n",
              "        vertical-align: top;\n",
              "    }\n",
              "\n",
              "    .dataframe thead th {\n",
              "        text-align: right;\n",
              "    }\n",
              "</style>\n",
              "<table border=\"1\" class=\"dataframe\">\n",
              "  <thead>\n",
              "    <tr style=\"text-align: right;\">\n",
              "      <th></th>\n",
              "      <th>pixel1</th>\n",
              "      <th>pixel2</th>\n",
              "      <th>company</th>\n",
              "      <th>battery_capacity</th>\n",
              "      <th>charger_capacity</th>\n",
              "      <th>fast_charging</th>\n",
              "      <th>ram_capacity</th>\n",
              "      <th>rom</th>\n",
              "      <th>5G</th>\n",
              "      <th>nfc</th>\n",
              "      <th>...</th>\n",
              "      <th>processor_speed</th>\n",
              "      <th>screen_size</th>\n",
              "      <th>refresh_rate</th>\n",
              "      <th>rear_camera</th>\n",
              "      <th>rear_camera_count</th>\n",
              "      <th>front_camera</th>\n",
              "      <th>front_camera_count</th>\n",
              "      <th>os_type</th>\n",
              "      <th>price</th>\n",
              "      <th>rating</th>\n",
              "    </tr>\n",
              "  </thead>\n",
              "  <tbody>\n",
              "    <tr>\n",
              "      <th>646</th>\n",
              "      <td>1600</td>\n",
              "      <td>720</td>\n",
              "      <td>Lava</td>\n",
              "      <td>5000</td>\n",
              "      <td>10</td>\n",
              "      <td>1</td>\n",
              "      <td>3</td>\n",
              "      <td>32</td>\n",
              "      <td>no</td>\n",
              "      <td>no</td>\n",
              "      <td>...</td>\n",
              "      <td>NaN</td>\n",
              "      <td>6.52</td>\n",
              "      <td>&lt;NA&gt;</td>\n",
              "      <td>13</td>\n",
              "      <td>Triple</td>\n",
              "      <td>8.0</td>\n",
              "      <td>Single</td>\n",
              "      <td>Android</td>\n",
              "      <td>7799.0</td>\n",
              "      <td>&lt;NA&gt;</td>\n",
              "    </tr>\n",
              "  </tbody>\n",
              "</table>\n",
              "<p>1 rows × 22 columns</p>\n",
              "</div>"
            ],
            "text/plain": [
              "     pixel1  pixel2 company  battery_capacity charger_capacity  fast_charging  \\\n",
              "646    1600     720    Lava              5000               10              1   \n",
              "\n",
              "     ram_capacity  rom  5G nfc  ... processor_speed screen_size  refresh_rate  \\\n",
              "646             3   32  no  no  ...             NaN        6.52          <NA>   \n",
              "\n",
              "     rear_camera  rear_camera_count  front_camera front_camera_count  os_type  \\\n",
              "646           13             Triple           8.0             Single  Android   \n",
              "\n",
              "      price rating  \n",
              "646  7799.0   <NA>  \n",
              "\n",
              "[1 rows x 22 columns]"
            ]
          },
          "execution_count": 87,
          "metadata": {},
          "output_type": "execute_result"
        }
      ],
      "source": [
        "dfnew[dfnew[\"processor_name\"].isnull()]"
      ]
    },
    {
      "cell_type": "code",
      "execution_count": null,
      "id": "ff47dde4",
      "metadata": {
        "id": "ff47dde4"
      },
      "outputs": [],
      "source": [
        "dfnew.loc[646,\"processor_name\"]=\"Helio\""
      ]
    },
    {
      "cell_type": "code",
      "execution_count": null,
      "id": "d93ad1a0",
      "metadata": {
        "id": "d93ad1a0"
      },
      "outputs": [],
      "source": []
    },
    {
      "cell_type": "code",
      "execution_count": null,
      "id": "35048d43",
      "metadata": {
        "id": "35048d43",
        "outputId": "ffc01133-9d1c-4d20-b2ad-ef0acff3d959"
      },
      "outputs": [
        {
          "data": {
            "text/html": [
              "<div>\n",
              "<style scoped>\n",
              "    .dataframe tbody tr th:only-of-type {\n",
              "        vertical-align: middle;\n",
              "    }\n",
              "\n",
              "    .dataframe tbody tr th {\n",
              "        vertical-align: top;\n",
              "    }\n",
              "\n",
              "    .dataframe thead th {\n",
              "        text-align: right;\n",
              "    }\n",
              "</style>\n",
              "<table border=\"1\" class=\"dataframe\">\n",
              "  <thead>\n",
              "    <tr style=\"text-align: right;\">\n",
              "      <th></th>\n",
              "      <th>pixel1</th>\n",
              "      <th>pixel2</th>\n",
              "      <th>company</th>\n",
              "      <th>battery_capacity</th>\n",
              "      <th>charger_capacity</th>\n",
              "      <th>fast_charging</th>\n",
              "      <th>ram_capacity</th>\n",
              "      <th>rom</th>\n",
              "      <th>5G</th>\n",
              "      <th>nfc</th>\n",
              "      <th>...</th>\n",
              "      <th>processor_speed</th>\n",
              "      <th>screen_size</th>\n",
              "      <th>refresh_rate</th>\n",
              "      <th>rear_camera</th>\n",
              "      <th>rear_camera_count</th>\n",
              "      <th>front_camera</th>\n",
              "      <th>front_camera_count</th>\n",
              "      <th>os_type</th>\n",
              "      <th>price</th>\n",
              "      <th>rating</th>\n",
              "    </tr>\n",
              "  </thead>\n",
              "  <tbody>\n",
              "    <tr>\n",
              "      <th>26</th>\n",
              "      <td>1290</td>\n",
              "      <td>2796</td>\n",
              "      <td>Apple</td>\n",
              "      <td>4323</td>\n",
              "      <td>20</td>\n",
              "      <td>1</td>\n",
              "      <td>6</td>\n",
              "      <td>128</td>\n",
              "      <td>yes</td>\n",
              "      <td>yes</td>\n",
              "      <td>...</td>\n",
              "      <td>NaN</td>\n",
              "      <td>6.70</td>\n",
              "      <td>120</td>\n",
              "      <td>48</td>\n",
              "      <td>Triple</td>\n",
              "      <td>12.0</td>\n",
              "      <td>Single</td>\n",
              "      <td>iOS</td>\n",
              "      <td>129990.0</td>\n",
              "      <td>76</td>\n",
              "    </tr>\n",
              "    <tr>\n",
              "      <th>82</th>\n",
              "      <td>1179</td>\n",
              "      <td>2556</td>\n",
              "      <td>Apple</td>\n",
              "      <td>3200</td>\n",
              "      <td>20</td>\n",
              "      <td>1</td>\n",
              "      <td>6</td>\n",
              "      <td>128</td>\n",
              "      <td>yes</td>\n",
              "      <td>yes</td>\n",
              "      <td>...</td>\n",
              "      <td>NaN</td>\n",
              "      <td>6.10</td>\n",
              "      <td>120</td>\n",
              "      <td>48</td>\n",
              "      <td>Triple</td>\n",
              "      <td>12.0</td>\n",
              "      <td>Single</td>\n",
              "      <td>iOS</td>\n",
              "      <td>119990.0</td>\n",
              "      <td>75</td>\n",
              "    </tr>\n",
              "    <tr>\n",
              "      <th>83</th>\n",
              "      <td>1080</td>\n",
              "      <td>2400</td>\n",
              "      <td>Google</td>\n",
              "      <td>4410</td>\n",
              "      <td>25.0</td>\n",
              "      <td>1</td>\n",
              "      <td>6</td>\n",
              "      <td>128</td>\n",
              "      <td>yes</td>\n",
              "      <td>yes</td>\n",
              "      <td>...</td>\n",
              "      <td>NaN</td>\n",
              "      <td>6.14</td>\n",
              "      <td>&lt;NA&gt;</td>\n",
              "      <td>2</td>\n",
              "      <td>Dual</td>\n",
              "      <td>8.0</td>\n",
              "      <td>Single</td>\n",
              "      <td>Android</td>\n",
              "      <td>29999.0</td>\n",
              "      <td>71</td>\n",
              "    </tr>\n",
              "    <tr>\n",
              "      <th>154</th>\n",
              "      <td>1290</td>\n",
              "      <td>2796</td>\n",
              "      <td>Apple</td>\n",
              "      <td>4323</td>\n",
              "      <td>20</td>\n",
              "      <td>1</td>\n",
              "      <td>6</td>\n",
              "      <td>256</td>\n",
              "      <td>yes</td>\n",
              "      <td>yes</td>\n",
              "      <td>...</td>\n",
              "      <td>NaN</td>\n",
              "      <td>6.70</td>\n",
              "      <td>120</td>\n",
              "      <td>48</td>\n",
              "      <td>Triple</td>\n",
              "      <td>12.0</td>\n",
              "      <td>Single</td>\n",
              "      <td>iOS</td>\n",
              "      <td>139990.0</td>\n",
              "      <td>77</td>\n",
              "    </tr>\n",
              "    <tr>\n",
              "      <th>179</th>\n",
              "      <td>720</td>\n",
              "      <td>1600</td>\n",
              "      <td>Vivo</td>\n",
              "      <td>5000</td>\n",
              "      <td>10</td>\n",
              "      <td>1</td>\n",
              "      <td>3</td>\n",
              "      <td>32</td>\n",
              "      <td>no</td>\n",
              "      <td>no</td>\n",
              "      <td>...</td>\n",
              "      <td>NaN</td>\n",
              "      <td>6.51</td>\n",
              "      <td>&lt;NA&gt;</td>\n",
              "      <td>8</td>\n",
              "      <td>single</td>\n",
              "      <td>5.0</td>\n",
              "      <td>Single</td>\n",
              "      <td>Android</td>\n",
              "      <td>8999.0</td>\n",
              "      <td>&lt;NA&gt;</td>\n",
              "    </tr>\n",
              "    <tr>\n",
              "      <th>207</th>\n",
              "      <td>1290</td>\n",
              "      <td>2796</td>\n",
              "      <td>Apple</td>\n",
              "      <td>4323</td>\n",
              "      <td>20</td>\n",
              "      <td>1</td>\n",
              "      <td>6</td>\n",
              "      <td>1024</td>\n",
              "      <td>yes</td>\n",
              "      <td>yes</td>\n",
              "      <td>...</td>\n",
              "      <td>NaN</td>\n",
              "      <td>6.70</td>\n",
              "      <td>120</td>\n",
              "      <td>48</td>\n",
              "      <td>Triple</td>\n",
              "      <td>12.0</td>\n",
              "      <td>Single</td>\n",
              "      <td>iOS</td>\n",
              "      <td>182999.0</td>\n",
              "      <td>78</td>\n",
              "    </tr>\n",
              "    <tr>\n",
              "      <th>323</th>\n",
              "      <td>1179</td>\n",
              "      <td>2556</td>\n",
              "      <td>Apple</td>\n",
              "      <td>3200</td>\n",
              "      <td>20</td>\n",
              "      <td>1</td>\n",
              "      <td>6</td>\n",
              "      <td>256</td>\n",
              "      <td>yes</td>\n",
              "      <td>yes</td>\n",
              "      <td>...</td>\n",
              "      <td>NaN</td>\n",
              "      <td>6.10</td>\n",
              "      <td>120</td>\n",
              "      <td>48</td>\n",
              "      <td>Triple</td>\n",
              "      <td>12.0</td>\n",
              "      <td>Single</td>\n",
              "      <td>iOS</td>\n",
              "      <td>129990.0</td>\n",
              "      <td>76</td>\n",
              "    </tr>\n",
              "    <tr>\n",
              "      <th>393</th>\n",
              "      <td>720</td>\n",
              "      <td>1600</td>\n",
              "      <td>Vivo</td>\n",
              "      <td>5000</td>\n",
              "      <td>10</td>\n",
              "      <td>1</td>\n",
              "      <td>2</td>\n",
              "      <td>32</td>\n",
              "      <td>no</td>\n",
              "      <td>no</td>\n",
              "      <td>...</td>\n",
              "      <td>NaN</td>\n",
              "      <td>6.51</td>\n",
              "      <td>&lt;NA&gt;</td>\n",
              "      <td>8</td>\n",
              "      <td>single</td>\n",
              "      <td>5.0</td>\n",
              "      <td>Single</td>\n",
              "      <td>Android</td>\n",
              "      <td>7999.0</td>\n",
              "      <td>&lt;NA&gt;</td>\n",
              "    </tr>\n",
              "    <tr>\n",
              "      <th>492</th>\n",
              "      <td>1290</td>\n",
              "      <td>2796</td>\n",
              "      <td>Apple</td>\n",
              "      <td>4323</td>\n",
              "      <td>20</td>\n",
              "      <td>1</td>\n",
              "      <td>6</td>\n",
              "      <td>512</td>\n",
              "      <td>yes</td>\n",
              "      <td>yes</td>\n",
              "      <td>...</td>\n",
              "      <td>NaN</td>\n",
              "      <td>6.70</td>\n",
              "      <td>120</td>\n",
              "      <td>48</td>\n",
              "      <td>Triple</td>\n",
              "      <td>12.0</td>\n",
              "      <td>Single</td>\n",
              "      <td>iOS</td>\n",
              "      <td>162999.0</td>\n",
              "      <td>78</td>\n",
              "    </tr>\n",
              "    <tr>\n",
              "      <th>559</th>\n",
              "      <td>1179</td>\n",
              "      <td>2556</td>\n",
              "      <td>Apple</td>\n",
              "      <td>3200</td>\n",
              "      <td>20</td>\n",
              "      <td>1</td>\n",
              "      <td>6</td>\n",
              "      <td>1024</td>\n",
              "      <td>yes</td>\n",
              "      <td>yes</td>\n",
              "      <td>...</td>\n",
              "      <td>NaN</td>\n",
              "      <td>6.10</td>\n",
              "      <td>120</td>\n",
              "      <td>48</td>\n",
              "      <td>Triple</td>\n",
              "      <td>12.0</td>\n",
              "      <td>Single</td>\n",
              "      <td>iOS</td>\n",
              "      <td>172999.0</td>\n",
              "      <td>77</td>\n",
              "    </tr>\n",
              "    <tr>\n",
              "      <th>646</th>\n",
              "      <td>1600</td>\n",
              "      <td>720</td>\n",
              "      <td>Lava</td>\n",
              "      <td>5000</td>\n",
              "      <td>10</td>\n",
              "      <td>1</td>\n",
              "      <td>3</td>\n",
              "      <td>32</td>\n",
              "      <td>no</td>\n",
              "      <td>no</td>\n",
              "      <td>...</td>\n",
              "      <td>NaN</td>\n",
              "      <td>6.52</td>\n",
              "      <td>&lt;NA&gt;</td>\n",
              "      <td>13</td>\n",
              "      <td>Triple</td>\n",
              "      <td>8.0</td>\n",
              "      <td>Single</td>\n",
              "      <td>Android</td>\n",
              "      <td>7799.0</td>\n",
              "      <td>&lt;NA&gt;</td>\n",
              "    </tr>\n",
              "    <tr>\n",
              "      <th>700</th>\n",
              "      <td>1179</td>\n",
              "      <td>2556</td>\n",
              "      <td>Apple</td>\n",
              "      <td>3200</td>\n",
              "      <td>20</td>\n",
              "      <td>1</td>\n",
              "      <td>6</td>\n",
              "      <td>512</td>\n",
              "      <td>yes</td>\n",
              "      <td>yes</td>\n",
              "      <td>...</td>\n",
              "      <td>NaN</td>\n",
              "      <td>6.10</td>\n",
              "      <td>120</td>\n",
              "      <td>48</td>\n",
              "      <td>Triple</td>\n",
              "      <td>12.0</td>\n",
              "      <td>Single</td>\n",
              "      <td>iOS</td>\n",
              "      <td>152999.0</td>\n",
              "      <td>77</td>\n",
              "    </tr>\n",
              "    <tr>\n",
              "      <th>783</th>\n",
              "      <td>480</td>\n",
              "      <td>854</td>\n",
              "      <td>Lava</td>\n",
              "      <td>3100</td>\n",
              "      <td>10</td>\n",
              "      <td>0</td>\n",
              "      <td>2</td>\n",
              "      <td>32</td>\n",
              "      <td>no</td>\n",
              "      <td>no</td>\n",
              "      <td>...</td>\n",
              "      <td>NaN</td>\n",
              "      <td>5.00</td>\n",
              "      <td>&lt;NA&gt;</td>\n",
              "      <td>5</td>\n",
              "      <td>single</td>\n",
              "      <td>2.0</td>\n",
              "      <td>Single</td>\n",
              "      <td>Android</td>\n",
              "      <td>5299.0</td>\n",
              "      <td>&lt;NA&gt;</td>\n",
              "    </tr>\n",
              "    <tr>\n",
              "      <th>818</th>\n",
              "      <td>720</td>\n",
              "      <td>1520</td>\n",
              "      <td>itel</td>\n",
              "      <td>3000</td>\n",
              "      <td>10</td>\n",
              "      <td>0</td>\n",
              "      <td>2</td>\n",
              "      <td>32</td>\n",
              "      <td>no</td>\n",
              "      <td>no</td>\n",
              "      <td>...</td>\n",
              "      <td>NaN</td>\n",
              "      <td>6.10</td>\n",
              "      <td>&lt;NA&gt;</td>\n",
              "      <td>5</td>\n",
              "      <td>single</td>\n",
              "      <td>5.0</td>\n",
              "      <td>Single</td>\n",
              "      <td>Android</td>\n",
              "      <td>5540.0</td>\n",
              "      <td>&lt;NA&gt;</td>\n",
              "    </tr>\n",
              "  </tbody>\n",
              "</table>\n",
              "<p>14 rows × 22 columns</p>\n",
              "</div>"
            ],
            "text/plain": [
              "     pixel1  pixel2 company  battery_capacity charger_capacity  fast_charging  \\\n",
              "26     1290    2796   Apple              4323               20              1   \n",
              "82     1179    2556   Apple              3200               20              1   \n",
              "83     1080    2400  Google              4410             25.0              1   \n",
              "154    1290    2796   Apple              4323               20              1   \n",
              "179     720    1600    Vivo              5000               10              1   \n",
              "207    1290    2796   Apple              4323               20              1   \n",
              "323    1179    2556   Apple              3200               20              1   \n",
              "393     720    1600    Vivo              5000               10              1   \n",
              "492    1290    2796   Apple              4323               20              1   \n",
              "559    1179    2556   Apple              3200               20              1   \n",
              "646    1600     720    Lava              5000               10              1   \n",
              "700    1179    2556   Apple              3200               20              1   \n",
              "783     480     854    Lava              3100               10              0   \n",
              "818     720    1520    itel              3000               10              0   \n",
              "\n",
              "     ram_capacity   rom   5G  nfc  ... processor_speed screen_size  \\\n",
              "26              6   128  yes  yes  ...             NaN        6.70   \n",
              "82              6   128  yes  yes  ...             NaN        6.10   \n",
              "83              6   128  yes  yes  ...             NaN        6.14   \n",
              "154             6   256  yes  yes  ...             NaN        6.70   \n",
              "179             3    32   no   no  ...             NaN        6.51   \n",
              "207             6  1024  yes  yes  ...             NaN        6.70   \n",
              "323             6   256  yes  yes  ...             NaN        6.10   \n",
              "393             2    32   no   no  ...             NaN        6.51   \n",
              "492             6   512  yes  yes  ...             NaN        6.70   \n",
              "559             6  1024  yes  yes  ...             NaN        6.10   \n",
              "646             3    32   no   no  ...             NaN        6.52   \n",
              "700             6   512  yes  yes  ...             NaN        6.10   \n",
              "783             2    32   no   no  ...             NaN        5.00   \n",
              "818             2    32   no   no  ...             NaN        6.10   \n",
              "\n",
              "     refresh_rate  rear_camera  rear_camera_count  front_camera  \\\n",
              "26            120           48             Triple          12.0   \n",
              "82            120           48             Triple          12.0   \n",
              "83           <NA>            2               Dual           8.0   \n",
              "154           120           48             Triple          12.0   \n",
              "179          <NA>            8             single           5.0   \n",
              "207           120           48             Triple          12.0   \n",
              "323           120           48             Triple          12.0   \n",
              "393          <NA>            8             single           5.0   \n",
              "492           120           48             Triple          12.0   \n",
              "559           120           48             Triple          12.0   \n",
              "646          <NA>           13             Triple           8.0   \n",
              "700           120           48             Triple          12.0   \n",
              "783          <NA>            5             single           2.0   \n",
              "818          <NA>            5             single           5.0   \n",
              "\n",
              "    front_camera_count  os_type     price rating  \n",
              "26              Single      iOS  129990.0     76  \n",
              "82              Single      iOS  119990.0     75  \n",
              "83              Single  Android   29999.0     71  \n",
              "154             Single      iOS  139990.0     77  \n",
              "179             Single  Android    8999.0   <NA>  \n",
              "207             Single      iOS  182999.0     78  \n",
              "323             Single      iOS  129990.0     76  \n",
              "393             Single  Android    7999.0   <NA>  \n",
              "492             Single      iOS  162999.0     78  \n",
              "559             Single      iOS  172999.0     77  \n",
              "646             Single  Android    7799.0   <NA>  \n",
              "700             Single      iOS  152999.0     77  \n",
              "783             Single  Android    5299.0   <NA>  \n",
              "818             Single  Android    5540.0   <NA>  \n",
              "\n",
              "[14 rows x 22 columns]"
            ]
          },
          "execution_count": 89,
          "metadata": {},
          "output_type": "execute_result"
        }
      ],
      "source": [
        "dfnew[dfnew[\"processor_speed\"].isnull()]"
      ]
    },
    {
      "cell_type": "code",
      "execution_count": null,
      "id": "1426dd7d",
      "metadata": {
        "id": "1426dd7d",
        "outputId": "44d84f47-5769-456f-ff8c-2ab8d0aa3f23"
      },
      "outputs": [
        {
          "name": "stderr",
          "output_type": "stream",
          "text": [
            "C:\\Users\\harshit\\AppData\\Local\\Temp\\ipykernel_5492\\2671449092.py:1: SettingWithCopyWarning: \n",
            "A value is trying to be set on a copy of a slice from a DataFrame\n",
            "\n",
            "See the caveats in the documentation: https://pandas.pydata.org/pandas-docs/stable/user_guide/indexing.html#returning-a-view-versus-a-copy\n",
            "  dfnew[\"processor_speed\"][83]=2.8\n"
          ]
        }
      ],
      "source": [
        "dfnew[\"processor_speed\"][83]=2.8"
      ]
    },
    {
      "cell_type": "code",
      "execution_count": null,
      "id": "33e9a902",
      "metadata": {
        "id": "33e9a902"
      },
      "outputs": [],
      "source": [
        "temp=dfnew[dfnew[\"company\"]==\"Apple\"].index\n",
        "dfnew.loc[temp,\"processor_speed\"]=3.6"
      ]
    },
    {
      "cell_type": "code",
      "execution_count": null,
      "id": "0d23ab94",
      "metadata": {
        "id": "0d23ab94"
      },
      "outputs": [],
      "source": [
        "temp=dfnew[dfnew[\"processor_speed\"].isnull()].index\n",
        "dfnew.loc[temp,\"processor_speed\"]= 1.5"
      ]
    },
    {
      "cell_type": "code",
      "execution_count": null,
      "id": "53caa551",
      "metadata": {
        "id": "53caa551"
      },
      "outputs": [],
      "source": []
    },
    {
      "cell_type": "code",
      "execution_count": null,
      "id": "9b32fc00",
      "metadata": {
        "id": "9b32fc00",
        "outputId": "e7f4258d-fb49-475d-8cc6-17c9a402b0b8"
      },
      "outputs": [
        {
          "data": {
            "text/html": [
              "<div>\n",
              "<style scoped>\n",
              "    .dataframe tbody tr th:only-of-type {\n",
              "        vertical-align: middle;\n",
              "    }\n",
              "\n",
              "    .dataframe tbody tr th {\n",
              "        vertical-align: top;\n",
              "    }\n",
              "\n",
              "    .dataframe thead th {\n",
              "        text-align: right;\n",
              "    }\n",
              "</style>\n",
              "<table border=\"1\" class=\"dataframe\">\n",
              "  <thead>\n",
              "    <tr style=\"text-align: right;\">\n",
              "      <th></th>\n",
              "      <th>pixel1</th>\n",
              "      <th>pixel2</th>\n",
              "      <th>company</th>\n",
              "      <th>battery_capacity</th>\n",
              "      <th>charger_capacity</th>\n",
              "      <th>fast_charging</th>\n",
              "      <th>ram_capacity</th>\n",
              "      <th>rom</th>\n",
              "      <th>5G</th>\n",
              "      <th>nfc</th>\n",
              "      <th>...</th>\n",
              "      <th>processor_speed</th>\n",
              "      <th>screen_size</th>\n",
              "      <th>refresh_rate</th>\n",
              "      <th>rear_camera</th>\n",
              "      <th>rear_camera_count</th>\n",
              "      <th>front_camera</th>\n",
              "      <th>front_camera_count</th>\n",
              "      <th>os_type</th>\n",
              "      <th>price</th>\n",
              "      <th>rating</th>\n",
              "    </tr>\n",
              "  </thead>\n",
              "  <tbody>\n",
              "    <tr>\n",
              "      <th>925</th>\n",
              "      <td>1440</td>\n",
              "      <td>720</td>\n",
              "      <td>CAT</td>\n",
              "      <td>4200</td>\n",
              "      <td>10</td>\n",
              "      <td>0</td>\n",
              "      <td>3</td>\n",
              "      <td>32</td>\n",
              "      <td>no</td>\n",
              "      <td>no</td>\n",
              "      <td>...</td>\n",
              "      <td>1.8</td>\n",
              "      <td>5.5</td>\n",
              "      <td>&lt;NA&gt;</td>\n",
              "      <td>13</td>\n",
              "      <td>single</td>\n",
              "      <td>NaN</td>\n",
              "      <td>Single</td>\n",
              "      <td>Android</td>\n",
              "      <td>21999.0</td>\n",
              "      <td>62</td>\n",
              "    </tr>\n",
              "  </tbody>\n",
              "</table>\n",
              "<p>1 rows × 22 columns</p>\n",
              "</div>"
            ],
            "text/plain": [
              "     pixel1  pixel2 company  battery_capacity charger_capacity  fast_charging  \\\n",
              "925    1440     720     CAT              4200               10              0   \n",
              "\n",
              "     ram_capacity  rom  5G nfc  ... processor_speed screen_size  refresh_rate  \\\n",
              "925             3   32  no  no  ...             1.8         5.5          <NA>   \n",
              "\n",
              "     rear_camera  rear_camera_count  front_camera front_camera_count  os_type  \\\n",
              "925           13             single           NaN             Single  Android   \n",
              "\n",
              "       price rating  \n",
              "925  21999.0     62  \n",
              "\n",
              "[1 rows x 22 columns]"
            ]
          },
          "execution_count": 93,
          "metadata": {},
          "output_type": "execute_result"
        }
      ],
      "source": [
        "dfnew[dfnew[\"front_camera\"].isnull()]"
      ]
    },
    {
      "cell_type": "code",
      "execution_count": null,
      "id": "b490634e",
      "metadata": {
        "id": "b490634e"
      },
      "outputs": [],
      "source": [
        "dfnew.loc[925,[\"front_camera\",\"front_camera_count\"]]= [0,\"no\"]"
      ]
    },
    {
      "cell_type": "code",
      "execution_count": null,
      "id": "45f9992f",
      "metadata": {
        "id": "45f9992f"
      },
      "outputs": [],
      "source": [
        "dfnew.drop([\"refresh_rate\",\"rating\"],inplace=True,axis=1)"
      ]
    },
    {
      "cell_type": "code",
      "execution_count": null,
      "id": "f08a0828",
      "metadata": {
        "id": "f08a0828",
        "outputId": "25c8c773-7dc2-469a-bec0-1633265754a3"
      },
      "outputs": [
        {
          "data": {
            "text/plain": [
              "pixel1                0\n",
              "pixel2                0\n",
              "company               0\n",
              "battery_capacity      0\n",
              "charger_capacity      0\n",
              "fast_charging         0\n",
              "ram_capacity          0\n",
              "rom                   0\n",
              "5G                    0\n",
              "nfc                   0\n",
              "processor_name        0\n",
              "processor_cores       0\n",
              "processor_speed       0\n",
              "screen_size           0\n",
              "rear_camera           0\n",
              "rear_camera_count     0\n",
              "front_camera          0\n",
              "front_camera_count    0\n",
              "os_type               0\n",
              "price                 0\n",
              "dtype: int64"
            ]
          },
          "execution_count": 96,
          "metadata": {},
          "output_type": "execute_result"
        }
      ],
      "source": [
        "dfnew.isnull().sum()"
      ]
    },
    {
      "cell_type": "markdown",
      "id": "1b2dade4",
      "metadata": {
        "id": "1b2dade4"
      },
      "source": [
        "# EDA"
      ]
    },
    {
      "cell_type": "code",
      "execution_count": null,
      "id": "7c90717f",
      "metadata": {
        "id": "7c90717f",
        "outputId": "f7961889-a9d5-4085-eb05-1bb18c858e87"
      },
      "outputs": [
        {
          "data": {
            "image/png": "[encoded data removed]",
            "text/plain": [
              "<Figure size 1500x1000 with 11 Axes>"
            ]
          },
          "metadata": {},
          "output_type": "display_data"
        }
      ],
      "source": [
        "col=['pixel1', 'pixel2', 'battery_capacity', 'charger_capacity',\n",
        "     'ram_capacity', 'rom',\n",
        "    'processor_speed', 'screen_size', 'rear_camera',\n",
        "        'front_camera',\n",
        "       'price']\n",
        "plt.figure(figsize=(15,10))\n",
        "n=1\n",
        "for i in col:\n",
        "    plt.subplot(3,4,n)\n",
        "    sns.boxplot(x=dfnew[i])\n",
        "    n=n+1"
      ]
    },
    {
      "cell_type": "code",
      "execution_count": null,
      "id": "0013598b",
      "metadata": {
        "id": "0013598b",
        "outputId": "6b056db0-d291-419e-a4c9-7901cd126403"
      },
      "outputs": [
        {
          "data": {
            "text/html": [
              "<div>\n",
              "<style scoped>\n",
              "    .dataframe tbody tr th:only-of-type {\n",
              "        vertical-align: middle;\n",
              "    }\n",
              "\n",
              "    .dataframe tbody tr th {\n",
              "        vertical-align: top;\n",
              "    }\n",
              "\n",
              "    .dataframe thead th {\n",
              "        text-align: right;\n",
              "    }\n",
              "</style>\n",
              "<table border=\"1\" class=\"dataframe\">\n",
              "  <thead>\n",
              "    <tr style=\"text-align: right;\">\n",
              "      <th></th>\n",
              "      <th>pixel1</th>\n",
              "      <th>pixel2</th>\n",
              "      <th>company</th>\n",
              "      <th>battery_capacity</th>\n",
              "      <th>charger_capacity</th>\n",
              "      <th>fast_charging</th>\n",
              "      <th>ram_capacity</th>\n",
              "      <th>rom</th>\n",
              "      <th>5G</th>\n",
              "      <th>nfc</th>\n",
              "      <th>processor_name</th>\n",
              "      <th>processor_cores</th>\n",
              "      <th>processor_speed</th>\n",
              "      <th>screen_size</th>\n",
              "      <th>rear_camera</th>\n",
              "      <th>rear_camera_count</th>\n",
              "      <th>front_camera</th>\n",
              "      <th>front_camera_count</th>\n",
              "      <th>os_type</th>\n",
              "      <th>price</th>\n",
              "    </tr>\n",
              "  </thead>\n",
              "  <tbody>\n",
              "    <tr>\n",
              "      <th>350</th>\n",
              "      <td>1644</td>\n",
              "      <td>3840</td>\n",
              "      <td>Sony</td>\n",
              "      <td>5000</td>\n",
              "      <td>30</td>\n",
              "      <td>1</td>\n",
              "      <td>12</td>\n",
              "      <td>512</td>\n",
              "      <td>yes</td>\n",
              "      <td>yes</td>\n",
              "      <td>Snapdragon</td>\n",
              "      <td>Octa</td>\n",
              "      <td>3.00</td>\n",
              "      <td>6.5</td>\n",
              "      <td>12</td>\n",
              "      <td>Quad</td>\n",
              "      <td>12.0</td>\n",
              "      <td>Single</td>\n",
              "      <td>Android</td>\n",
              "      <td>92980.0</td>\n",
              "    </tr>\n",
              "    <tr>\n",
              "      <th>721</th>\n",
              "      <td>1644</td>\n",
              "      <td>3840</td>\n",
              "      <td>Sony</td>\n",
              "      <td>4500</td>\n",
              "      <td>30</td>\n",
              "      <td>1</td>\n",
              "      <td>12</td>\n",
              "      <td>256</td>\n",
              "      <td>yes</td>\n",
              "      <td>yes</td>\n",
              "      <td>Snapdragon</td>\n",
              "      <td>Octa</td>\n",
              "      <td>2.84</td>\n",
              "      <td>6.5</td>\n",
              "      <td>12</td>\n",
              "      <td>Quad</td>\n",
              "      <td>8.0</td>\n",
              "      <td>Single</td>\n",
              "      <td>Android</td>\n",
              "      <td>83490.0</td>\n",
              "    </tr>\n",
              "  </tbody>\n",
              "</table>\n",
              "</div>"
            ],
            "text/plain": [
              "     pixel1  pixel2 company  battery_capacity charger_capacity  fast_charging  \\\n",
              "350    1644    3840    Sony              5000               30              1   \n",
              "721    1644    3840    Sony              4500               30              1   \n",
              "\n",
              "     ram_capacity  rom   5G  nfc processor_name processor_cores  \\\n",
              "350            12  512  yes  yes     Snapdragon            Octa   \n",
              "721            12  256  yes  yes     Snapdragon            Octa   \n",
              "\n",
              "     processor_speed  screen_size  rear_camera rear_camera_count  \\\n",
              "350             3.00          6.5           12              Quad   \n",
              "721             2.84          6.5           12              Quad   \n",
              "\n",
              "     front_camera front_camera_count  os_type    price  \n",
              "350          12.0             Single  Android  92980.0  \n",
              "721           8.0             Single  Android  83490.0  "
            ]
          },
          "execution_count": 100,
          "metadata": {},
          "output_type": "execute_result"
        }
      ],
      "source": [
        "dfnew[dfnew[\"pixel2\"]>3500]"
      ]
    },
    {
      "cell_type": "code",
      "execution_count": null,
      "id": "8c732b36",
      "metadata": {
        "id": "8c732b36",
        "outputId": "83aa2b27-60d7-4dcb-9be4-69ef8726c043"
      },
      "outputs": [
        {
          "data": {
            "image/png": "[encoded data removed]",
            "text/plain": [
              "<Figure size 1500x1000 with 11 Axes>"
            ]
          },
          "metadata": {},
          "output_type": "display_data"
        }
      ],
      "source": [
        "col=['pixel1', 'pixel2', 'battery_capacity', 'charger_capacity',\n",
        "     'ram_capacity', 'rom',\n",
        "    'processor_speed', 'screen_size', 'rear_camera',\n",
        "        'front_camera',\n",
        "       'price']\n",
        "plt.figure(figsize=(15,10))\n",
        "n=1\n",
        "for i in col:\n",
        "    plt.subplot(3,4,n)\n",
        "    sns.histplot(x=dfnew[i])\n",
        "    n=n+1\n",
        "plt.tight_layout()"
      ]
    },
    {
      "cell_type": "code",
      "execution_count": null,
      "id": "199ceff3",
      "metadata": {
        "id": "199ceff3",
        "outputId": "b3b44c72-e29c-419f-b680-5a4cae64417b"
      },
      "outputs": [
        {
          "data": {
            "text/html": [
              "<div>\n",
              "<style scoped>\n",
              "    .dataframe tbody tr th:only-of-type {\n",
              "        vertical-align: middle;\n",
              "    }\n",
              "\n",
              "    .dataframe tbody tr th {\n",
              "        vertical-align: top;\n",
              "    }\n",
              "\n",
              "    .dataframe thead th {\n",
              "        text-align: right;\n",
              "    }\n",
              "</style>\n",
              "<table border=\"1\" class=\"dataframe\">\n",
              "  <thead>\n",
              "    <tr style=\"text-align: right;\">\n",
              "      <th></th>\n",
              "      <th>pixel1</th>\n",
              "      <th>pixel2</th>\n",
              "      <th>company</th>\n",
              "      <th>battery_capacity</th>\n",
              "      <th>charger_capacity</th>\n",
              "      <th>fast_charging</th>\n",
              "      <th>ram_capacity</th>\n",
              "      <th>rom</th>\n",
              "      <th>5G</th>\n",
              "      <th>nfc</th>\n",
              "      <th>processor_name</th>\n",
              "      <th>processor_cores</th>\n",
              "      <th>processor_speed</th>\n",
              "      <th>screen_size</th>\n",
              "      <th>rear_camera</th>\n",
              "      <th>rear_camera_count</th>\n",
              "      <th>front_camera</th>\n",
              "      <th>front_camera_count</th>\n",
              "      <th>os_type</th>\n",
              "      <th>price</th>\n",
              "    </tr>\n",
              "  </thead>\n",
              "  <tbody>\n",
              "    <tr>\n",
              "      <th>266</th>\n",
              "      <td>750</td>\n",
              "      <td>1334</td>\n",
              "      <td>Apple</td>\n",
              "      <td>3200</td>\n",
              "      <td>20</td>\n",
              "      <td>0</td>\n",
              "      <td>4</td>\n",
              "      <td>64</td>\n",
              "      <td>yes</td>\n",
              "      <td>yes</td>\n",
              "      <td>Bionic</td>\n",
              "      <td>Hexa</td>\n",
              "      <td>3.60</td>\n",
              "      <td>4.7</td>\n",
              "      <td>12</td>\n",
              "      <td>single</td>\n",
              "      <td>7.0</td>\n",
              "      <td>Single</td>\n",
              "      <td>iOS</td>\n",
              "      <td>43900.0</td>\n",
              "    </tr>\n",
              "    <tr>\n",
              "      <th>387</th>\n",
              "      <td>750</td>\n",
              "      <td>1334</td>\n",
              "      <td>Apple</td>\n",
              "      <td>1821</td>\n",
              "      <td>18</td>\n",
              "      <td>1</td>\n",
              "      <td>3</td>\n",
              "      <td>64</td>\n",
              "      <td>no</td>\n",
              "      <td>yes</td>\n",
              "      <td>Bionic</td>\n",
              "      <td>Hexa</td>\n",
              "      <td>3.60</td>\n",
              "      <td>4.7</td>\n",
              "      <td>12</td>\n",
              "      <td>single</td>\n",
              "      <td>7.0</td>\n",
              "      <td>Single</td>\n",
              "      <td>iOS</td>\n",
              "      <td>39900.0</td>\n",
              "    </tr>\n",
              "    <tr>\n",
              "      <th>533</th>\n",
              "      <td>750</td>\n",
              "      <td>1334</td>\n",
              "      <td>Apple</td>\n",
              "      <td>3200</td>\n",
              "      <td>20</td>\n",
              "      <td>0</td>\n",
              "      <td>4</td>\n",
              "      <td>128</td>\n",
              "      <td>yes</td>\n",
              "      <td>yes</td>\n",
              "      <td>Bionic</td>\n",
              "      <td>Hexa</td>\n",
              "      <td>3.60</td>\n",
              "      <td>4.7</td>\n",
              "      <td>12</td>\n",
              "      <td>single</td>\n",
              "      <td>7.0</td>\n",
              "      <td>Single</td>\n",
              "      <td>iOS</td>\n",
              "      <td>48900.0</td>\n",
              "    </tr>\n",
              "    <tr>\n",
              "      <th>591</th>\n",
              "      <td>750</td>\n",
              "      <td>1334</td>\n",
              "      <td>Apple</td>\n",
              "      <td>1821</td>\n",
              "      <td>18</td>\n",
              "      <td>1</td>\n",
              "      <td>3</td>\n",
              "      <td>128</td>\n",
              "      <td>no</td>\n",
              "      <td>yes</td>\n",
              "      <td>Bionic</td>\n",
              "      <td>Hexa</td>\n",
              "      <td>3.60</td>\n",
              "      <td>4.7</td>\n",
              "      <td>12</td>\n",
              "      <td>single</td>\n",
              "      <td>7.0</td>\n",
              "      <td>Single</td>\n",
              "      <td>iOS</td>\n",
              "      <td>44900.0</td>\n",
              "    </tr>\n",
              "    <tr>\n",
              "      <th>601</th>\n",
              "      <td>750</td>\n",
              "      <td>1334</td>\n",
              "      <td>Apple</td>\n",
              "      <td>1960</td>\n",
              "      <td>20</td>\n",
              "      <td>0</td>\n",
              "      <td>2</td>\n",
              "      <td>32</td>\n",
              "      <td>no</td>\n",
              "      <td>yes</td>\n",
              "      <td>Bionic</td>\n",
              "      <td>Quad</td>\n",
              "      <td>3.60</td>\n",
              "      <td>4.7</td>\n",
              "      <td>12</td>\n",
              "      <td>single</td>\n",
              "      <td>7.0</td>\n",
              "      <td>Single</td>\n",
              "      <td>iOS</td>\n",
              "      <td>31500.0</td>\n",
              "    </tr>\n",
              "    <tr>\n",
              "      <th>653</th>\n",
              "      <td>750</td>\n",
              "      <td>1334</td>\n",
              "      <td>Apple</td>\n",
              "      <td>3200</td>\n",
              "      <td>20</td>\n",
              "      <td>0</td>\n",
              "      <td>4</td>\n",
              "      <td>256</td>\n",
              "      <td>yes</td>\n",
              "      <td>yes</td>\n",
              "      <td>Bionic</td>\n",
              "      <td>Hexa</td>\n",
              "      <td>3.60</td>\n",
              "      <td>4.7</td>\n",
              "      <td>12</td>\n",
              "      <td>single</td>\n",
              "      <td>7.0</td>\n",
              "      <td>Single</td>\n",
              "      <td>iOS</td>\n",
              "      <td>58900.0</td>\n",
              "    </tr>\n",
              "    <tr>\n",
              "      <th>760</th>\n",
              "      <td>1440</td>\n",
              "      <td>1440</td>\n",
              "      <td>BlackBerry</td>\n",
              "      <td>3450</td>\n",
              "      <td>12</td>\n",
              "      <td>0</td>\n",
              "      <td>3</td>\n",
              "      <td>32</td>\n",
              "      <td>no</td>\n",
              "      <td>no</td>\n",
              "      <td>Snapdragon</td>\n",
              "      <td>Quad</td>\n",
              "      <td>2.26</td>\n",
              "      <td>4.5</td>\n",
              "      <td>13</td>\n",
              "      <td>single</td>\n",
              "      <td>2.0</td>\n",
              "      <td>Single</td>\n",
              "      <td>Blackberry</td>\n",
              "      <td>26999.0</td>\n",
              "    </tr>\n",
              "    <tr>\n",
              "      <th>942</th>\n",
              "      <td>750</td>\n",
              "      <td>1334</td>\n",
              "      <td>Apple</td>\n",
              "      <td>1821</td>\n",
              "      <td>18</td>\n",
              "      <td>1</td>\n",
              "      <td>3</td>\n",
              "      <td>256</td>\n",
              "      <td>no</td>\n",
              "      <td>yes</td>\n",
              "      <td>Bionic</td>\n",
              "      <td>Hexa</td>\n",
              "      <td>3.60</td>\n",
              "      <td>4.7</td>\n",
              "      <td>12</td>\n",
              "      <td>single</td>\n",
              "      <td>7.0</td>\n",
              "      <td>Single</td>\n",
              "      <td>iOS</td>\n",
              "      <td>54900.0</td>\n",
              "    </tr>\n",
              "  </tbody>\n",
              "</table>\n",
              "</div>"
            ],
            "text/plain": [
              "     pixel1  pixel2     company  battery_capacity charger_capacity  \\\n",
              "266     750    1334       Apple              3200               20   \n",
              "387     750    1334       Apple              1821               18   \n",
              "533     750    1334       Apple              3200               20   \n",
              "591     750    1334       Apple              1821               18   \n",
              "601     750    1334       Apple              1960               20   \n",
              "653     750    1334       Apple              3200               20   \n",
              "760    1440    1440  BlackBerry              3450               12   \n",
              "942     750    1334       Apple              1821               18   \n",
              "\n",
              "     fast_charging  ram_capacity  rom   5G  nfc processor_name  \\\n",
              "266              0             4   64  yes  yes         Bionic   \n",
              "387              1             3   64   no  yes         Bionic   \n",
              "533              0             4  128  yes  yes         Bionic   \n",
              "591              1             3  128   no  yes         Bionic   \n",
              "601              0             2   32   no  yes         Bionic   \n",
              "653              0             4  256  yes  yes         Bionic   \n",
              "760              0             3   32   no   no     Snapdragon   \n",
              "942              1             3  256   no  yes         Bionic   \n",
              "\n",
              "    processor_cores  processor_speed  screen_size  rear_camera  \\\n",
              "266            Hexa             3.60          4.7           12   \n",
              "387            Hexa             3.60          4.7           12   \n",
              "533            Hexa             3.60          4.7           12   \n",
              "591            Hexa             3.60          4.7           12   \n",
              "601            Quad             3.60          4.7           12   \n",
              "653            Hexa             3.60          4.7           12   \n",
              "760            Quad             2.26          4.5           13   \n",
              "942            Hexa             3.60          4.7           12   \n",
              "\n",
              "    rear_camera_count  front_camera front_camera_count     os_type    price  \n",
              "266            single           7.0             Single         iOS  43900.0  \n",
              "387            single           7.0             Single         iOS  39900.0  \n",
              "533            single           7.0             Single         iOS  48900.0  \n",
              "591            single           7.0             Single         iOS  44900.0  \n",
              "601            single           7.0             Single         iOS  31500.0  \n",
              "653            single           7.0             Single         iOS  58900.0  \n",
              "760            single           2.0             Single  Blackberry  26999.0  \n",
              "942            single           7.0             Single         iOS  54900.0  "
            ]
          },
          "execution_count": 102,
          "metadata": {},
          "output_type": "execute_result"
        }
      ],
      "source": [
        "dfnew[dfnew[\"screen_size\"]<5]\n"
      ]
    },
    {
      "cell_type": "code",
      "execution_count": null,
      "id": "fcacaf65",
      "metadata": {
        "id": "fcacaf65",
        "outputId": "d6edc048-a234-48b6-e1c6-97185863a19f"
      },
      "outputs": [
        {
          "data": {
            "text/plain": [
              "Triple    407\n",
              "Dual      196\n",
              "Quad      161\n",
              "single    100\n",
              "Name: rear_camera_count, dtype: int64"
            ]
          },
          "execution_count": 103,
          "metadata": {},
          "output_type": "execute_result"
        }
      ],
      "source": [
        "dfnew[\"rear_camera_count\"].value_counts()"
      ]
    },
    {
      "cell_type": "code",
      "execution_count": null,
      "id": "4ab83d19",
      "metadata": {
        "id": "4ab83d19",
        "outputId": "3b67064a-5fe3-4035-f370-df2422e5a480"
      },
      "outputs": [
        {
          "data": {
            "text/plain": [
              "Single    836\n",
              "Dual       27\n",
              "no          1\n",
              "Name: front_camera_count, dtype: int64"
            ]
          },
          "execution_count": 104,
          "metadata": {},
          "output_type": "execute_result"
        }
      ],
      "source": [
        "dfnew[\"front_camera_count\"].value_counts()"
      ]
    },
    {
      "cell_type": "code",
      "execution_count": null,
      "id": "cc1a22e5",
      "metadata": {
        "id": "cc1a22e5",
        "outputId": "c2c3886c-2704-4f9e-e642-7fa0a66d4213"
      },
      "outputs": [
        {
          "data": {
            "text/html": [
              "<div>\n",
              "<style scoped>\n",
              "    .dataframe tbody tr th:only-of-type {\n",
              "        vertical-align: middle;\n",
              "    }\n",
              "\n",
              "    .dataframe tbody tr th {\n",
              "        vertical-align: top;\n",
              "    }\n",
              "\n",
              "    .dataframe thead th {\n",
              "        text-align: right;\n",
              "    }\n",
              "</style>\n",
              "<table border=\"1\" class=\"dataframe\">\n",
              "  <thead>\n",
              "    <tr style=\"text-align: right;\">\n",
              "      <th></th>\n",
              "      <th>pixel1</th>\n",
              "      <th>pixel2</th>\n",
              "      <th>company</th>\n",
              "      <th>battery_capacity</th>\n",
              "      <th>charger_capacity</th>\n",
              "      <th>fast_charging</th>\n",
              "      <th>ram_capacity</th>\n",
              "      <th>rom</th>\n",
              "      <th>5G</th>\n",
              "      <th>nfc</th>\n",
              "      <th>processor_name</th>\n",
              "      <th>processor_cores</th>\n",
              "      <th>processor_speed</th>\n",
              "      <th>screen_size</th>\n",
              "      <th>rear_camera</th>\n",
              "      <th>rear_camera_count</th>\n",
              "      <th>front_camera</th>\n",
              "      <th>front_camera_count</th>\n",
              "      <th>os_type</th>\n",
              "      <th>price</th>\n",
              "    </tr>\n",
              "  </thead>\n",
              "  <tbody>\n",
              "    <tr>\n",
              "      <th>0</th>\n",
              "      <td>1080</td>\n",
              "      <td>2412</td>\n",
              "      <td>OnePlus</td>\n",
              "      <td>5000</td>\n",
              "      <td>33</td>\n",
              "      <td>1</td>\n",
              "      <td>6</td>\n",
              "      <td>128</td>\n",
              "      <td>yes</td>\n",
              "      <td>no</td>\n",
              "      <td>Snapdragon</td>\n",
              "      <td>Octa</td>\n",
              "      <td>2.2</td>\n",
              "      <td>6.59</td>\n",
              "      <td>64</td>\n",
              "      <td>Triple</td>\n",
              "      <td>16.0</td>\n",
              "      <td>Single</td>\n",
              "      <td>Android</td>\n",
              "      <td>18999.0</td>\n",
              "    </tr>\n",
              "    <tr>\n",
              "      <th>1</th>\n",
              "      <td>1080</td>\n",
              "      <td>2408</td>\n",
              "      <td>Samsung</td>\n",
              "      <td>5000</td>\n",
              "      <td>15</td>\n",
              "      <td>1</td>\n",
              "      <td>4</td>\n",
              "      <td>64</td>\n",
              "      <td>yes</td>\n",
              "      <td>no</td>\n",
              "      <td>Exynos</td>\n",
              "      <td>Octa</td>\n",
              "      <td>2.4</td>\n",
              "      <td>6.60</td>\n",
              "      <td>50</td>\n",
              "      <td>Triple</td>\n",
              "      <td>13.0</td>\n",
              "      <td>Single</td>\n",
              "      <td>Android</td>\n",
              "      <td>16499.0</td>\n",
              "    </tr>\n",
              "    <tr>\n",
              "      <th>2</th>\n",
              "      <td>1080</td>\n",
              "      <td>2408</td>\n",
              "      <td>Samsung</td>\n",
              "      <td>5000</td>\n",
              "      <td>25</td>\n",
              "      <td>1</td>\n",
              "      <td>6</td>\n",
              "      <td>128</td>\n",
              "      <td>yes</td>\n",
              "      <td>yes</td>\n",
              "      <td>Snapdragon</td>\n",
              "      <td>Octa</td>\n",
              "      <td>2.2</td>\n",
              "      <td>6.60</td>\n",
              "      <td>50</td>\n",
              "      <td>Triple</td>\n",
              "      <td>8.0</td>\n",
              "      <td>Single</td>\n",
              "      <td>Android</td>\n",
              "      <td>16999.0</td>\n",
              "    </tr>\n",
              "    <tr>\n",
              "      <th>3</th>\n",
              "      <td>1080</td>\n",
              "      <td>2400</td>\n",
              "      <td>Motorola</td>\n",
              "      <td>5000</td>\n",
              "      <td>25.0</td>\n",
              "      <td>1</td>\n",
              "      <td>6</td>\n",
              "      <td>128</td>\n",
              "      <td>yes</td>\n",
              "      <td>no</td>\n",
              "      <td>Snapdragon</td>\n",
              "      <td>Octa</td>\n",
              "      <td>2.2</td>\n",
              "      <td>6.55</td>\n",
              "      <td>50</td>\n",
              "      <td>Triple</td>\n",
              "      <td>16.0</td>\n",
              "      <td>Single</td>\n",
              "      <td>Android</td>\n",
              "      <td>14999.0</td>\n",
              "    </tr>\n",
              "    <tr>\n",
              "      <th>4</th>\n",
              "      <td>1080</td>\n",
              "      <td>2412</td>\n",
              "      <td>Realme</td>\n",
              "      <td>5000</td>\n",
              "      <td>67</td>\n",
              "      <td>1</td>\n",
              "      <td>6</td>\n",
              "      <td>128</td>\n",
              "      <td>yes</td>\n",
              "      <td>no</td>\n",
              "      <td>Dimensity</td>\n",
              "      <td>Octa</td>\n",
              "      <td>2.6</td>\n",
              "      <td>6.70</td>\n",
              "      <td>108</td>\n",
              "      <td>Triple</td>\n",
              "      <td>16.0</td>\n",
              "      <td>Single</td>\n",
              "      <td>Android</td>\n",
              "      <td>24999.0</td>\n",
              "    </tr>\n",
              "  </tbody>\n",
              "</table>\n",
              "</div>"
            ],
            "text/plain": [
              "   pixel1  pixel2   company  battery_capacity charger_capacity  fast_charging  \\\n",
              "0    1080    2412   OnePlus              5000               33              1   \n",
              "1    1080    2408   Samsung              5000               15              1   \n",
              "2    1080    2408   Samsung              5000               25              1   \n",
              "3    1080    2400  Motorola              5000             25.0              1   \n",
              "4    1080    2412    Realme              5000               67              1   \n",
              "\n",
              "   ram_capacity  rom   5G  nfc processor_name processor_cores  \\\n",
              "0             6  128  yes   no     Snapdragon            Octa   \n",
              "1             4   64  yes   no         Exynos            Octa   \n",
              "2             6  128  yes  yes     Snapdragon            Octa   \n",
              "3             6  128  yes   no     Snapdragon            Octa   \n",
              "4             6  128  yes   no      Dimensity            Octa   \n",
              "\n",
              "   processor_speed  screen_size  rear_camera rear_camera_count  front_camera  \\\n",
              "0              2.2         6.59           64            Triple          16.0   \n",
              "1              2.4         6.60           50            Triple          13.0   \n",
              "2              2.2         6.60           50            Triple           8.0   \n",
              "3              2.2         6.55           50            Triple          16.0   \n",
              "4              2.6         6.70          108            Triple          16.0   \n",
              "\n",
              "  front_camera_count  os_type    price  \n",
              "0             Single  Android  18999.0  \n",
              "1             Single  Android  16499.0  \n",
              "2             Single  Android  16999.0  \n",
              "3             Single  Android  14999.0  \n",
              "4             Single  Android  24999.0  "
            ]
          },
          "execution_count": 105,
          "metadata": {},
          "output_type": "execute_result"
        }
      ],
      "source": [
        "dfnew.head()"
      ]
    },
    {
      "cell_type": "code",
      "execution_count": null,
      "id": "337337d8",
      "metadata": {
        "id": "337337d8"
      },
      "outputs": [],
      "source": [
        "\n"
      ]
    },
    {
      "cell_type": "markdown",
      "id": "322ffe99",
      "metadata": {
        "id": "322ffe99"
      },
      "source": [
        "# Feature engineering"
      ]
    },
    {
      "cell_type": "code",
      "execution_count": null,
      "id": "2517b271",
      "metadata": {
        "id": "2517b271"
      },
      "outputs": [],
      "source": [
        "x=dfnew.drop([\"price\"],axis=1)\n",
        "y=dfnew[\"price\"]"
      ]
    },
    {
      "cell_type": "code",
      "execution_count": null,
      "id": "02f2bdee",
      "metadata": {
        "id": "02f2bdee"
      },
      "outputs": [],
      "source": [
        "# dfnew[\"price\"]=dfnew[\"price\"].astype(int)\n",
        "# ct = ColumnTransformer([(\"log_transform_price\",FunctionTransformer(np.log1p,validate=False),[\"price\"])],remainder=\"passthrough\",verbose_feature_names_out=False)\n",
        "# ct.set_output(transform=\"pandas\")"
      ]
    },
    {
      "cell_type": "code",
      "execution_count": null,
      "id": "f294fc94",
      "metadata": {
        "id": "f294fc94"
      },
      "outputs": [],
      "source": []
    },
    {
      "cell_type": "code",
      "execution_count": null,
      "id": "02117c19",
      "metadata": {
        "id": "02117c19",
        "outputId": "470f0d25-3add-4171-ab1b-1f0a7188ab59"
      },
      "outputs": [
        {
          "data": {
            "text/html": [
              "<style>#sk-container-id-1 {color: black;}#sk-container-id-1 pre{padding: 0;}#sk-container-id-1 div.sk-toggleable {background-color: white;}#sk-container-id-1 label.sk-toggleable__label {cursor: pointer;display: block;width: 100%;margin-bottom: 0;padding: 0.3em;box-sizing: border-box;text-align: center;}#sk-container-id-1 label.sk-toggleable__label-arrow:before {content: \"▸\";float: left;margin-right: 0.25em;color: #696969;}#sk-container-id-1 label.sk-toggleable__label-arrow:hover:before {color: black;}#sk-container-id-1 div.sk-estimator:hover label.sk-toggleable__label-arrow:before {color: black;}#sk-container-id-1 div.sk-toggleable__content {max-height: 0;max-width: 0;overflow: hidden;text-align: left;background-color: #f0f8ff;}#sk-container-id-1 div.sk-toggleable__content pre {margin: 0.2em;color: black;border-radius: 0.25em;background-color: #f0f8ff;}#sk-container-id-1 input.sk-toggleable__control:checked~div.sk-toggleable__content {max-height: 200px;max-width: 100%;overflow: auto;}#sk-container-id-1 input.sk-toggleable__control:checked~label.sk-toggleable__label-arrow:before {content: \"▾\";}#sk-container-id-1 div.sk-estimator input.sk-toggleable__control:checked~label.sk-toggleable__label {background-color: #d4ebff;}#sk-container-id-1 div.sk-label input.sk-toggleable__control:checked~label.sk-toggleable__label {background-color: #d4ebff;}#sk-container-id-1 input.sk-hidden--visually {border: 0;clip: rect(1px 1px 1px 1px);clip: rect(1px, 1px, 1px, 1px);height: 1px;margin: -1px;overflow: hidden;padding: 0;position: absolute;width: 1px;}#sk-container-id-1 div.sk-estimator {font-family: monospace;background-color: #f0f8ff;border: 1px dotted black;border-radius: 0.25em;box-sizing: border-box;margin-bottom: 0.5em;}#sk-container-id-1 div.sk-estimator:hover {background-color: #d4ebff;}#sk-container-id-1 div.sk-parallel-item::after {content: \"\";width: 100%;border-bottom: 1px solid gray;flex-grow: 1;}#sk-container-id-1 div.sk-label:hover label.sk-toggleable__label {background-color: #d4ebff;}#sk-container-id-1 div.sk-serial::before {content: \"\";position: absolute;border-left: 1px solid gray;box-sizing: border-box;top: 0;bottom: 0;left: 50%;z-index: 0;}#sk-container-id-1 div.sk-serial {display: flex;flex-direction: column;align-items: center;background-color: white;padding-right: 0.2em;padding-left: 0.2em;position: relative;}#sk-container-id-1 div.sk-item {position: relative;z-index: 1;}#sk-container-id-1 div.sk-parallel {display: flex;align-items: stretch;justify-content: center;background-color: white;position: relative;}#sk-container-id-1 div.sk-item::before, #sk-container-id-1 div.sk-parallel-item::before {content: \"\";position: absolute;border-left: 1px solid gray;box-sizing: border-box;top: 0;bottom: 0;left: 50%;z-index: -1;}#sk-container-id-1 div.sk-parallel-item {display: flex;flex-direction: column;z-index: 1;position: relative;background-color: white;}#sk-container-id-1 div.sk-parallel-item:first-child::after {align-self: flex-end;width: 50%;}#sk-container-id-1 div.sk-parallel-item:last-child::after {align-self: flex-start;width: 50%;}#sk-container-id-1 div.sk-parallel-item:only-child::after {width: 0;}#sk-container-id-1 div.sk-dashed-wrapped {border: 1px dashed gray;margin: 0 0.4em 0.5em 0.4em;box-sizing: border-box;padding-bottom: 0.4em;background-color: white;}#sk-container-id-1 div.sk-label label {font-family: monospace;font-weight: bold;display: inline-block;line-height: 1.2em;}#sk-container-id-1 div.sk-label-container {text-align: center;}#sk-container-id-1 div.sk-container {/* jupyter's `normalize.less` sets `[hidden] { display: none; }` but bootstrap.min.css set `[hidden] { display: none !important; }` so we also need the `!important` here to be able to override the default hidden behavior on the sphinx rendered scikit-learn.org. See: https://github.com/scikit-learn/scikit-learn/issues/21755 */display: inline-block !important;position: relative;}#sk-container-id-1 div.sk-text-repr-fallback {display: none;}</style><div id=\"sk-container-id-1\" class=\"sk-top-container\"><div class=\"sk-text-repr-fallback\"><pre>ColumnTransformer(remainder=&#x27;passthrough&#x27;,\n",
              "                  transformers=[(&#x27;ordinal_cores&#x27;,\n",
              "                                 OrdinalEncoder(categories=[[&#x27;Quad&#x27;, &#x27;Hexa&#x27;,\n",
              "                                                             &#x27;Octa&#x27;, &#x27;Deca&#x27;]]),\n",
              "                                 [&#x27;processor_cores&#x27;]),\n",
              "                                (&#x27;ordinal_ostype&#x27;,\n",
              "                                 OrdinalEncoder(categories=[[&#x27;Blackberry&#x27;,\n",
              "                                                             &#x27;Android&#x27;,\n",
              "                                                             &#x27;Hongmeng&#x27;,\n",
              "                                                             &#x27;iOS&#x27;]]),\n",
              "                                 [&#x27;os_type&#x27;]),\n",
              "                                (&#x27;ordinal_rear_count&#x27;,\n",
              "                                 OrdinalEncoder(categories=[[&#x27;single&#x27;, &#x27;Dual&#x27;,\n",
              "                                                             &#x27;Triple&#x27;,\n",
              "                                                             &#x27;Quad&#x27;]]),\n",
              "                                 [&#x27;rear_camera_count&#x27;]),\n",
              "                                (&#x27;ordinal_front_count&#x27;,\n",
              "                                 OrdinalEncoder(categories=[[&#x27;no&#x27;, &#x27;Single&#x27;,\n",
              "                                                             &#x27;Dual&#x27;]]),\n",
              "                                 [&#x27;front_camera_count&#x27;])],\n",
              "                  verbose_feature_names_out=False)</pre><b>In a Jupyter environment, please rerun this cell to show the HTML representation or trust the notebook. <br />On GitHub, the HTML representation is unable to render, please try loading this page with nbviewer.org.</b></div><div class=\"sk-container\" hidden><div class=\"sk-item sk-dashed-wrapped\"><div class=\"sk-label-container\"><div class=\"sk-label sk-toggleable\"><input class=\"sk-toggleable__control sk-hidden--visually\" id=\"sk-estimator-id-1\" type=\"checkbox\" ><label for=\"sk-estimator-id-1\" class=\"sk-toggleable__label sk-toggleable__label-arrow\">ColumnTransformer</label><div class=\"sk-toggleable__content\"><pre>ColumnTransformer(remainder=&#x27;passthrough&#x27;,\n",
              "                  transformers=[(&#x27;ordinal_cores&#x27;,\n",
              "                                 OrdinalEncoder(categories=[[&#x27;Quad&#x27;, &#x27;Hexa&#x27;,\n",
              "                                                             &#x27;Octa&#x27;, &#x27;Deca&#x27;]]),\n",
              "                                 [&#x27;processor_cores&#x27;]),\n",
              "                                (&#x27;ordinal_ostype&#x27;,\n",
              "                                 OrdinalEncoder(categories=[[&#x27;Blackberry&#x27;,\n",
              "                                                             &#x27;Android&#x27;,\n",
              "                                                             &#x27;Hongmeng&#x27;,\n",
              "                                                             &#x27;iOS&#x27;]]),\n",
              "                                 [&#x27;os_type&#x27;]),\n",
              "                                (&#x27;ordinal_rear_count&#x27;,\n",
              "                                 OrdinalEncoder(categories=[[&#x27;single&#x27;, &#x27;Dual&#x27;,\n",
              "                                                             &#x27;Triple&#x27;,\n",
              "                                                             &#x27;Quad&#x27;]]),\n",
              "                                 [&#x27;rear_camera_count&#x27;]),\n",
              "                                (&#x27;ordinal_front_count&#x27;,\n",
              "                                 OrdinalEncoder(categories=[[&#x27;no&#x27;, &#x27;Single&#x27;,\n",
              "                                                             &#x27;Dual&#x27;]]),\n",
              "                                 [&#x27;front_camera_count&#x27;])],\n",
              "                  verbose_feature_names_out=False)</pre></div></div></div><div class=\"sk-parallel\"><div class=\"sk-parallel-item\"><div class=\"sk-item\"><div class=\"sk-label-container\"><div class=\"sk-label sk-toggleable\"><input class=\"sk-toggleable__control sk-hidden--visually\" id=\"sk-estimator-id-2\" type=\"checkbox\" ><label for=\"sk-estimator-id-2\" class=\"sk-toggleable__label sk-toggleable__label-arrow\">ordinal_cores</label><div class=\"sk-toggleable__content\"><pre>[&#x27;processor_cores&#x27;]</pre></div></div></div><div class=\"sk-serial\"><div class=\"sk-item\"><div class=\"sk-estimator sk-toggleable\"><input class=\"sk-toggleable__control sk-hidden--visually\" id=\"sk-estimator-id-3\" type=\"checkbox\" ><label for=\"sk-estimator-id-3\" class=\"sk-toggleable__label sk-toggleable__label-arrow\">OrdinalEncoder</label><div class=\"sk-toggleable__content\"><pre>OrdinalEncoder(categories=[[&#x27;Quad&#x27;, &#x27;Hexa&#x27;, &#x27;Octa&#x27;, &#x27;Deca&#x27;]])</pre></div></div></div></div></div></div><div class=\"sk-parallel-item\"><div class=\"sk-item\"><div class=\"sk-label-container\"><div class=\"sk-label sk-toggleable\"><input class=\"sk-toggleable__control sk-hidden--visually\" id=\"sk-estimator-id-4\" type=\"checkbox\" ><label for=\"sk-estimator-id-4\" class=\"sk-toggleable__label sk-toggleable__label-arrow\">ordinal_ostype</label><div class=\"sk-toggleable__content\"><pre>[&#x27;os_type&#x27;]</pre></div></div></div><div class=\"sk-serial\"><div class=\"sk-item\"><div class=\"sk-estimator sk-toggleable\"><input class=\"sk-toggleable__control sk-hidden--visually\" id=\"sk-estimator-id-5\" type=\"checkbox\" ><label for=\"sk-estimator-id-5\" class=\"sk-toggleable__label sk-toggleable__label-arrow\">OrdinalEncoder</label><div class=\"sk-toggleable__content\"><pre>OrdinalEncoder(categories=[[&#x27;Blackberry&#x27;, &#x27;Android&#x27;, &#x27;Hongmeng&#x27;, &#x27;iOS&#x27;]])</pre></div></div></div></div></div></div><div class=\"sk-parallel-item\"><div class=\"sk-item\"><div class=\"sk-label-container\"><div class=\"sk-label sk-toggleable\"><input class=\"sk-toggleable__control sk-hidden--visually\" id=\"sk-estimator-id-6\" type=\"checkbox\" ><label for=\"sk-estimator-id-6\" class=\"sk-toggleable__label sk-toggleable__label-arrow\">ordinal_rear_count</label><div class=\"sk-toggleable__content\"><pre>[&#x27;rear_camera_count&#x27;]</pre></div></div></div><div class=\"sk-serial\"><div class=\"sk-item\"><div class=\"sk-estimator sk-toggleable\"><input class=\"sk-toggleable__control sk-hidden--visually\" id=\"sk-estimator-id-7\" type=\"checkbox\" ><label for=\"sk-estimator-id-7\" class=\"sk-toggleable__label sk-toggleable__label-arrow\">OrdinalEncoder</label><div class=\"sk-toggleable__content\"><pre>OrdinalEncoder(categories=[[&#x27;single&#x27;, &#x27;Dual&#x27;, &#x27;Triple&#x27;, &#x27;Quad&#x27;]])</pre></div></div></div></div></div></div><div class=\"sk-parallel-item\"><div class=\"sk-item\"><div class=\"sk-label-container\"><div class=\"sk-label sk-toggleable\"><input class=\"sk-toggleable__control sk-hidden--visually\" id=\"sk-estimator-id-8\" type=\"checkbox\" ><label for=\"sk-estimator-id-8\" class=\"sk-toggleable__label sk-toggleable__label-arrow\">ordinal_front_count</label><div class=\"sk-toggleable__content\"><pre>[&#x27;front_camera_count&#x27;]</pre></div></div></div><div class=\"sk-serial\"><div class=\"sk-item\"><div class=\"sk-estimator sk-toggleable\"><input class=\"sk-toggleable__control sk-hidden--visually\" id=\"sk-estimator-id-9\" type=\"checkbox\" ><label for=\"sk-estimator-id-9\" class=\"sk-toggleable__label sk-toggleable__label-arrow\">OrdinalEncoder</label><div class=\"sk-toggleable__content\"><pre>OrdinalEncoder(categories=[[&#x27;no&#x27;, &#x27;Single&#x27;, &#x27;Dual&#x27;]])</pre></div></div></div></div></div></div><div class=\"sk-parallel-item\"><div class=\"sk-item\"><div class=\"sk-label-container\"><div class=\"sk-label sk-toggleable\"><input class=\"sk-toggleable__control sk-hidden--visually\" id=\"sk-estimator-id-10\" type=\"checkbox\" ><label for=\"sk-estimator-id-10\" class=\"sk-toggleable__label sk-toggleable__label-arrow\">remainder</label><div class=\"sk-toggleable__content\"><pre></pre></div></div></div><div class=\"sk-serial\"><div class=\"sk-item\"><div class=\"sk-estimator sk-toggleable\"><input class=\"sk-toggleable__control sk-hidden--visually\" id=\"sk-estimator-id-11\" type=\"checkbox\" ><label for=\"sk-estimator-id-11\" class=\"sk-toggleable__label sk-toggleable__label-arrow\">passthrough</label><div class=\"sk-toggleable__content\"><pre>passthrough</pre></div></div></div></div></div></div></div></div></div></div>"
            ],
            "text/plain": [
              "ColumnTransformer(remainder='passthrough',\n",
              "                  transformers=[('ordinal_cores',\n",
              "                                 OrdinalEncoder(categories=[['Quad', 'Hexa',\n",
              "                                                             'Octa', 'Deca']]),\n",
              "                                 ['processor_cores']),\n",
              "                                ('ordinal_ostype',\n",
              "                                 OrdinalEncoder(categories=[['Blackberry',\n",
              "                                                             'Android',\n",
              "                                                             'Hongmeng',\n",
              "                                                             'iOS']]),\n",
              "                                 ['os_type']),\n",
              "                                ('ordinal_rear_count',\n",
              "                                 OrdinalEncoder(categories=[['single', 'Dual',\n",
              "                                                             'Triple',\n",
              "                                                             'Quad']]),\n",
              "                                 ['rear_camera_count']),\n",
              "                                ('ordinal_front_count',\n",
              "                                 OrdinalEncoder(categories=[['no', 'Single',\n",
              "                                                             'Dual']]),\n",
              "                                 ['front_camera_count'])],\n",
              "                  verbose_feature_names_out=False)"
            ]
          },
          "execution_count": 108,
          "metadata": {},
          "output_type": "execute_result"
        }
      ],
      "source": [
        "ct1=ColumnTransformer([(\"ordinal_cores\",OrdinalEncoder(categories=[[\"Quad\",\"Hexa\",\"Octa\",\"Deca\"]]),[\"processor_cores\"]),\n",
        "                      (\"ordinal_ostype\",OrdinalEncoder(categories=[[\"Blackberry\",\"Android\",\"Hongmeng\",\"iOS\"]]),[\"os_type\"]),\n",
        "                      (\"ordinal_rear_count\",OrdinalEncoder(categories=[[\"single\",\"Dual\",\"Triple\",\"Quad\"]]),[\"rear_camera_count\"]),\n",
        "                      (\"ordinal_front_count\",OrdinalEncoder(categories=[[\"no\",\"Single\",\"Dual\"]]),[\"front_camera_count\"])],remainder=\"passthrough\",verbose_feature_names_out=False)\n",
        "ct1.set_output(transform='pandas')"
      ]
    },
    {
      "cell_type": "code",
      "execution_count": null,
      "id": "51659510",
      "metadata": {
        "id": "51659510",
        "outputId": "58c18b5c-68ac-4653-d485-9de1c6423168"
      },
      "outputs": [
        {
          "data": {
            "text/html": [
              "<style>#sk-container-id-2 {color: black;}#sk-container-id-2 pre{padding: 0;}#sk-container-id-2 div.sk-toggleable {background-color: white;}#sk-container-id-2 label.sk-toggleable__label {cursor: pointer;display: block;width: 100%;margin-bottom: 0;padding: 0.3em;box-sizing: border-box;text-align: center;}#sk-container-id-2 label.sk-toggleable__label-arrow:before {content: \"▸\";float: left;margin-right: 0.25em;color: #696969;}#sk-container-id-2 label.sk-toggleable__label-arrow:hover:before {color: black;}#sk-container-id-2 div.sk-estimator:hover label.sk-toggleable__label-arrow:before {color: black;}#sk-container-id-2 div.sk-toggleable__content {max-height: 0;max-width: 0;overflow: hidden;text-align: left;background-color: #f0f8ff;}#sk-container-id-2 div.sk-toggleable__content pre {margin: 0.2em;color: black;border-radius: 0.25em;background-color: #f0f8ff;}#sk-container-id-2 input.sk-toggleable__control:checked~div.sk-toggleable__content {max-height: 200px;max-width: 100%;overflow: auto;}#sk-container-id-2 input.sk-toggleable__control:checked~label.sk-toggleable__label-arrow:before {content: \"▾\";}#sk-container-id-2 div.sk-estimator input.sk-toggleable__control:checked~label.sk-toggleable__label {background-color: #d4ebff;}#sk-container-id-2 div.sk-label input.sk-toggleable__control:checked~label.sk-toggleable__label {background-color: #d4ebff;}#sk-container-id-2 input.sk-hidden--visually {border: 0;clip: rect(1px 1px 1px 1px);clip: rect(1px, 1px, 1px, 1px);height: 1px;margin: -1px;overflow: hidden;padding: 0;position: absolute;width: 1px;}#sk-container-id-2 div.sk-estimator {font-family: monospace;background-color: #f0f8ff;border: 1px dotted black;border-radius: 0.25em;box-sizing: border-box;margin-bottom: 0.5em;}#sk-container-id-2 div.sk-estimator:hover {background-color: #d4ebff;}#sk-container-id-2 div.sk-parallel-item::after {content: \"\";width: 100%;border-bottom: 1px solid gray;flex-grow: 1;}#sk-container-id-2 div.sk-label:hover label.sk-toggleable__label {background-color: #d4ebff;}#sk-container-id-2 div.sk-serial::before {content: \"\";position: absolute;border-left: 1px solid gray;box-sizing: border-box;top: 0;bottom: 0;left: 50%;z-index: 0;}#sk-container-id-2 div.sk-serial {display: flex;flex-direction: column;align-items: center;background-color: white;padding-right: 0.2em;padding-left: 0.2em;position: relative;}#sk-container-id-2 div.sk-item {position: relative;z-index: 1;}#sk-container-id-2 div.sk-parallel {display: flex;align-items: stretch;justify-content: center;background-color: white;position: relative;}#sk-container-id-2 div.sk-item::before, #sk-container-id-2 div.sk-parallel-item::before {content: \"\";position: absolute;border-left: 1px solid gray;box-sizing: border-box;top: 0;bottom: 0;left: 50%;z-index: -1;}#sk-container-id-2 div.sk-parallel-item {display: flex;flex-direction: column;z-index: 1;position: relative;background-color: white;}#sk-container-id-2 div.sk-parallel-item:first-child::after {align-self: flex-end;width: 50%;}#sk-container-id-2 div.sk-parallel-item:last-child::after {align-self: flex-start;width: 50%;}#sk-container-id-2 div.sk-parallel-item:only-child::after {width: 0;}#sk-container-id-2 div.sk-dashed-wrapped {border: 1px dashed gray;margin: 0 0.4em 0.5em 0.4em;box-sizing: border-box;padding-bottom: 0.4em;background-color: white;}#sk-container-id-2 div.sk-label label {font-family: monospace;font-weight: bold;display: inline-block;line-height: 1.2em;}#sk-container-id-2 div.sk-label-container {text-align: center;}#sk-container-id-2 div.sk-container {/* jupyter's `normalize.less` sets `[hidden] { display: none; }` but bootstrap.min.css set `[hidden] { display: none !important; }` so we also need the `!important` here to be able to override the default hidden behavior on the sphinx rendered scikit-learn.org. See: https://github.com/scikit-learn/scikit-learn/issues/21755 */display: inline-block !important;position: relative;}#sk-container-id-2 div.sk-text-repr-fallback {display: none;}</style><div id=\"sk-container-id-2\" class=\"sk-top-container\"><div class=\"sk-text-repr-fallback\"><pre>ColumnTransformer(remainder=&#x27;passthrough&#x27;,\n",
              "                  transformers=[(&#x27;one_hot_encoding&#x27;,\n",
              "                                 OneHotEncoder(drop=&#x27;first&#x27;, sparse=False),\n",
              "                                 [&#x27;company&#x27;, &#x27;5G&#x27;, &#x27;nfc&#x27;, &#x27;processor_name&#x27;])],\n",
              "                  verbose_feature_names_out=False)</pre><b>In a Jupyter environment, please rerun this cell to show the HTML representation or trust the notebook. <br />On GitHub, the HTML representation is unable to render, please try loading this page with nbviewer.org.</b></div><div class=\"sk-container\" hidden><div class=\"sk-item sk-dashed-wrapped\"><div class=\"sk-label-container\"><div class=\"sk-label sk-toggleable\"><input class=\"sk-toggleable__control sk-hidden--visually\" id=\"sk-estimator-id-12\" type=\"checkbox\" ><label for=\"sk-estimator-id-12\" class=\"sk-toggleable__label sk-toggleable__label-arrow\">ColumnTransformer</label><div class=\"sk-toggleable__content\"><pre>ColumnTransformer(remainder=&#x27;passthrough&#x27;,\n",
              "                  transformers=[(&#x27;one_hot_encoding&#x27;,\n",
              "                                 OneHotEncoder(drop=&#x27;first&#x27;, sparse=False),\n",
              "                                 [&#x27;company&#x27;, &#x27;5G&#x27;, &#x27;nfc&#x27;, &#x27;processor_name&#x27;])],\n",
              "                  verbose_feature_names_out=False)</pre></div></div></div><div class=\"sk-parallel\"><div class=\"sk-parallel-item\"><div class=\"sk-item\"><div class=\"sk-label-container\"><div class=\"sk-label sk-toggleable\"><input class=\"sk-toggleable__control sk-hidden--visually\" id=\"sk-estimator-id-13\" type=\"checkbox\" ><label for=\"sk-estimator-id-13\" class=\"sk-toggleable__label sk-toggleable__label-arrow\">one_hot_encoding</label><div class=\"sk-toggleable__content\"><pre>[&#x27;company&#x27;, &#x27;5G&#x27;, &#x27;nfc&#x27;, &#x27;processor_name&#x27;]</pre></div></div></div><div class=\"sk-serial\"><div class=\"sk-item\"><div class=\"sk-estimator sk-toggleable\"><input class=\"sk-toggleable__control sk-hidden--visually\" id=\"sk-estimator-id-14\" type=\"checkbox\" ><label for=\"sk-estimator-id-14\" class=\"sk-toggleable__label sk-toggleable__label-arrow\">OneHotEncoder</label><div class=\"sk-toggleable__content\"><pre>OneHotEncoder(drop=&#x27;first&#x27;, sparse=False)</pre></div></div></div></div></div></div><div class=\"sk-parallel-item\"><div class=\"sk-item\"><div class=\"sk-label-container\"><div class=\"sk-label sk-toggleable\"><input class=\"sk-toggleable__control sk-hidden--visually\" id=\"sk-estimator-id-15\" type=\"checkbox\" ><label for=\"sk-estimator-id-15\" class=\"sk-toggleable__label sk-toggleable__label-arrow\">remainder</label><div class=\"sk-toggleable__content\"><pre></pre></div></div></div><div class=\"sk-serial\"><div class=\"sk-item\"><div class=\"sk-estimator sk-toggleable\"><input class=\"sk-toggleable__control sk-hidden--visually\" id=\"sk-estimator-id-16\" type=\"checkbox\" ><label for=\"sk-estimator-id-16\" class=\"sk-toggleable__label sk-toggleable__label-arrow\">passthrough</label><div class=\"sk-toggleable__content\"><pre>passthrough</pre></div></div></div></div></div></div></div></div></div></div>"
            ],
            "text/plain": [
              "ColumnTransformer(remainder='passthrough',\n",
              "                  transformers=[('one_hot_encoding',\n",
              "                                 OneHotEncoder(drop='first', sparse=False),\n",
              "                                 ['company', '5G', 'nfc', 'processor_name'])],\n",
              "                  verbose_feature_names_out=False)"
            ]
          },
          "execution_count": 109,
          "metadata": {},
          "output_type": "execute_result"
        }
      ],
      "source": [
        "ct2= ColumnTransformer([(\"one_hot_encoding\",OneHotEncoder(drop=\"first\",sparse=False),[\"company\",\"5G\",\"nfc\",\"processor_name\"])],remainder=\"passthrough\",verbose_feature_names_out=False)\n",
        "ct2.set_output(transform='pandas')"
      ]
    },
    {
      "cell_type": "code",
      "execution_count": null,
      "id": "9547330b",
      "metadata": {
        "id": "9547330b"
      },
      "outputs": [],
      "source": [
        "ct3=ColumnTransformer([(\"scaler\",StandardScaler(),['pixel1', 'pixel2', 'battery_capacity', 'charger_capacity',\n",
        "     'ram_capacity', 'rom','processor_speed', 'screen_size', 'rear_camera','front_camera', ])])\n",
        "# ct3.set_output(transform='pandas')"
      ]
    },
    {
      "cell_type": "code",
      "execution_count": null,
      "id": "f2e65f4f",
      "metadata": {
        "id": "f2e65f4f"
      },
      "outputs": [],
      "source": [
        "pipe=Pipeline([(\"Orinal Encoding\",ct1),\n",
        "           (\"ONEHOT Encoding\",ct2),\n",
        "           (\"Scaling\",ct3)])"
      ]
    },
    {
      "cell_type": "code",
      "execution_count": null,
      "id": "7a8f5187",
      "metadata": {
        "id": "7a8f5187"
      },
      "outputs": [],
      "source": [
        "x=pipe.fit_transform(x)"
      ]
    },
    {
      "cell_type": "markdown",
      "id": "2253eba4",
      "metadata": {
        "id": "2253eba4"
      },
      "source": [
        "## Splitting and Training model"
      ]
    },
    {
      "cell_type": "code",
      "execution_count": null,
      "id": "a5d20d6d",
      "metadata": {
        "id": "a5d20d6d"
      },
      "outputs": [],
      "source": [
        "xtrain,xtest ,ytrain,ytest =train_test_split(x,y, test_size=0.3,random_state=55)\n"
      ]
    },
    {
      "cell_type": "code",
      "execution_count": null,
      "id": "727461a2",
      "metadata": {
        "id": "727461a2",
        "outputId": "eb91a50b-2a6d-4745-c179-9abbc92cadc5"
      },
      "outputs": [
        {
          "data": {
            "text/html": [
              "<style>#sk-container-id-3 {color: black;}#sk-container-id-3 pre{padding: 0;}#sk-container-id-3 div.sk-toggleable {background-color: white;}#sk-container-id-3 label.sk-toggleable__label {cursor: pointer;display: block;width: 100%;margin-bottom: 0;padding: 0.3em;box-sizing: border-box;text-align: center;}#sk-container-id-3 label.sk-toggleable__label-arrow:before {content: \"▸\";float: left;margin-right: 0.25em;color: #696969;}#sk-container-id-3 label.sk-toggleable__label-arrow:hover:before {color: black;}#sk-container-id-3 div.sk-estimator:hover label.sk-toggleable__label-arrow:before {color: black;}#sk-container-id-3 div.sk-toggleable__content {max-height: 0;max-width: 0;overflow: hidden;text-align: left;background-color: #f0f8ff;}#sk-container-id-3 div.sk-toggleable__content pre {margin: 0.2em;color: black;border-radius: 0.25em;background-color: #f0f8ff;}#sk-container-id-3 input.sk-toggleable__control:checked~div.sk-toggleable__content {max-height: 200px;max-width: 100%;overflow: auto;}#sk-container-id-3 input.sk-toggleable__control:checked~label.sk-toggleable__label-arrow:before {content: \"▾\";}#sk-container-id-3 div.sk-estimator input.sk-toggleable__control:checked~label.sk-toggleable__label {background-color: #d4ebff;}#sk-container-id-3 div.sk-label input.sk-toggleable__control:checked~label.sk-toggleable__label {background-color: #d4ebff;}#sk-container-id-3 input.sk-hidden--visually {border: 0;clip: rect(1px 1px 1px 1px);clip: rect(1px, 1px, 1px, 1px);height: 1px;margin: -1px;overflow: hidden;padding: 0;position: absolute;width: 1px;}#sk-container-id-3 div.sk-estimator {font-family: monospace;background-color: #f0f8ff;border: 1px dotted black;border-radius: 0.25em;box-sizing: border-box;margin-bottom: 0.5em;}#sk-container-id-3 div.sk-estimator:hover {background-color: #d4ebff;}#sk-container-id-3 div.sk-parallel-item::after {content: \"\";width: 100%;border-bottom: 1px solid gray;flex-grow: 1;}#sk-container-id-3 div.sk-label:hover label.sk-toggleable__label {background-color: #d4ebff;}#sk-container-id-3 div.sk-serial::before {content: \"\";position: absolute;border-left: 1px solid gray;box-sizing: border-box;top: 0;bottom: 0;left: 50%;z-index: 0;}#sk-container-id-3 div.sk-serial {display: flex;flex-direction: column;align-items: center;background-color: white;padding-right: 0.2em;padding-left: 0.2em;position: relative;}#sk-container-id-3 div.sk-item {position: relative;z-index: 1;}#sk-container-id-3 div.sk-parallel {display: flex;align-items: stretch;justify-content: center;background-color: white;position: relative;}#sk-container-id-3 div.sk-item::before, #sk-container-id-3 div.sk-parallel-item::before {content: \"\";position: absolute;border-left: 1px solid gray;box-sizing: border-box;top: 0;bottom: 0;left: 50%;z-index: -1;}#sk-container-id-3 div.sk-parallel-item {display: flex;flex-direction: column;z-index: 1;position: relative;background-color: white;}#sk-container-id-3 div.sk-parallel-item:first-child::after {align-self: flex-end;width: 50%;}#sk-container-id-3 div.sk-parallel-item:last-child::after {align-self: flex-start;width: 50%;}#sk-container-id-3 div.sk-parallel-item:only-child::after {width: 0;}#sk-container-id-3 div.sk-dashed-wrapped {border: 1px dashed gray;margin: 0 0.4em 0.5em 0.4em;box-sizing: border-box;padding-bottom: 0.4em;background-color: white;}#sk-container-id-3 div.sk-label label {font-family: monospace;font-weight: bold;display: inline-block;line-height: 1.2em;}#sk-container-id-3 div.sk-label-container {text-align: center;}#sk-container-id-3 div.sk-container {/* jupyter's `normalize.less` sets `[hidden] { display: none; }` but bootstrap.min.css set `[hidden] { display: none !important; }` so we also need the `!important` here to be able to override the default hidden behavior on the sphinx rendered scikit-learn.org. See: https://github.com/scikit-learn/scikit-learn/issues/21755 */display: inline-block !important;position: relative;}#sk-container-id-3 div.sk-text-repr-fallback {display: none;}</style><div id=\"sk-container-id-3\" class=\"sk-top-container\"><div class=\"sk-text-repr-fallback\"><pre>RandomForestRegressor()</pre><b>In a Jupyter environment, please rerun this cell to show the HTML representation or trust the notebook. <br />On GitHub, the HTML representation is unable to render, please try loading this page with nbviewer.org.</b></div><div class=\"sk-container\" hidden><div class=\"sk-item\"><div class=\"sk-estimator sk-toggleable\"><input class=\"sk-toggleable__control sk-hidden--visually\" id=\"sk-estimator-id-17\" type=\"checkbox\" checked><label for=\"sk-estimator-id-17\" class=\"sk-toggleable__label sk-toggleable__label-arrow\">RandomForestRegressor</label><div class=\"sk-toggleable__content\"><pre>RandomForestRegressor()</pre></div></div></div></div></div>"
            ],
            "text/plain": [
              "RandomForestRegressor()"
            ]
          },
          "execution_count": 114,
          "metadata": {},
          "output_type": "execute_result"
        }
      ],
      "source": [
        "rf=RandomForestRegressor()\n",
        "rf.fit(xtrain,ytrain)"
      ]
    },
    {
      "cell_type": "code",
      "execution_count": null,
      "id": "bdf14cac",
      "metadata": {
        "id": "bdf14cac",
        "outputId": "edda9319-a9ab-4a60-8be4-863e52fc3b7f"
      },
      "outputs": [
        {
          "data": {
            "text/plain": [
              "0.9838743549273951"
            ]
          },
          "execution_count": 115,
          "metadata": {},
          "output_type": "execute_result"
        }
      ],
      "source": [
        "r2_score(ytrain,rf.predict(xtrain))"
      ]
    },
    {
      "cell_type": "code",
      "execution_count": null,
      "id": "e3c172cd",
      "metadata": {
        "id": "e3c172cd",
        "outputId": "95093f4c-8098-482a-f86f-0d872c249c65"
      },
      "outputs": [
        {
          "data": {
            "text/plain": [
              "0.9283008639447808"
            ]
          },
          "execution_count": 116,
          "metadata": {},
          "output_type": "execute_result"
        }
      ],
      "source": [
        "r2_score(ytest,rf.predict(xtest))"
      ]
    },
    {
      "cell_type": "markdown",
      "id": "391c41ae",
      "metadata": {
        "id": "391c41ae"
      },
      "source": [
        "## Hyperparameter Tuning"
      ]
    },
    {
      "cell_type": "code",
      "execution_count": null,
      "id": "4c51ae15",
      "metadata": {
        "id": "4c51ae15"
      },
      "outputs": [],
      "source": [
        "params=[{\"max_depth\":[5,9],\"min_samples_split\":[10,20,30]}]\n",
        "gsv=GridSearchCV(rf,cv=5,param_grid=params,n_jobs=-1,scoring=\"r2\")"
      ]
    },
    {
      "cell_type": "code",
      "execution_count": null,
      "id": "3e7aab8a",
      "metadata": {
        "id": "3e7aab8a",
        "outputId": "d3f7c2da-be10-4fd2-93a1-95a689491632"
      },
      "outputs": [
        {
          "data": {
            "text/html": [
              "<style>#sk-container-id-4 {color: black;}#sk-container-id-4 pre{padding: 0;}#sk-container-id-4 div.sk-toggleable {background-color: white;}#sk-container-id-4 label.sk-toggleable__label {cursor: pointer;display: block;width: 100%;margin-bottom: 0;padding: 0.3em;box-sizing: border-box;text-align: center;}#sk-container-id-4 label.sk-toggleable__label-arrow:before {content: \"▸\";float: left;margin-right: 0.25em;color: #696969;}#sk-container-id-4 label.sk-toggleable__label-arrow:hover:before {color: black;}#sk-container-id-4 div.sk-estimator:hover label.sk-toggleable__label-arrow:before {color: black;}#sk-container-id-4 div.sk-toggleable__content {max-height: 0;max-width: 0;overflow: hidden;text-align: left;background-color: #f0f8ff;}#sk-container-id-4 div.sk-toggleable__content pre {margin: 0.2em;color: black;border-radius: 0.25em;background-color: #f0f8ff;}#sk-container-id-4 input.sk-toggleable__control:checked~div.sk-toggleable__content {max-height: 200px;max-width: 100%;overflow: auto;}#sk-container-id-4 input.sk-toggleable__control:checked~label.sk-toggleable__label-arrow:before {content: \"▾\";}#sk-container-id-4 div.sk-estimator input.sk-toggleable__control:checked~label.sk-toggleable__label {background-color: #d4ebff;}#sk-container-id-4 div.sk-label input.sk-toggleable__control:checked~label.sk-toggleable__label {background-color: #d4ebff;}#sk-container-id-4 input.sk-hidden--visually {border: 0;clip: rect(1px 1px 1px 1px);clip: rect(1px, 1px, 1px, 1px);height: 1px;margin: -1px;overflow: hidden;padding: 0;position: absolute;width: 1px;}#sk-container-id-4 div.sk-estimator {font-family: monospace;background-color: #f0f8ff;border: 1px dotted black;border-radius: 0.25em;box-sizing: border-box;margin-bottom: 0.5em;}#sk-container-id-4 div.sk-estimator:hover {background-color: #d4ebff;}#sk-container-id-4 div.sk-parallel-item::after {content: \"\";width: 100%;border-bottom: 1px solid gray;flex-grow: 1;}#sk-container-id-4 div.sk-label:hover label.sk-toggleable__label {background-color: #d4ebff;}#sk-container-id-4 div.sk-serial::before {content: \"\";position: absolute;border-left: 1px solid gray;box-sizing: border-box;top: 0;bottom: 0;left: 50%;z-index: 0;}#sk-container-id-4 div.sk-serial {display: flex;flex-direction: column;align-items: center;background-color: white;padding-right: 0.2em;padding-left: 0.2em;position: relative;}#sk-container-id-4 div.sk-item {position: relative;z-index: 1;}#sk-container-id-4 div.sk-parallel {display: flex;align-items: stretch;justify-content: center;background-color: white;position: relative;}#sk-container-id-4 div.sk-item::before, #sk-container-id-4 div.sk-parallel-item::before {content: \"\";position: absolute;border-left: 1px solid gray;box-sizing: border-box;top: 0;bottom: 0;left: 50%;z-index: -1;}#sk-container-id-4 div.sk-parallel-item {display: flex;flex-direction: column;z-index: 1;position: relative;background-color: white;}#sk-container-id-4 div.sk-parallel-item:first-child::after {align-self: flex-end;width: 50%;}#sk-container-id-4 div.sk-parallel-item:last-child::after {align-self: flex-start;width: 50%;}#sk-container-id-4 div.sk-parallel-item:only-child::after {width: 0;}#sk-container-id-4 div.sk-dashed-wrapped {border: 1px dashed gray;margin: 0 0.4em 0.5em 0.4em;box-sizing: border-box;padding-bottom: 0.4em;background-color: white;}#sk-container-id-4 div.sk-label label {font-family: monospace;font-weight: bold;display: inline-block;line-height: 1.2em;}#sk-container-id-4 div.sk-label-container {text-align: center;}#sk-container-id-4 div.sk-container {/* jupyter's `normalize.less` sets `[hidden] { display: none; }` but bootstrap.min.css set `[hidden] { display: none !important; }` so we also need the `!important` here to be able to override the default hidden behavior on the sphinx rendered scikit-learn.org. See: https://github.com/scikit-learn/scikit-learn/issues/21755 */display: inline-block !important;position: relative;}#sk-container-id-4 div.sk-text-repr-fallback {display: none;}</style><div id=\"sk-container-id-4\" class=\"sk-top-container\"><div class=\"sk-text-repr-fallback\"><pre>GridSearchCV(cv=5, estimator=RandomForestRegressor(), n_jobs=-1,\n",
              "             param_grid=[{&#x27;max_depth&#x27;: [5, 9],\n",
              "                          &#x27;min_samples_split&#x27;: [10, 20, 30]}],\n",
              "             scoring=&#x27;r2&#x27;)</pre><b>In a Jupyter environment, please rerun this cell to show the HTML representation or trust the notebook. <br />On GitHub, the HTML representation is unable to render, please try loading this page with nbviewer.org.</b></div><div class=\"sk-container\" hidden><div class=\"sk-item sk-dashed-wrapped\"><div class=\"sk-label-container\"><div class=\"sk-label sk-toggleable\"><input class=\"sk-toggleable__control sk-hidden--visually\" id=\"sk-estimator-id-18\" type=\"checkbox\" ><label for=\"sk-estimator-id-18\" class=\"sk-toggleable__label sk-toggleable__label-arrow\">GridSearchCV</label><div class=\"sk-toggleable__content\"><pre>GridSearchCV(cv=5, estimator=RandomForestRegressor(), n_jobs=-1,\n",
              "             param_grid=[{&#x27;max_depth&#x27;: [5, 9],\n",
              "                          &#x27;min_samples_split&#x27;: [10, 20, 30]}],\n",
              "             scoring=&#x27;r2&#x27;)</pre></div></div></div><div class=\"sk-parallel\"><div class=\"sk-parallel-item\"><div class=\"sk-item\"><div class=\"sk-label-container\"><div class=\"sk-label sk-toggleable\"><input class=\"sk-toggleable__control sk-hidden--visually\" id=\"sk-estimator-id-19\" type=\"checkbox\" ><label for=\"sk-estimator-id-19\" class=\"sk-toggleable__label sk-toggleable__label-arrow\">estimator: RandomForestRegressor</label><div class=\"sk-toggleable__content\"><pre>RandomForestRegressor()</pre></div></div></div><div class=\"sk-serial\"><div class=\"sk-item\"><div class=\"sk-estimator sk-toggleable\"><input class=\"sk-toggleable__control sk-hidden--visually\" id=\"sk-estimator-id-20\" type=\"checkbox\" ><label for=\"sk-estimator-id-20\" class=\"sk-toggleable__label sk-toggleable__label-arrow\">RandomForestRegressor</label><div class=\"sk-toggleable__content\"><pre>RandomForestRegressor()</pre></div></div></div></div></div></div></div></div></div></div>"
            ],
            "text/plain": [
              "GridSearchCV(cv=5, estimator=RandomForestRegressor(), n_jobs=-1,\n",
              "             param_grid=[{'max_depth': [5, 9],\n",
              "                          'min_samples_split': [10, 20, 30]}],\n",
              "             scoring='r2')"
            ]
          },
          "execution_count": 118,
          "metadata": {},
          "output_type": "execute_result"
        }
      ],
      "source": [
        "gsv.fit(xtrain,ytrain)"
      ]
    },
    {
      "cell_type": "code",
      "execution_count": null,
      "id": "18b32eed",
      "metadata": {
        "id": "18b32eed",
        "outputId": "8df00030-8753-4749-cf70-c4e749d00f09"
      },
      "outputs": [
        {
          "data": {
            "text/html": [
              "<style>#sk-container-id-5 {color: black;}#sk-container-id-5 pre{padding: 0;}#sk-container-id-5 div.sk-toggleable {background-color: white;}#sk-container-id-5 label.sk-toggleable__label {cursor: pointer;display: block;width: 100%;margin-bottom: 0;padding: 0.3em;box-sizing: border-box;text-align: center;}#sk-container-id-5 label.sk-toggleable__label-arrow:before {content: \"▸\";float: left;margin-right: 0.25em;color: #696969;}#sk-container-id-5 label.sk-toggleable__label-arrow:hover:before {color: black;}#sk-container-id-5 div.sk-estimator:hover label.sk-toggleable__label-arrow:before {color: black;}#sk-container-id-5 div.sk-toggleable__content {max-height: 0;max-width: 0;overflow: hidden;text-align: left;background-color: #f0f8ff;}#sk-container-id-5 div.sk-toggleable__content pre {margin: 0.2em;color: black;border-radius: 0.25em;background-color: #f0f8ff;}#sk-container-id-5 input.sk-toggleable__control:checked~div.sk-toggleable__content {max-height: 200px;max-width: 100%;overflow: auto;}#sk-container-id-5 input.sk-toggleable__control:checked~label.sk-toggleable__label-arrow:before {content: \"▾\";}#sk-container-id-5 div.sk-estimator input.sk-toggleable__control:checked~label.sk-toggleable__label {background-color: #d4ebff;}#sk-container-id-5 div.sk-label input.sk-toggleable__control:checked~label.sk-toggleable__label {background-color: #d4ebff;}#sk-container-id-5 input.sk-hidden--visually {border: 0;clip: rect(1px 1px 1px 1px);clip: rect(1px, 1px, 1px, 1px);height: 1px;margin: -1px;overflow: hidden;padding: 0;position: absolute;width: 1px;}#sk-container-id-5 div.sk-estimator {font-family: monospace;background-color: #f0f8ff;border: 1px dotted black;border-radius: 0.25em;box-sizing: border-box;margin-bottom: 0.5em;}#sk-container-id-5 div.sk-estimator:hover {background-color: #d4ebff;}#sk-container-id-5 div.sk-parallel-item::after {content: \"\";width: 100%;border-bottom: 1px solid gray;flex-grow: 1;}#sk-container-id-5 div.sk-label:hover label.sk-toggleable__label {background-color: #d4ebff;}#sk-container-id-5 div.sk-serial::before {content: \"\";position: absolute;border-left: 1px solid gray;box-sizing: border-box;top: 0;bottom: 0;left: 50%;z-index: 0;}#sk-container-id-5 div.sk-serial {display: flex;flex-direction: column;align-items: center;background-color: white;padding-right: 0.2em;padding-left: 0.2em;position: relative;}#sk-container-id-5 div.sk-item {position: relative;z-index: 1;}#sk-container-id-5 div.sk-parallel {display: flex;align-items: stretch;justify-content: center;background-color: white;position: relative;}#sk-container-id-5 div.sk-item::before, #sk-container-id-5 div.sk-parallel-item::before {content: \"\";position: absolute;border-left: 1px solid gray;box-sizing: border-box;top: 0;bottom: 0;left: 50%;z-index: -1;}#sk-container-id-5 div.sk-parallel-item {display: flex;flex-direction: column;z-index: 1;position: relative;background-color: white;}#sk-container-id-5 div.sk-parallel-item:first-child::after {align-self: flex-end;width: 50%;}#sk-container-id-5 div.sk-parallel-item:last-child::after {align-self: flex-start;width: 50%;}#sk-container-id-5 div.sk-parallel-item:only-child::after {width: 0;}#sk-container-id-5 div.sk-dashed-wrapped {border: 1px dashed gray;margin: 0 0.4em 0.5em 0.4em;box-sizing: border-box;padding-bottom: 0.4em;background-color: white;}#sk-container-id-5 div.sk-label label {font-family: monospace;font-weight: bold;display: inline-block;line-height: 1.2em;}#sk-container-id-5 div.sk-label-container {text-align: center;}#sk-container-id-5 div.sk-container {/* jupyter's `normalize.less` sets `[hidden] { display: none; }` but bootstrap.min.css set `[hidden] { display: none !important; }` so we also need the `!important` here to be able to override the default hidden behavior on the sphinx rendered scikit-learn.org. See: https://github.com/scikit-learn/scikit-learn/issues/21755 */display: inline-block !important;position: relative;}#sk-container-id-5 div.sk-text-repr-fallback {display: none;}</style><div id=\"sk-container-id-5\" class=\"sk-top-container\"><div class=\"sk-text-repr-fallback\"><pre>RandomForestRegressor(max_depth=9, min_samples_split=10)</pre><b>In a Jupyter environment, please rerun this cell to show the HTML representation or trust the notebook. <br />On GitHub, the HTML representation is unable to render, please try loading this page with nbviewer.org.</b></div><div class=\"sk-container\" hidden><div class=\"sk-item\"><div class=\"sk-estimator sk-toggleable\"><input class=\"sk-toggleable__control sk-hidden--visually\" id=\"sk-estimator-id-21\" type=\"checkbox\" checked><label for=\"sk-estimator-id-21\" class=\"sk-toggleable__label sk-toggleable__label-arrow\">RandomForestRegressor</label><div class=\"sk-toggleable__content\"><pre>RandomForestRegressor(max_depth=9, min_samples_split=10)</pre></div></div></div></div></div>"
            ],
            "text/plain": [
              "RandomForestRegressor(max_depth=9, min_samples_split=10)"
            ]
          },
          "execution_count": 119,
          "metadata": {},
          "output_type": "execute_result"
        }
      ],
      "source": [
        "gsv.best_estimator_"
      ]
    },
    {
      "cell_type": "markdown",
      "id": "5d902e39",
      "metadata": {
        "id": "5d902e39"
      },
      "source": [
        "# Retraining after Tuning Hyperparameters"
      ]
    },
    {
      "cell_type": "code",
      "execution_count": null,
      "id": "640baef9",
      "metadata": {
        "id": "640baef9",
        "outputId": "4f3f7a0c-0aff-42bb-af73-b8f2d3a01880"
      },
      "outputs": [
        {
          "data": {
            "text/html": [
              "<style>#sk-container-id-7 {color: black;}#sk-container-id-7 pre{padding: 0;}#sk-container-id-7 div.sk-toggleable {background-color: white;}#sk-container-id-7 label.sk-toggleable__label {cursor: pointer;display: block;width: 100%;margin-bottom: 0;padding: 0.3em;box-sizing: border-box;text-align: center;}#sk-container-id-7 label.sk-toggleable__label-arrow:before {content: \"▸\";float: left;margin-right: 0.25em;color: #696969;}#sk-container-id-7 label.sk-toggleable__label-arrow:hover:before {color: black;}#sk-container-id-7 div.sk-estimator:hover label.sk-toggleable__label-arrow:before {color: black;}#sk-container-id-7 div.sk-toggleable__content {max-height: 0;max-width: 0;overflow: hidden;text-align: left;background-color: #f0f8ff;}#sk-container-id-7 div.sk-toggleable__content pre {margin: 0.2em;color: black;border-radius: 0.25em;background-color: #f0f8ff;}#sk-container-id-7 input.sk-toggleable__control:checked~div.sk-toggleable__content {max-height: 200px;max-width: 100%;overflow: auto;}#sk-container-id-7 input.sk-toggleable__control:checked~label.sk-toggleable__label-arrow:before {content: \"▾\";}#sk-container-id-7 div.sk-estimator input.sk-toggleable__control:checked~label.sk-toggleable__label {background-color: #d4ebff;}#sk-container-id-7 div.sk-label input.sk-toggleable__control:checked~label.sk-toggleable__label {background-color: #d4ebff;}#sk-container-id-7 input.sk-hidden--visually {border: 0;clip: rect(1px 1px 1px 1px);clip: rect(1px, 1px, 1px, 1px);height: 1px;margin: -1px;overflow: hidden;padding: 0;position: absolute;width: 1px;}#sk-container-id-7 div.sk-estimator {font-family: monospace;background-color: #f0f8ff;border: 1px dotted black;border-radius: 0.25em;box-sizing: border-box;margin-bottom: 0.5em;}#sk-container-id-7 div.sk-estimator:hover {background-color: #d4ebff;}#sk-container-id-7 div.sk-parallel-item::after {content: \"\";width: 100%;border-bottom: 1px solid gray;flex-grow: 1;}#sk-container-id-7 div.sk-label:hover label.sk-toggleable__label {background-color: #d4ebff;}#sk-container-id-7 div.sk-serial::before {content: \"\";position: absolute;border-left: 1px solid gray;box-sizing: border-box;top: 0;bottom: 0;left: 50%;z-index: 0;}#sk-container-id-7 div.sk-serial {display: flex;flex-direction: column;align-items: center;background-color: white;padding-right: 0.2em;padding-left: 0.2em;position: relative;}#sk-container-id-7 div.sk-item {position: relative;z-index: 1;}#sk-container-id-7 div.sk-parallel {display: flex;align-items: stretch;justify-content: center;background-color: white;position: relative;}#sk-container-id-7 div.sk-item::before, #sk-container-id-7 div.sk-parallel-item::before {content: \"\";position: absolute;border-left: 1px solid gray;box-sizing: border-box;top: 0;bottom: 0;left: 50%;z-index: -1;}#sk-container-id-7 div.sk-parallel-item {display: flex;flex-direction: column;z-index: 1;position: relative;background-color: white;}#sk-container-id-7 div.sk-parallel-item:first-child::after {align-self: flex-end;width: 50%;}#sk-container-id-7 div.sk-parallel-item:last-child::after {align-self: flex-start;width: 50%;}#sk-container-id-7 div.sk-parallel-item:only-child::after {width: 0;}#sk-container-id-7 div.sk-dashed-wrapped {border: 1px dashed gray;margin: 0 0.4em 0.5em 0.4em;box-sizing: border-box;padding-bottom: 0.4em;background-color: white;}#sk-container-id-7 div.sk-label label {font-family: monospace;font-weight: bold;display: inline-block;line-height: 1.2em;}#sk-container-id-7 div.sk-label-container {text-align: center;}#sk-container-id-7 div.sk-container {/* jupyter's `normalize.less` sets `[hidden] { display: none; }` but bootstrap.min.css set `[hidden] { display: none !important; }` so we also need the `!important` here to be able to override the default hidden behavior on the sphinx rendered scikit-learn.org. See: https://github.com/scikit-learn/scikit-learn/issues/21755 */display: inline-block !important;position: relative;}#sk-container-id-7 div.sk-text-repr-fallback {display: none;}</style><div id=\"sk-container-id-7\" class=\"sk-top-container\"><div class=\"sk-text-repr-fallback\"><pre>RandomForestRegressor(max_depth=9, min_samples_split=20)</pre><b>In a Jupyter environment, please rerun this cell to show the HTML representation or trust the notebook. <br />On GitHub, the HTML representation is unable to render, please try loading this page with nbviewer.org.</b></div><div class=\"sk-container\" hidden><div class=\"sk-item\"><div class=\"sk-estimator sk-toggleable\"><input class=\"sk-toggleable__control sk-hidden--visually\" id=\"sk-estimator-id-23\" type=\"checkbox\" checked><label for=\"sk-estimator-id-23\" class=\"sk-toggleable__label sk-toggleable__label-arrow\">RandomForestRegressor</label><div class=\"sk-toggleable__content\"><pre>RandomForestRegressor(max_depth=9, min_samples_split=20)</pre></div></div></div></div></div>"
            ],
            "text/plain": [
              "RandomForestRegressor(max_depth=9, min_samples_split=20)"
            ]
          },
          "execution_count": 122,
          "metadata": {},
          "output_type": "execute_result"
        }
      ],
      "source": [
        "rf=RandomForestRegressor(max_depth=9, min_samples_split=20)\n",
        "rf.fit(xtrain,ytrain)"
      ]
    },
    {
      "cell_type": "code",
      "execution_count": null,
      "id": "7907bdac",
      "metadata": {
        "id": "7907bdac",
        "outputId": "74864573-a7f5-4af6-84eb-6a637d6d5ac2"
      },
      "outputs": [
        {
          "name": "stdout",
          "output_type": "stream",
          "text": [
            "0.9035474592720295\n"
          ]
        },
        {
          "data": {
            "text/plain": [
              "0.8853390457959834"
            ]
          },
          "execution_count": 123,
          "metadata": {},
          "output_type": "execute_result"
        }
      ],
      "source": [
        "print(r2_score(ytrain,rf.predict(xtrain)))\n",
        "r2_score(ytest,rf.predict(xtest))"
      ]
    },
    {
      "cell_type": "code",
      "execution_count": null,
      "id": "b7d65af6",
      "metadata": {
        "id": "b7d65af6"
      },
      "outputs": [],
      "source": [
        "pickle.dump(pipe,open(\"transform.pkl\",\"wb\"))\n",
        "pickle.dump(rf,open(\"random_forest.pkl\",\"wb\"))"
      ]
    },
    {
      "cell_type": "code",
      "execution_count": null,
      "id": "d8ffa9a2",
      "metadata": {
        "id": "d8ffa9a2"
      },
      "outputs": [],
      "source": []
    },
    {
      "cell_type": "code",
      "execution_count": null,
      "id": "cc44c3b9",
      "metadata": {
        "id": "cc44c3b9"
      },
      "outputs": [],
      "source": []
    },
    {
      "cell_type": "code",
      "execution_count": null,
      "id": "f34ab56a",
      "metadata": {
        "id": "f34ab56a"
      },
      "outputs": [],
      "source": []
    },
    {
      "cell_type": "code",
      "execution_count": null,
      "id": "d1705124",
      "metadata": {
        "id": "d1705124"
      },
      "outputs": [],
      "source": []
    },
    {
      "cell_type": "code",
      "execution_count": null,
      "id": "6c70751d",
      "metadata": {
        "id": "6c70751d"
      },
      "outputs": [],
      "source": []
    }
  ],
  "metadata": {
    "kernelspec": {
      "display_name": "Python 3 (ipykernel)",
      "language": "python",
      "name": "python3"
    },
    "language_info": {
      "codemirror_mode": {
        "name": "ipython",
        "version": 3
      },
      "file_extension": ".py",
      "mimetype": "text/x-python",
      "name": "python",
      "nbconvert_exporter": "python",
      "pygments_lexer": "ipython3",
      "version": "3.11.4"
    },
    "colab": {
      "provenance": []
    }
  },
  "nbformat": 4,
  "nbformat_minor": 5
}