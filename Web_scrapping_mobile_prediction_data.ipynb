{
  "nbformat": 4,
  "nbformat_minor": 0,
  "metadata": {
    "colab": {
      "provenance": []
    },
    "kernelspec": {
      "name": "python3",
      "display_name": "Python 3"
    },
    "language_info": {
      "name": "python"
    }
  },
  "cells": [
    {
      "cell_type": "code",
      "source": [
        "import time\n",
        "import re\n",
        "\n",
        "from selenium import webdriver\n",
        "from selenium.webdriver.chrome.service import Service\n",
        "from selenium.webdriver.common.by import By\n",
        "import pandas as pd\n",
        "from bs4 import BeautifulSoup"
      ],
      "metadata": {
        "id": "C7IdRXR1jT1J"
      },
      "execution_count": null,
      "outputs": []
    },
    {
      "cell_type": "code",
      "source": [
        "driver = webdriver.Chrome()"
      ],
      "metadata": {
        "id": "mYfTWcjVjZFf"
      },
      "execution_count": null,
      "outputs": []
    },
    {
      "cell_type": "code",
      "source": [
        "driver.get('https://www.smartprix.com/mobiles/apple-google-infinix-iqoo-micromax-motorola-nothing-oneplus-oppo-poco-realme-samsung-vivo-xiaomi-brand')\n",
        "time.sleep(3)"
      ],
      "metadata": {
        "id": "Km5d2_B6jZIW"
      },
      "execution_count": null,
      "outputs": []
    },
    {
      "cell_type": "code",
      "source": [
        "driver.find_element(by=By.XPATH, value='//*[@id=\"app\"]/main/aside/div/div[5]/div[2]/label[1]/input').click()\n",
        "time.sleep(1)\n",
        "time.sleep(3)\n",
        "driver.find_element(by=By.XPATH, value='//*[@id=\"app\"]/main/aside/div/div[5]/div[2]/label[2]/input').click()\n",
        "time.sleep(2)\n",
        "\n"
      ],
      "metadata": {
        "id": "SRPMnKSzjZLf"
      },
      "execution_count": null,
      "outputs": []
    },
    {
      "cell_type": "code",
      "source": [
        "old_height = driver.execute_script('return document.body.scrollHeight')\n",
        "\n",
        "while True:\n",
        "\n",
        "    driver.find_element(by=By.XPATH, value='//*[@id=\"app\"]/main/div[1]/div[2]/div[3]').click()\n",
        "    time.sleep(3)\n",
        "\n",
        "    new_height = driver.execute_script('return document.body.scrollHeight')\n",
        "\n",
        "\n",
        "\n",
        "    if new_height == old_height:\n",
        "        break\n",
        "\n",
        "    old_height = new_height\n",
        "\n"
      ],
      "metadata": {
        "id": "N9r5vGcRjZOJ"
      },
      "execution_count": null,
      "outputs": []
    },
    {
      "cell_type": "code",
      "source": [
        "html=driver.page_source\n",
        "with open('C:/Users/harshit/Desktop/datasets/ipl dataset/smartprix.html','w',encoding='utf-8') as f:\n",
        "    f.write(html)"
      ],
      "metadata": {
        "id": "ni1sfH_sjZRJ"
      },
      "execution_count": null,
      "outputs": []
    },
    {
      "cell_type": "code",
      "source": [
        "driver.quit()"
      ],
      "metadata": {
        "id": "PlXE_CXOjtPT"
      },
      "execution_count": null,
      "outputs": []
    }
  ]
}